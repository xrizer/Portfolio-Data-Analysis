{
  "nbformat": 4,
  "nbformat_minor": 0,
  "metadata": {
    "colab": {
      "name": "UAS KELOMPOK 1.ipynb",
      "provenance": [],
      "include_colab_link": true
    },
    "kernelspec": {
      "display_name": "Python 3",
      "name": "python3"
    },
    "language_info": {
      "name": "python"
    }
  },
  "cells": [
    {
      "cell_type": "markdown",
      "metadata": {
        "id": "view-in-github",
        "colab_type": "text"
      },
      "source": [
        "<a href=\"https://colab.research.google.com/github/xrizer/Portfolio-Data-Analysis/blob/main/UAS_KELOMPOK_1.ipynb\" target=\"_parent\"><img src=\"https://colab.research.google.com/assets/colab-badge.svg\" alt=\"Open In Colab\"/></a>"
      ]
    },
    {
      "cell_type": "markdown",
      "metadata": {
        "id": "uZzFNNz9a6fV"
      },
      "source": [
        "#TINGKAT PENGANGGURAN MUDA DI INDONESIA (1991 - 2016)-SDG 8"
      ]
    },
    {
      "cell_type": "markdown",
      "metadata": {
        "id": "YUZhL_gXzoAI"
      },
      "source": [
        "**Ketua Kelompok Aqshol Afifi(11190930000057)**"
      ]
    },
    {
      "cell_type": "code",
      "metadata": {
        "id": "-106Op9Md-8c"
      },
      "source": [
        "import numpy as np\n",
        "import pandas as pd\n",
        "import matplotlib.pyplot as plt\n",
        "from plotly.offline import iplot\n",
        "import plotly.graph_objs as go\n",
        "import plotly.tools as tls\n",
        "import seaborn as sns\n",
        "import warnings\n",
        "warnings.filterwarnings('ignore')\n",
        "\n"
      ],
      "execution_count": null,
      "outputs": []
    },
    {
      "cell_type": "code",
      "metadata": {
        "id": "scDYSoHdebhz"
      },
      "source": [
        "# data SDG 8 ASEAN (worldbank data)\n",
        "data2 = pd.read_excel('https://github.com/xrizer/tugas-programming-class/blob/master/datafinal.xlsx?raw=true')"
      ],
      "execution_count": null,
      "outputs": []
    },
    {
      "cell_type": "code",
      "metadata": {
        "id": "hprcwpMSef9N"
      },
      "source": [
        "#drop kolom tahun 1990\n",
        "data2.drop(columns=1990,axis=1,inplace=True)"
      ],
      "execution_count": null,
      "outputs": []
    },
    {
      "cell_type": "code",
      "metadata": {
        "colab": {
          "base_uri": "https://localhost:8080/"
        },
        "id": "pPv4H5MwkmiO",
        "outputId": "8a59f6b0-f92a-41f7-ae6d-469fef8b417c"
      },
      "source": [
        "#check jumlah kolom\n",
        "data2.columns"
      ],
      "execution_count": null,
      "outputs": [
        {
          "output_type": "execute_result",
          "data": {
            "text/plain": [
              "Index([       'Country',           'Code', 'Indicator Name',             1991,\n",
              "                   1992,             1993,             1994,             1995,\n",
              "                   1996,             1997,             1998,             1999,\n",
              "                   2000,             2001,             2002,             2003,\n",
              "                   2004,             2005,             2006,             2007,\n",
              "                   2008,             2009,             2010,             2011,\n",
              "                   2012,             2013,             2014,             2015,\n",
              "                   2016],\n",
              "      dtype='object')"
            ]
          },
          "metadata": {
            "tags": []
          },
          "execution_count": 4
        }
      ]
    },
    {
      "cell_type": "code",
      "metadata": {
        "colab": {
          "base_uri": "https://localhost:8080/",
          "height": 479
        },
        "id": "Yrf5LPTBgW6w",
        "outputId": "a486387e-a295-460f-bfee-4a3b13d1cbf0"
      },
      "source": [
        "#check 5 data terakhir\n",
        "data2.tail()"
      ],
      "execution_count": null,
      "outputs": [
        {
          "output_type": "execute_result",
          "data": {
            "text/html": [
              "<div>\n",
              "<style scoped>\n",
              "    .dataframe tbody tr th:only-of-type {\n",
              "        vertical-align: middle;\n",
              "    }\n",
              "\n",
              "    .dataframe tbody tr th {\n",
              "        vertical-align: top;\n",
              "    }\n",
              "\n",
              "    .dataframe thead th {\n",
              "        text-align: right;\n",
              "    }\n",
              "</style>\n",
              "<table border=\"1\" class=\"dataframe\">\n",
              "  <thead>\n",
              "    <tr style=\"text-align: right;\">\n",
              "      <th></th>\n",
              "      <th>Country</th>\n",
              "      <th>Code</th>\n",
              "      <th>Indicator Name</th>\n",
              "      <th>1991</th>\n",
              "      <th>1992</th>\n",
              "      <th>1993</th>\n",
              "      <th>1994</th>\n",
              "      <th>1995</th>\n",
              "      <th>1996</th>\n",
              "      <th>1997</th>\n",
              "      <th>1998</th>\n",
              "      <th>1999</th>\n",
              "      <th>2000</th>\n",
              "      <th>2001</th>\n",
              "      <th>2002</th>\n",
              "      <th>2003</th>\n",
              "      <th>2004</th>\n",
              "      <th>2005</th>\n",
              "      <th>2006</th>\n",
              "      <th>2007</th>\n",
              "      <th>2008</th>\n",
              "      <th>2009</th>\n",
              "      <th>2010</th>\n",
              "      <th>2011</th>\n",
              "      <th>2012</th>\n",
              "      <th>2013</th>\n",
              "      <th>2014</th>\n",
              "      <th>2015</th>\n",
              "      <th>2016</th>\n",
              "    </tr>\n",
              "  </thead>\n",
              "  <tbody>\n",
              "    <tr>\n",
              "      <th>5</th>\n",
              "      <td>Thailand</td>\n",
              "      <td>THA</td>\n",
              "      <td>Unemployment, youth total (% of total labor fo...</td>\n",
              "      <td>7.084</td>\n",
              "      <td>3.691</td>\n",
              "      <td>4.092</td>\n",
              "      <td>2.666</td>\n",
              "      <td>2.409</td>\n",
              "      <td>2.463</td>\n",
              "      <td>2.179</td>\n",
              "      <td>7.566</td>\n",
              "      <td>7.984</td>\n",
              "      <td>6.820</td>\n",
              "      <td>7.913</td>\n",
              "      <td>5.810</td>\n",
              "      <td>5.256</td>\n",
              "      <td>4.656</td>\n",
              "      <td>4.847</td>\n",
              "      <td>4.905</td>\n",
              "      <td>4.611</td>\n",
              "      <td>4.949</td>\n",
              "      <td>5.825</td>\n",
              "      <td>2.637</td>\n",
              "      <td>3.026</td>\n",
              "      <td>2.835</td>\n",
              "      <td>2.496</td>\n",
              "      <td>3.213</td>\n",
              "      <td>3.171</td>\n",
              "      <td>5.114</td>\n",
              "    </tr>\n",
              "    <tr>\n",
              "      <th>6</th>\n",
              "      <td>Vietnam</td>\n",
              "      <td>VNM</td>\n",
              "      <td>Unemployment, total (% of total labor force) (...</td>\n",
              "      <td>2.043</td>\n",
              "      <td>2.037</td>\n",
              "      <td>2.008</td>\n",
              "      <td>1.984</td>\n",
              "      <td>1.958</td>\n",
              "      <td>1.930</td>\n",
              "      <td>2.870</td>\n",
              "      <td>2.290</td>\n",
              "      <td>2.330</td>\n",
              "      <td>2.260</td>\n",
              "      <td>2.760</td>\n",
              "      <td>2.120</td>\n",
              "      <td>2.250</td>\n",
              "      <td>2.140</td>\n",
              "      <td>2.299</td>\n",
              "      <td>2.449</td>\n",
              "      <td>2.596</td>\n",
              "      <td>2.380</td>\n",
              "      <td>2.610</td>\n",
              "      <td>2.640</td>\n",
              "      <td>2.020</td>\n",
              "      <td>1.770</td>\n",
              "      <td>1.950</td>\n",
              "      <td>1.870</td>\n",
              "      <td>2.120</td>\n",
              "      <td>2.100</td>\n",
              "    </tr>\n",
              "    <tr>\n",
              "      <th>7</th>\n",
              "      <td>Cambodia</td>\n",
              "      <td>KHM</td>\n",
              "      <td>Unemployment, youth total (% of total labor fo...</td>\n",
              "      <td>1.628</td>\n",
              "      <td>1.589</td>\n",
              "      <td>1.570</td>\n",
              "      <td>1.636</td>\n",
              "      <td>1.625</td>\n",
              "      <td>1.617</td>\n",
              "      <td>5.759</td>\n",
              "      <td>11.809</td>\n",
              "      <td>7.222</td>\n",
              "      <td>4.661</td>\n",
              "      <td>3.310</td>\n",
              "      <td>3.574</td>\n",
              "      <td>3.624</td>\n",
              "      <td>4.025</td>\n",
              "      <td>3.433</td>\n",
              "      <td>2.840</td>\n",
              "      <td>1.531</td>\n",
              "      <td>0.793</td>\n",
              "      <td>0.351</td>\n",
              "      <td>0.549</td>\n",
              "      <td>0.381</td>\n",
              "      <td>0.306</td>\n",
              "      <td>0.574</td>\n",
              "      <td>0.345</td>\n",
              "      <td>0.346</td>\n",
              "      <td>0.382</td>\n",
              "    </tr>\n",
              "    <tr>\n",
              "      <th>8</th>\n",
              "      <td>Myanmar</td>\n",
              "      <td>MMR</td>\n",
              "      <td>Unemployment, youth total (% of total labor fo...</td>\n",
              "      <td>1.564</td>\n",
              "      <td>1.612</td>\n",
              "      <td>1.588</td>\n",
              "      <td>1.597</td>\n",
              "      <td>1.604</td>\n",
              "      <td>1.601</td>\n",
              "      <td>1.596</td>\n",
              "      <td>1.596</td>\n",
              "      <td>1.631</td>\n",
              "      <td>1.640</td>\n",
              "      <td>1.633</td>\n",
              "      <td>1.635</td>\n",
              "      <td>1.638</td>\n",
              "      <td>1.637</td>\n",
              "      <td>1.636</td>\n",
              "      <td>1.634</td>\n",
              "      <td>1.630</td>\n",
              "      <td>1.575</td>\n",
              "      <td>1.585</td>\n",
              "      <td>1.586</td>\n",
              "      <td>1.587</td>\n",
              "      <td>1.597</td>\n",
              "      <td>1.603</td>\n",
              "      <td>1.599</td>\n",
              "      <td>1.592</td>\n",
              "      <td>1.630</td>\n",
              "    </tr>\n",
              "    <tr>\n",
              "      <th>9</th>\n",
              "      <td>Lao PDR</td>\n",
              "      <td>LAO</td>\n",
              "      <td>Unemployment, youth total (% of total labor fo...</td>\n",
              "      <td>5.568</td>\n",
              "      <td>5.634</td>\n",
              "      <td>5.603</td>\n",
              "      <td>5.662</td>\n",
              "      <td>5.625</td>\n",
              "      <td>5.307</td>\n",
              "      <td>4.994</td>\n",
              "      <td>4.628</td>\n",
              "      <td>4.316</td>\n",
              "      <td>4.048</td>\n",
              "      <td>3.703</td>\n",
              "      <td>3.428</td>\n",
              "      <td>3.107</td>\n",
              "      <td>2.811</td>\n",
              "      <td>3.018</td>\n",
              "      <td>2.721</td>\n",
              "      <td>2.389</td>\n",
              "      <td>2.066</td>\n",
              "      <td>1.739</td>\n",
              "      <td>1.630</td>\n",
              "      <td>1.628</td>\n",
              "      <td>1.621</td>\n",
              "      <td>1.624</td>\n",
              "      <td>1.613</td>\n",
              "      <td>1.605</td>\n",
              "      <td>1.660</td>\n",
              "    </tr>\n",
              "  </tbody>\n",
              "</table>\n",
              "</div>"
            ],
            "text/plain": [
              "    Country Code  ...   2015   2016\n",
              "5  Thailand  THA  ...  3.171  5.114\n",
              "6   Vietnam  VNM  ...  2.120  2.100\n",
              "7  Cambodia  KHM  ...  0.346  0.382\n",
              "8   Myanmar  MMR  ...  1.592  1.630\n",
              "9   Lao PDR  LAO  ...  1.605  1.660\n",
              "\n",
              "[5 rows x 29 columns]"
            ]
          },
          "metadata": {
            "tags": []
          },
          "execution_count": 5
        }
      ]
    },
    {
      "cell_type": "markdown",
      "metadata": {
        "id": "kFTqpOfFtgDs"
      },
      "source": [
        "# **Check Distribution of data**"
      ]
    },
    {
      "cell_type": "code",
      "metadata": {
        "colab": {
          "base_uri": "https://localhost:8080/",
          "height": 542
        },
        "id": "tm9oigkEem0F",
        "outputId": "5ab9892c-ec8a-4fdb-a89e-654c5417a3bb"
      },
      "source": [
        "x_data = [2012,2013,2014, 2015,2016]\n",
        "\n",
        "y0 = data2[2012]\n",
        "y1 = data2[2013]\n",
        "y2 = data2[2014]\n",
        "y3 = data2[2015]\n",
        "y4 = data2[2016]\n",
        "\n",
        "y_data = [y0,y1,y2,y3,y4]\n",
        "\n",
        "colors = ['rgba(93, 164, 214, 0.5)', 'rgba(255, 144, 14, 0.5)', 'rgba(44, 160, 101, 0.5)',\n",
        "          'rgba(255, 65, 54, 0.5)', 'rgba(207, 114, 255, 0.5)']\n",
        "\n",
        "traces = []\n",
        "\n",
        "for xd, yd, color in zip(x_data, y_data, colors):\n",
        "        traces.append(go.Box(\n",
        "            y=yd,\n",
        "            name=xd,\n",
        "            boxpoints='all',\n",
        "            whiskerwidth=0.2,\n",
        "            fillcolor=color,\n",
        "            marker=dict(\n",
        "                size=2,\n",
        "            ),\n",
        "            boxmean=True,    \n",
        "            line=dict(width=1),\n",
        "        ))\n",
        "\n",
        "layout = go.Layout(\n",
        "    title='Distribution of Youth Unemployment Data  last five years',\n",
        "    xaxis=dict(\n",
        "        title='Year'\n",
        "    ),\n",
        "    yaxis=dict(\n",
        "        title='Youth Unemployment Rate (%)',\n",
        "        autorange=True,\n",
        "        showgrid=True,\n",
        "        zeroline=False,\n",
        "        dtick=5,\n",
        "        gridcolor='rgb(255, 255, 255)',\n",
        "        gridwidth=1,\n",
        "#        zerolinecolor='rgb(255, 255, 255)',\n",
        "#        zerolinewidth=2,\n",
        "    ),\n",
        "    margin=dict(\n",
        "        l=40,\n",
        "        r=30,\n",
        "        b=80,\n",
        "        t=100,\n",
        "    ),\n",
        "    paper_bgcolor='rgb(243, 243, 243)',\n",
        "    plot_bgcolor='rgb(243, 243, 243)',\n",
        "    showlegend=False\n",
        ")\n",
        "\n",
        "fig = go.Figure(data=traces, layout=layout)\n",
        "fig.show()\n"
      ],
      "execution_count": null,
      "outputs": [
        {
          "output_type": "display_data",
          "data": {
            "text/html": [
              "<html>\n",
              "<head><meta charset=\"utf-8\" /></head>\n",
              "<body>\n",
              "    <div>\n",
              "            <script src=\"https://cdnjs.cloudflare.com/ajax/libs/mathjax/2.7.5/MathJax.js?config=TeX-AMS-MML_SVG\"></script><script type=\"text/javascript\">if (window.MathJax) {MathJax.Hub.Config({SVG: {font: \"STIX-Web\"}});}</script>\n",
              "                <script type=\"text/javascript\">window.PlotlyConfig = {MathJaxConfig: 'local'};</script>\n",
              "        <script src=\"https://cdn.plot.ly/plotly-latest.min.js\"></script>    \n",
              "            <div id=\"bf959bc1-d853-49cb-96a9-007f142c1108\" class=\"plotly-graph-div\" style=\"height:525px; width:100%;\"></div>\n",
              "            <script type=\"text/javascript\">\n",
              "                \n",
              "                    window.PLOTLYENV=window.PLOTLYENV || {};\n",
              "                    \n",
              "                if (document.getElementById(\"bf959bc1-d853-49cb-96a9-007f142c1108\")) {\n",
              "                    Plotly.newPlot(\n",
              "                        'bf959bc1-d853-49cb-96a9-007f142c1108',\n",
              "                        [{\"boxmean\": true, \"boxpoints\": \"all\", \"fillcolor\": \"rgba(93, 164, 214, 0.5)\", \"line\": {\"width\": 1}, \"marker\": {\"size\": 2}, \"name\": \"2012\", \"type\": \"box\", \"whiskerwidth\": 0.2, \"y\": [14.9610004425049, 10.1070003509521, 6.5310001373291, 21.4829998016357, 9.51000022888184, 2.83500003814697, 1.76999998092651, 0.305999994277954, 1.59700000286102, 1.62100005149841]}, {\"boxmean\": true, \"boxpoints\": \"all\", \"fillcolor\": \"rgba(255, 144, 14, 0.5)\", \"line\": {\"width\": 1}, \"marker\": {\"size\": 2}, \"name\": \"2013\", \"type\": \"box\", \"whiskerwidth\": 0.2, \"y\": [15.1590003967285, 10.0740003585815, 6.33400011062622, 21.5510005950928, 9.29300022125244, 2.49600005149841, 1.95000004768372, 0.574000000953674, 1.60300004482269, 1.62399995326996]}, {\"boxmean\": true, \"boxpoints\": \"all\", \"fillcolor\": \"rgba(44, 160, 101, 0.5)\", \"line\": {\"width\": 1}, \"marker\": {\"size\": 2}, \"name\": \"2014\", \"type\": \"box\", \"whiskerwidth\": 0.2, \"y\": [15.1870002746582, 9.86800003051758, 6.34299993515015, 26.1350002288818, 9.5600004196167, 3.21300005912781, 1.87000000476837, 0.344999998807907, 1.59899997711182, 1.61300003528595]}, {\"boxmean\": true, \"boxpoints\": \"all\", \"fillcolor\": \"rgba(255, 65, 54, 0.5)\", \"line\": {\"width\": 1}, \"marker\": {\"size\": 2}, \"name\": \"2015\", \"type\": \"box\", \"whiskerwidth\": 0.2, \"y\": [16.6889991760254, 10.7770004272461, 3.82100009918213, 26.2679996490479, 8.53299999237061, 3.1710000038147, 2.11999988555908, 0.345999985933304, 1.59200000762939, 1.60500001907349]}, {\"boxmean\": true, \"boxpoints\": \"all\", \"fillcolor\": \"rgba(207, 114, 255, 0.5)\", \"line\": {\"width\": 1}, \"marker\": {\"size\": 2}, \"name\": \"2016\", \"type\": \"box\", \"whiskerwidth\": 0.2, \"y\": [14.918999671936, 10.7250003814697, 4.0770001411438, 27.2999992370605, 7.6710000038147, 5.11399984359741, 2.09999990463257, 0.381999999284744, 1.62999999523163, 1.6599999666214]}],\n",
              "                        {\"margin\": {\"b\": 80, \"l\": 40, \"r\": 30, \"t\": 100}, \"paper_bgcolor\": \"rgb(243, 243, 243)\", \"plot_bgcolor\": \"rgb(243, 243, 243)\", \"showlegend\": false, \"template\": {\"data\": {\"bar\": [{\"error_x\": {\"color\": \"#2a3f5f\"}, \"error_y\": {\"color\": \"#2a3f5f\"}, \"marker\": {\"line\": {\"color\": \"#E5ECF6\", \"width\": 0.5}}, \"type\": \"bar\"}], \"barpolar\": [{\"marker\": {\"line\": {\"color\": \"#E5ECF6\", \"width\": 0.5}}, \"type\": \"barpolar\"}], \"carpet\": [{\"aaxis\": {\"endlinecolor\": \"#2a3f5f\", \"gridcolor\": \"white\", \"linecolor\": \"white\", \"minorgridcolor\": \"white\", \"startlinecolor\": \"#2a3f5f\"}, \"baxis\": {\"endlinecolor\": \"#2a3f5f\", \"gridcolor\": \"white\", \"linecolor\": \"white\", \"minorgridcolor\": \"white\", \"startlinecolor\": \"#2a3f5f\"}, \"type\": \"carpet\"}], \"choropleth\": [{\"colorbar\": {\"outlinewidth\": 0, \"ticks\": \"\"}, \"type\": \"choropleth\"}], \"contour\": [{\"colorbar\": {\"outlinewidth\": 0, \"ticks\": \"\"}, \"colorscale\": [[0.0, \"#0d0887\"], [0.1111111111111111, \"#46039f\"], [0.2222222222222222, \"#7201a8\"], [0.3333333333333333, \"#9c179e\"], [0.4444444444444444, \"#bd3786\"], [0.5555555555555556, \"#d8576b\"], [0.6666666666666666, \"#ed7953\"], [0.7777777777777778, \"#fb9f3a\"], [0.8888888888888888, \"#fdca26\"], [1.0, \"#f0f921\"]], \"type\": \"contour\"}], \"contourcarpet\": [{\"colorbar\": {\"outlinewidth\": 0, \"ticks\": \"\"}, \"type\": \"contourcarpet\"}], \"heatmap\": [{\"colorbar\": {\"outlinewidth\": 0, \"ticks\": \"\"}, \"colorscale\": [[0.0, \"#0d0887\"], [0.1111111111111111, \"#46039f\"], [0.2222222222222222, \"#7201a8\"], [0.3333333333333333, \"#9c179e\"], [0.4444444444444444, \"#bd3786\"], [0.5555555555555556, \"#d8576b\"], [0.6666666666666666, \"#ed7953\"], [0.7777777777777778, \"#fb9f3a\"], [0.8888888888888888, \"#fdca26\"], [1.0, \"#f0f921\"]], \"type\": \"heatmap\"}], \"heatmapgl\": [{\"colorbar\": {\"outlinewidth\": 0, \"ticks\": \"\"}, \"colorscale\": [[0.0, \"#0d0887\"], [0.1111111111111111, \"#46039f\"], [0.2222222222222222, \"#7201a8\"], [0.3333333333333333, \"#9c179e\"], [0.4444444444444444, \"#bd3786\"], [0.5555555555555556, \"#d8576b\"], [0.6666666666666666, \"#ed7953\"], [0.7777777777777778, \"#fb9f3a\"], [0.8888888888888888, \"#fdca26\"], [1.0, \"#f0f921\"]], \"type\": \"heatmapgl\"}], \"histogram\": [{\"marker\": {\"colorbar\": {\"outlinewidth\": 0, \"ticks\": \"\"}}, \"type\": \"histogram\"}], \"histogram2d\": [{\"colorbar\": {\"outlinewidth\": 0, \"ticks\": \"\"}, \"colorscale\": [[0.0, \"#0d0887\"], [0.1111111111111111, \"#46039f\"], [0.2222222222222222, \"#7201a8\"], [0.3333333333333333, \"#9c179e\"], [0.4444444444444444, \"#bd3786\"], [0.5555555555555556, \"#d8576b\"], [0.6666666666666666, \"#ed7953\"], [0.7777777777777778, \"#fb9f3a\"], [0.8888888888888888, \"#fdca26\"], [1.0, \"#f0f921\"]], \"type\": \"histogram2d\"}], \"histogram2dcontour\": [{\"colorbar\": {\"outlinewidth\": 0, \"ticks\": \"\"}, \"colorscale\": [[0.0, \"#0d0887\"], [0.1111111111111111, \"#46039f\"], [0.2222222222222222, \"#7201a8\"], [0.3333333333333333, \"#9c179e\"], [0.4444444444444444, \"#bd3786\"], [0.5555555555555556, \"#d8576b\"], [0.6666666666666666, \"#ed7953\"], [0.7777777777777778, \"#fb9f3a\"], [0.8888888888888888, \"#fdca26\"], [1.0, \"#f0f921\"]], \"type\": \"histogram2dcontour\"}], \"mesh3d\": [{\"colorbar\": {\"outlinewidth\": 0, \"ticks\": \"\"}, \"type\": \"mesh3d\"}], \"parcoords\": [{\"line\": {\"colorbar\": {\"outlinewidth\": 0, \"ticks\": \"\"}}, \"type\": \"parcoords\"}], \"pie\": [{\"automargin\": true, \"type\": \"pie\"}], \"scatter\": [{\"marker\": {\"colorbar\": {\"outlinewidth\": 0, \"ticks\": \"\"}}, \"type\": \"scatter\"}], \"scatter3d\": [{\"line\": {\"colorbar\": {\"outlinewidth\": 0, \"ticks\": \"\"}}, \"marker\": {\"colorbar\": {\"outlinewidth\": 0, \"ticks\": \"\"}}, \"type\": \"scatter3d\"}], \"scattercarpet\": [{\"marker\": {\"colorbar\": {\"outlinewidth\": 0, \"ticks\": \"\"}}, \"type\": \"scattercarpet\"}], \"scattergeo\": [{\"marker\": {\"colorbar\": {\"outlinewidth\": 0, \"ticks\": \"\"}}, \"type\": \"scattergeo\"}], \"scattergl\": [{\"marker\": {\"colorbar\": {\"outlinewidth\": 0, \"ticks\": \"\"}}, \"type\": \"scattergl\"}], \"scattermapbox\": [{\"marker\": {\"colorbar\": {\"outlinewidth\": 0, \"ticks\": \"\"}}, \"type\": \"scattermapbox\"}], \"scatterpolar\": [{\"marker\": {\"colorbar\": {\"outlinewidth\": 0, \"ticks\": \"\"}}, \"type\": \"scatterpolar\"}], \"scatterpolargl\": [{\"marker\": {\"colorbar\": {\"outlinewidth\": 0, \"ticks\": \"\"}}, \"type\": \"scatterpolargl\"}], \"scatterternary\": [{\"marker\": {\"colorbar\": {\"outlinewidth\": 0, \"ticks\": \"\"}}, \"type\": \"scatterternary\"}], \"surface\": [{\"colorbar\": {\"outlinewidth\": 0, \"ticks\": \"\"}, \"colorscale\": [[0.0, \"#0d0887\"], [0.1111111111111111, \"#46039f\"], [0.2222222222222222, \"#7201a8\"], [0.3333333333333333, \"#9c179e\"], [0.4444444444444444, \"#bd3786\"], [0.5555555555555556, \"#d8576b\"], [0.6666666666666666, \"#ed7953\"], [0.7777777777777778, \"#fb9f3a\"], [0.8888888888888888, \"#fdca26\"], [1.0, \"#f0f921\"]], \"type\": \"surface\"}], \"table\": [{\"cells\": {\"fill\": {\"color\": \"#EBF0F8\"}, \"line\": {\"color\": \"white\"}}, \"header\": {\"fill\": {\"color\": \"#C8D4E3\"}, \"line\": {\"color\": \"white\"}}, \"type\": \"table\"}]}, \"layout\": {\"annotationdefaults\": {\"arrowcolor\": \"#2a3f5f\", \"arrowhead\": 0, \"arrowwidth\": 1}, \"coloraxis\": {\"colorbar\": {\"outlinewidth\": 0, \"ticks\": \"\"}}, \"colorscale\": {\"diverging\": [[0, \"#8e0152\"], [0.1, \"#c51b7d\"], [0.2, \"#de77ae\"], [0.3, \"#f1b6da\"], [0.4, \"#fde0ef\"], [0.5, \"#f7f7f7\"], [0.6, \"#e6f5d0\"], [0.7, \"#b8e186\"], [0.8, \"#7fbc41\"], [0.9, \"#4d9221\"], [1, \"#276419\"]], \"sequential\": [[0.0, \"#0d0887\"], [0.1111111111111111, \"#46039f\"], [0.2222222222222222, \"#7201a8\"], [0.3333333333333333, \"#9c179e\"], [0.4444444444444444, \"#bd3786\"], [0.5555555555555556, \"#d8576b\"], [0.6666666666666666, \"#ed7953\"], [0.7777777777777778, \"#fb9f3a\"], [0.8888888888888888, \"#fdca26\"], [1.0, \"#f0f921\"]], \"sequentialminus\": [[0.0, \"#0d0887\"], [0.1111111111111111, \"#46039f\"], [0.2222222222222222, \"#7201a8\"], [0.3333333333333333, \"#9c179e\"], [0.4444444444444444, \"#bd3786\"], [0.5555555555555556, \"#d8576b\"], [0.6666666666666666, \"#ed7953\"], [0.7777777777777778, \"#fb9f3a\"], [0.8888888888888888, \"#fdca26\"], [1.0, \"#f0f921\"]]}, \"colorway\": [\"#636efa\", \"#EF553B\", \"#00cc96\", \"#ab63fa\", \"#FFA15A\", \"#19d3f3\", \"#FF6692\", \"#B6E880\", \"#FF97FF\", \"#FECB52\"], \"font\": {\"color\": \"#2a3f5f\"}, \"geo\": {\"bgcolor\": \"white\", \"lakecolor\": \"white\", \"landcolor\": \"#E5ECF6\", \"showlakes\": true, \"showland\": true, \"subunitcolor\": \"white\"}, \"hoverlabel\": {\"align\": \"left\"}, \"hovermode\": \"closest\", \"mapbox\": {\"style\": \"light\"}, \"paper_bgcolor\": \"white\", \"plot_bgcolor\": \"#E5ECF6\", \"polar\": {\"angularaxis\": {\"gridcolor\": \"white\", \"linecolor\": \"white\", \"ticks\": \"\"}, \"bgcolor\": \"#E5ECF6\", \"radialaxis\": {\"gridcolor\": \"white\", \"linecolor\": \"white\", \"ticks\": \"\"}}, \"scene\": {\"xaxis\": {\"backgroundcolor\": \"#E5ECF6\", \"gridcolor\": \"white\", \"gridwidth\": 2, \"linecolor\": \"white\", \"showbackground\": true, \"ticks\": \"\", \"zerolinecolor\": \"white\"}, \"yaxis\": {\"backgroundcolor\": \"#E5ECF6\", \"gridcolor\": \"white\", \"gridwidth\": 2, \"linecolor\": \"white\", \"showbackground\": true, \"ticks\": \"\", \"zerolinecolor\": \"white\"}, \"zaxis\": {\"backgroundcolor\": \"#E5ECF6\", \"gridcolor\": \"white\", \"gridwidth\": 2, \"linecolor\": \"white\", \"showbackground\": true, \"ticks\": \"\", \"zerolinecolor\": \"white\"}}, \"shapedefaults\": {\"line\": {\"color\": \"#2a3f5f\"}}, \"ternary\": {\"aaxis\": {\"gridcolor\": \"white\", \"linecolor\": \"white\", \"ticks\": \"\"}, \"baxis\": {\"gridcolor\": \"white\", \"linecolor\": \"white\", \"ticks\": \"\"}, \"bgcolor\": \"#E5ECF6\", \"caxis\": {\"gridcolor\": \"white\", \"linecolor\": \"white\", \"ticks\": \"\"}}, \"title\": {\"x\": 0.05}, \"xaxis\": {\"automargin\": true, \"gridcolor\": \"white\", \"linecolor\": \"white\", \"ticks\": \"\", \"title\": {\"standoff\": 15}, \"zerolinecolor\": \"white\", \"zerolinewidth\": 2}, \"yaxis\": {\"automargin\": true, \"gridcolor\": \"white\", \"linecolor\": \"white\", \"ticks\": \"\", \"title\": {\"standoff\": 15}, \"zerolinecolor\": \"white\", \"zerolinewidth\": 2}}}, \"title\": {\"text\": \"Distribution of Youth Unemployment Data  last five years\"}, \"xaxis\": {\"title\": {\"text\": \"Year\"}}, \"yaxis\": {\"autorange\": true, \"dtick\": 5, \"gridcolor\": \"rgb(255, 255, 255)\", \"gridwidth\": 1, \"showgrid\": true, \"title\": {\"text\": \"Youth Unemployment Rate (%)\"}, \"zeroline\": false}},\n",
              "                        {\"responsive\": true}\n",
              "                    ).then(function(){\n",
              "                            \n",
              "var gd = document.getElementById('bf959bc1-d853-49cb-96a9-007f142c1108');\n",
              "var x = new MutationObserver(function (mutations, observer) {{\n",
              "        var display = window.getComputedStyle(gd).display;\n",
              "        if (!display || display === 'none') {{\n",
              "            console.log([gd, 'removed!']);\n",
              "            Plotly.purge(gd);\n",
              "            observer.disconnect();\n",
              "        }}\n",
              "}});\n",
              "\n",
              "// Listen for the removal of the full notebook cells\n",
              "var notebookContainer = gd.closest('#notebook-container');\n",
              "if (notebookContainer) {{\n",
              "    x.observe(notebookContainer, {childList: true});\n",
              "}}\n",
              "\n",
              "// Listen for the clearing of the current output cell\n",
              "var outputEl = gd.closest('.output');\n",
              "if (outputEl) {{\n",
              "    x.observe(outputEl, {childList: true});\n",
              "}}\n",
              "\n",
              "                        })\n",
              "                };\n",
              "                \n",
              "            </script>\n",
              "        </div>\n",
              "</body>\n",
              "</html>"
            ]
          },
          "metadata": {
            "tags": []
          }
        }
      ]
    },
    {
      "cell_type": "markdown",
      "metadata": {
        "id": "MSUVz3Dmhpgo"
      },
      "source": [
        "* Visualisasi Tingkat Pengangguran Muda di negara-negara ASEAN periode 2012-2016 menggunakan perpaduan Box Plot dan Scatter Plot menghasilkan visualisasi data yang lebih baik. \n",
        "* Dari Box Plot dapat dilihat bahwa rata-rata Tingkat Pengangguran Muda mengalami peningkatan, dari 7,07% pada tahun 2012 naik menjadi 7,56% pada tahun 2016.\n",
        "* Selain itu dapat dilihat bahwa median di setiap tahunnya lebih rendah dari rata-rata, hal ini mengindikasikan bahwa pengangguran muda di sebagian besar negara ASEAN lebih rendah dari Tingkat Pengangguran Muda rata-rata. Namun kisaran median bervariasi dari 4,69% (2012) hingga 4,60% (2016), sempat mengalami penurunan yang signifikan hingga tahun 2015 (3,50%), namun kembali meningkat pada tahun 2016.\n",
        "* Sebagian besar data berada dalam IQR (InterQuartile Range) dari 2012 hingga 2016 dengan hanya satu kasus masing-masing di tahun 2014, 2015, dan 2016 yang berada di luar batas atas. Hal ini menunjukkan adanya pengangguran parah di negara tersebut, yaitu di Brunei Darussalam.\n"
      ]
    },
    {
      "cell_type": "markdown",
      "metadata": {
        "id": "XGsgu3Pttv9G"
      },
      "source": [
        "# **Compare Unemployment rates(some years)**"
      ]
    },
    {
      "cell_type": "code",
      "metadata": {
        "colab": {
          "base_uri": "https://localhost:8080/",
          "height": 542
        },
        "id": "cs6ZEOChiD69",
        "outputId": "532e9f02-b642-4e5c-90fe-4f1eafa57bd4"
      },
      "source": [
        "l=[]\n",
        "trace0= go.Scatter(\n",
        "        y= data2[1991],\n",
        "        mode= 'markers',\n",
        "        name='Youth Unemployment (%)',\n",
        "        marker= dict(size= data2[1991].values,\n",
        "                    line= dict(width=1),\n",
        "                    color= data2[1991].values,\n",
        "                    opacity= 0.7,\n",
        "                    colorscale='Portland',\n",
        "                    showscale=True),\n",
        "        text= data2['Country'].values) # The hover text goes here... \n",
        "l.append(trace0);\n",
        "\n",
        "layout= go.Layout(\n",
        "    title= 'Scatter plot of unemployment rates in 1991',\n",
        "    hovermode= 'closest',\n",
        "    xaxis= dict(\n",
        "#        title= 'Pop',\n",
        "        ticklen= 5,\n",
        "        zeroline= False,\n",
        "        gridwidth= 2,\n",
        "    ),\n",
        "    yaxis=dict(\n",
        "        title= 'Youth Unemployment Rate (%)',\n",
        "        ticklen= 5,\n",
        "        gridwidth= 2,\n",
        "    ),\n",
        "    showlegend= False,\n",
        ")\n",
        "fig= go.Figure(data=l, layout=layout)\n",
        "fig.show()\n",
        "\n",
        "# Pre-defined color scales - 'pairs' | 'Greys' | 'Greens' | 'Bluered' | 'Hot' | 'Picnic' | 'Portland' | 'Jet' | \n",
        "# 'RdBu' | 'Blackbody' | 'Earth' | 'Electric' | 'YIOrRd' | 'YIGnBu'\n",
        "\n",
        "# Chose Portland because it seems to be the best colorscale"
      ],
      "execution_count": null,
      "outputs": [
        {
          "output_type": "display_data",
          "data": {
            "text/html": [
              "<html>\n",
              "<head><meta charset=\"utf-8\" /></head>\n",
              "<body>\n",
              "    <div>\n",
              "            <script src=\"https://cdnjs.cloudflare.com/ajax/libs/mathjax/2.7.5/MathJax.js?config=TeX-AMS-MML_SVG\"></script><script type=\"text/javascript\">if (window.MathJax) {MathJax.Hub.Config({SVG: {font: \"STIX-Web\"}});}</script>\n",
              "                <script type=\"text/javascript\">window.PlotlyConfig = {MathJaxConfig: 'local'};</script>\n",
              "        <script src=\"https://cdn.plot.ly/plotly-latest.min.js\"></script>    \n",
              "            <div id=\"978fbf3c-e9d3-4da3-9265-b70a94f5dc6a\" class=\"plotly-graph-div\" style=\"height:525px; width:100%;\"></div>\n",
              "            <script type=\"text/javascript\">\n",
              "                \n",
              "                    window.PLOTLYENV=window.PLOTLYENV || {};\n",
              "                    \n",
              "                if (document.getElementById(\"978fbf3c-e9d3-4da3-9265-b70a94f5dc6a\")) {\n",
              "                    Plotly.newPlot(\n",
              "                        '978fbf3c-e9d3-4da3-9265-b70a94f5dc6a',\n",
              "                        [{\"marker\": {\"color\": [7.23899984359741, 10.9449996948242, 3.79500007629395, 14.1319999694824, 9.44900035858154, 7.08400011062622, 2.04299998283386, 1.62800002098083, 1.56400001049042, 5.56799983978271], \"colorscale\": [[0.0, \"rgb(12,51,131)\"], [0.25, \"rgb(10,136,186)\"], [0.5, \"rgb(242,211,56)\"], [0.75, \"rgb(242,143,56)\"], [1.0, \"rgb(217,30,30)\"]], \"line\": {\"width\": 1}, \"opacity\": 0.7, \"showscale\": true, \"size\": [7.23899984359741, 10.9449996948242, 3.79500007629395, 14.1319999694824, 9.44900035858154, 7.08400011062622, 2.04299998283386, 1.62800002098083, 1.56400001049042, 5.56799983978271]}, \"mode\": \"markers\", \"name\": \"Youth Unemployment (%)\", \"text\": [\"Indonesia\", \"Malaysia\", \"Singapore\", \"Brunei Darussalam\", \"Philippines\", \"Thailand\", \"Vietnam\", \"Cambodia\", \"Myanmar\", \"Lao PDR\"], \"type\": \"scatter\", \"y\": [7.23899984359741, 10.9449996948242, 3.79500007629395, 14.1319999694824, 9.44900035858154, 7.08400011062622, 2.04299998283386, 1.62800002098083, 1.56400001049042, 5.56799983978271]}],\n",
              "                        {\"hovermode\": \"closest\", \"showlegend\": false, \"template\": {\"data\": {\"bar\": [{\"error_x\": {\"color\": \"#2a3f5f\"}, \"error_y\": {\"color\": \"#2a3f5f\"}, \"marker\": {\"line\": {\"color\": \"#E5ECF6\", \"width\": 0.5}}, \"type\": \"bar\"}], \"barpolar\": [{\"marker\": {\"line\": {\"color\": \"#E5ECF6\", \"width\": 0.5}}, \"type\": \"barpolar\"}], \"carpet\": [{\"aaxis\": {\"endlinecolor\": \"#2a3f5f\", \"gridcolor\": \"white\", \"linecolor\": \"white\", \"minorgridcolor\": \"white\", \"startlinecolor\": \"#2a3f5f\"}, \"baxis\": {\"endlinecolor\": \"#2a3f5f\", \"gridcolor\": \"white\", \"linecolor\": \"white\", \"minorgridcolor\": \"white\", \"startlinecolor\": \"#2a3f5f\"}, \"type\": \"carpet\"}], \"choropleth\": [{\"colorbar\": {\"outlinewidth\": 0, \"ticks\": \"\"}, \"type\": \"choropleth\"}], \"contour\": [{\"colorbar\": {\"outlinewidth\": 0, \"ticks\": \"\"}, \"colorscale\": [[0.0, \"#0d0887\"], [0.1111111111111111, \"#46039f\"], [0.2222222222222222, \"#7201a8\"], [0.3333333333333333, \"#9c179e\"], [0.4444444444444444, \"#bd3786\"], [0.5555555555555556, \"#d8576b\"], [0.6666666666666666, \"#ed7953\"], [0.7777777777777778, \"#fb9f3a\"], [0.8888888888888888, \"#fdca26\"], [1.0, \"#f0f921\"]], \"type\": \"contour\"}], \"contourcarpet\": [{\"colorbar\": {\"outlinewidth\": 0, \"ticks\": \"\"}, \"type\": \"contourcarpet\"}], \"heatmap\": [{\"colorbar\": {\"outlinewidth\": 0, \"ticks\": \"\"}, \"colorscale\": [[0.0, \"#0d0887\"], [0.1111111111111111, \"#46039f\"], [0.2222222222222222, \"#7201a8\"], [0.3333333333333333, \"#9c179e\"], [0.4444444444444444, \"#bd3786\"], [0.5555555555555556, \"#d8576b\"], [0.6666666666666666, \"#ed7953\"], [0.7777777777777778, \"#fb9f3a\"], [0.8888888888888888, \"#fdca26\"], [1.0, \"#f0f921\"]], \"type\": \"heatmap\"}], \"heatmapgl\": [{\"colorbar\": {\"outlinewidth\": 0, \"ticks\": \"\"}, \"colorscale\": [[0.0, \"#0d0887\"], [0.1111111111111111, \"#46039f\"], [0.2222222222222222, \"#7201a8\"], [0.3333333333333333, \"#9c179e\"], [0.4444444444444444, \"#bd3786\"], [0.5555555555555556, \"#d8576b\"], [0.6666666666666666, \"#ed7953\"], [0.7777777777777778, \"#fb9f3a\"], [0.8888888888888888, \"#fdca26\"], [1.0, \"#f0f921\"]], \"type\": \"heatmapgl\"}], \"histogram\": [{\"marker\": {\"colorbar\": {\"outlinewidth\": 0, \"ticks\": \"\"}}, \"type\": \"histogram\"}], \"histogram2d\": [{\"colorbar\": {\"outlinewidth\": 0, \"ticks\": \"\"}, \"colorscale\": [[0.0, \"#0d0887\"], [0.1111111111111111, \"#46039f\"], [0.2222222222222222, \"#7201a8\"], [0.3333333333333333, \"#9c179e\"], [0.4444444444444444, \"#bd3786\"], [0.5555555555555556, \"#d8576b\"], [0.6666666666666666, \"#ed7953\"], [0.7777777777777778, \"#fb9f3a\"], [0.8888888888888888, \"#fdca26\"], [1.0, \"#f0f921\"]], \"type\": \"histogram2d\"}], \"histogram2dcontour\": [{\"colorbar\": {\"outlinewidth\": 0, \"ticks\": \"\"}, \"colorscale\": [[0.0, \"#0d0887\"], [0.1111111111111111, \"#46039f\"], [0.2222222222222222, \"#7201a8\"], [0.3333333333333333, \"#9c179e\"], [0.4444444444444444, \"#bd3786\"], [0.5555555555555556, \"#d8576b\"], [0.6666666666666666, \"#ed7953\"], [0.7777777777777778, \"#fb9f3a\"], [0.8888888888888888, \"#fdca26\"], [1.0, \"#f0f921\"]], \"type\": \"histogram2dcontour\"}], \"mesh3d\": [{\"colorbar\": {\"outlinewidth\": 0, \"ticks\": \"\"}, \"type\": \"mesh3d\"}], \"parcoords\": [{\"line\": {\"colorbar\": {\"outlinewidth\": 0, \"ticks\": \"\"}}, \"type\": \"parcoords\"}], \"pie\": [{\"automargin\": true, \"type\": \"pie\"}], \"scatter\": [{\"marker\": {\"colorbar\": {\"outlinewidth\": 0, \"ticks\": \"\"}}, \"type\": \"scatter\"}], \"scatter3d\": [{\"line\": {\"colorbar\": {\"outlinewidth\": 0, \"ticks\": \"\"}}, \"marker\": {\"colorbar\": {\"outlinewidth\": 0, \"ticks\": \"\"}}, \"type\": \"scatter3d\"}], \"scattercarpet\": [{\"marker\": {\"colorbar\": {\"outlinewidth\": 0, \"ticks\": \"\"}}, \"type\": \"scattercarpet\"}], \"scattergeo\": [{\"marker\": {\"colorbar\": {\"outlinewidth\": 0, \"ticks\": \"\"}}, \"type\": \"scattergeo\"}], \"scattergl\": [{\"marker\": {\"colorbar\": {\"outlinewidth\": 0, \"ticks\": \"\"}}, \"type\": \"scattergl\"}], \"scattermapbox\": [{\"marker\": {\"colorbar\": {\"outlinewidth\": 0, \"ticks\": \"\"}}, \"type\": \"scattermapbox\"}], \"scatterpolar\": [{\"marker\": {\"colorbar\": {\"outlinewidth\": 0, \"ticks\": \"\"}}, \"type\": \"scatterpolar\"}], \"scatterpolargl\": [{\"marker\": {\"colorbar\": {\"outlinewidth\": 0, \"ticks\": \"\"}}, \"type\": \"scatterpolargl\"}], \"scatterternary\": [{\"marker\": {\"colorbar\": {\"outlinewidth\": 0, \"ticks\": \"\"}}, \"type\": \"scatterternary\"}], \"surface\": [{\"colorbar\": {\"outlinewidth\": 0, \"ticks\": \"\"}, \"colorscale\": [[0.0, \"#0d0887\"], [0.1111111111111111, \"#46039f\"], [0.2222222222222222, \"#7201a8\"], [0.3333333333333333, \"#9c179e\"], [0.4444444444444444, \"#bd3786\"], [0.5555555555555556, \"#d8576b\"], [0.6666666666666666, \"#ed7953\"], [0.7777777777777778, \"#fb9f3a\"], [0.8888888888888888, \"#fdca26\"], [1.0, \"#f0f921\"]], \"type\": \"surface\"}], \"table\": [{\"cells\": {\"fill\": {\"color\": \"#EBF0F8\"}, \"line\": {\"color\": \"white\"}}, \"header\": {\"fill\": {\"color\": \"#C8D4E3\"}, \"line\": {\"color\": \"white\"}}, \"type\": \"table\"}]}, \"layout\": {\"annotationdefaults\": {\"arrowcolor\": \"#2a3f5f\", \"arrowhead\": 0, \"arrowwidth\": 1}, \"coloraxis\": {\"colorbar\": {\"outlinewidth\": 0, \"ticks\": \"\"}}, \"colorscale\": {\"diverging\": [[0, \"#8e0152\"], [0.1, \"#c51b7d\"], [0.2, \"#de77ae\"], [0.3, \"#f1b6da\"], [0.4, \"#fde0ef\"], [0.5, \"#f7f7f7\"], [0.6, \"#e6f5d0\"], [0.7, \"#b8e186\"], [0.8, \"#7fbc41\"], [0.9, \"#4d9221\"], [1, \"#276419\"]], \"sequential\": [[0.0, \"#0d0887\"], [0.1111111111111111, \"#46039f\"], [0.2222222222222222, \"#7201a8\"], [0.3333333333333333, \"#9c179e\"], [0.4444444444444444, \"#bd3786\"], [0.5555555555555556, \"#d8576b\"], [0.6666666666666666, \"#ed7953\"], [0.7777777777777778, \"#fb9f3a\"], [0.8888888888888888, \"#fdca26\"], [1.0, \"#f0f921\"]], \"sequentialminus\": [[0.0, \"#0d0887\"], [0.1111111111111111, \"#46039f\"], [0.2222222222222222, \"#7201a8\"], [0.3333333333333333, \"#9c179e\"], [0.4444444444444444, \"#bd3786\"], [0.5555555555555556, \"#d8576b\"], [0.6666666666666666, \"#ed7953\"], [0.7777777777777778, \"#fb9f3a\"], [0.8888888888888888, \"#fdca26\"], [1.0, \"#f0f921\"]]}, \"colorway\": [\"#636efa\", \"#EF553B\", \"#00cc96\", \"#ab63fa\", \"#FFA15A\", \"#19d3f3\", \"#FF6692\", \"#B6E880\", \"#FF97FF\", \"#FECB52\"], \"font\": {\"color\": \"#2a3f5f\"}, \"geo\": {\"bgcolor\": \"white\", \"lakecolor\": \"white\", \"landcolor\": \"#E5ECF6\", \"showlakes\": true, \"showland\": true, \"subunitcolor\": \"white\"}, \"hoverlabel\": {\"align\": \"left\"}, \"hovermode\": \"closest\", \"mapbox\": {\"style\": \"light\"}, \"paper_bgcolor\": \"white\", \"plot_bgcolor\": \"#E5ECF6\", \"polar\": {\"angularaxis\": {\"gridcolor\": \"white\", \"linecolor\": \"white\", \"ticks\": \"\"}, \"bgcolor\": \"#E5ECF6\", \"radialaxis\": {\"gridcolor\": \"white\", \"linecolor\": \"white\", \"ticks\": \"\"}}, \"scene\": {\"xaxis\": {\"backgroundcolor\": \"#E5ECF6\", \"gridcolor\": \"white\", \"gridwidth\": 2, \"linecolor\": \"white\", \"showbackground\": true, \"ticks\": \"\", \"zerolinecolor\": \"white\"}, \"yaxis\": {\"backgroundcolor\": \"#E5ECF6\", \"gridcolor\": \"white\", \"gridwidth\": 2, \"linecolor\": \"white\", \"showbackground\": true, \"ticks\": \"\", \"zerolinecolor\": \"white\"}, \"zaxis\": {\"backgroundcolor\": \"#E5ECF6\", \"gridcolor\": \"white\", \"gridwidth\": 2, \"linecolor\": \"white\", \"showbackground\": true, \"ticks\": \"\", \"zerolinecolor\": \"white\"}}, \"shapedefaults\": {\"line\": {\"color\": \"#2a3f5f\"}}, \"ternary\": {\"aaxis\": {\"gridcolor\": \"white\", \"linecolor\": \"white\", \"ticks\": \"\"}, \"baxis\": {\"gridcolor\": \"white\", \"linecolor\": \"white\", \"ticks\": \"\"}, \"bgcolor\": \"#E5ECF6\", \"caxis\": {\"gridcolor\": \"white\", \"linecolor\": \"white\", \"ticks\": \"\"}}, \"title\": {\"x\": 0.05}, \"xaxis\": {\"automargin\": true, \"gridcolor\": \"white\", \"linecolor\": \"white\", \"ticks\": \"\", \"title\": {\"standoff\": 15}, \"zerolinecolor\": \"white\", \"zerolinewidth\": 2}, \"yaxis\": {\"automargin\": true, \"gridcolor\": \"white\", \"linecolor\": \"white\", \"ticks\": \"\", \"title\": {\"standoff\": 15}, \"zerolinecolor\": \"white\", \"zerolinewidth\": 2}}}, \"title\": {\"text\": \"Scatter plot of unemployment rates in 1991\"}, \"xaxis\": {\"gridwidth\": 2, \"ticklen\": 5, \"zeroline\": false}, \"yaxis\": {\"gridwidth\": 2, \"ticklen\": 5, \"title\": {\"text\": \"Youth Unemployment Rate (%)\"}}},\n",
              "                        {\"responsive\": true}\n",
              "                    ).then(function(){\n",
              "                            \n",
              "var gd = document.getElementById('978fbf3c-e9d3-4da3-9265-b70a94f5dc6a');\n",
              "var x = new MutationObserver(function (mutations, observer) {{\n",
              "        var display = window.getComputedStyle(gd).display;\n",
              "        if (!display || display === 'none') {{\n",
              "            console.log([gd, 'removed!']);\n",
              "            Plotly.purge(gd);\n",
              "            observer.disconnect();\n",
              "        }}\n",
              "}});\n",
              "\n",
              "// Listen for the removal of the full notebook cells\n",
              "var notebookContainer = gd.closest('#notebook-container');\n",
              "if (notebookContainer) {{\n",
              "    x.observe(notebookContainer, {childList: true});\n",
              "}}\n",
              "\n",
              "// Listen for the clearing of the current output cell\n",
              "var outputEl = gd.closest('.output');\n",
              "if (outputEl) {{\n",
              "    x.observe(outputEl, {childList: true});\n",
              "}}\n",
              "\n",
              "                        })\n",
              "                };\n",
              "                \n",
              "            </script>\n",
              "        </div>\n",
              "</body>\n",
              "</html>"
            ]
          },
          "metadata": {
            "tags": []
          }
        }
      ]
    },
    {
      "cell_type": "code",
      "metadata": {
        "colab": {
          "base_uri": "https://localhost:8080/",
          "height": 542
        },
        "id": "bOxKHVH6gIpX",
        "outputId": "44207822-7fc6-4139-8b81-4df202de064b"
      },
      "source": [
        "l=[]\n",
        "trace0= go.Scatter(\n",
        "        y= data2[2010],\n",
        "        mode= 'markers',\n",
        "        name='Youth Unemployment (%)',\n",
        "        marker= dict(size= data2[2010].values,\n",
        "                    line= dict(width=1),\n",
        "                    color= data2[2010].values,\n",
        "                    opacity= 0.7,\n",
        "                    colorscale='Portland',\n",
        "                    showscale=True),\n",
        "        text= data2['Country'].values) # The hover text goes here... \n",
        "l.append(trace0);\n",
        "\n",
        "layout= go.Layout(\n",
        "    title= 'Scatter plot of unemployment rates in 2010',\n",
        "    hovermode= 'closest',\n",
        "    xaxis= dict(\n",
        "#        title= 'Pop',\n",
        "        ticklen= 5,\n",
        "        zeroline= False,\n",
        "        gridwidth= 2,\n",
        "    ),\n",
        "    yaxis=dict(\n",
        "        title= 'Youth Unemployment Rate (%)',\n",
        "        ticklen= 5,\n",
        "        gridwidth= 2,\n",
        "    ),\n",
        "    showlegend= False,\n",
        ")\n",
        "fig= go.Figure(data=l, layout=layout)\n",
        "fig.show()\n",
        "\n",
        "# Pre-defined color scales - 'pairs' | 'Greys' | 'Greens' | 'Bluered' | 'Hot' | 'Picnic' | 'Portland' | 'Jet' | \n",
        "# 'RdBu' | 'Blackbody' | 'Earth' | 'Electric' | 'YIOrRd' | 'YIGnBu'\n",
        "\n",
        "# Chose Portland because it seems to be the best colorscale"
      ],
      "execution_count": null,
      "outputs": [
        {
          "output_type": "display_data",
          "data": {
            "text/html": [
              "<html>\n",
              "<head><meta charset=\"utf-8\" /></head>\n",
              "<body>\n",
              "    <div>\n",
              "            <script src=\"https://cdnjs.cloudflare.com/ajax/libs/mathjax/2.7.5/MathJax.js?config=TeX-AMS-MML_SVG\"></script><script type=\"text/javascript\">if (window.MathJax) {MathJax.Hub.Config({SVG: {font: \"STIX-Web\"}});}</script>\n",
              "                <script type=\"text/javascript\">window.PlotlyConfig = {MathJaxConfig: 'local'};</script>\n",
              "        <script src=\"https://cdn.plot.ly/plotly-latest.min.js\"></script>    \n",
              "            <div id=\"767ebc84-083e-4f4b-8a2b-b91428a45693\" class=\"plotly-graph-div\" style=\"height:525px; width:100%;\"></div>\n",
              "            <script type=\"text/javascript\">\n",
              "                \n",
              "                    window.PLOTLYENV=window.PLOTLYENV || {};\n",
              "                    \n",
              "                if (document.getElementById(\"767ebc84-083e-4f4b-8a2b-b91428a45693\")) {\n",
              "                    Plotly.newPlot(\n",
              "                        '767ebc84-083e-4f4b-8a2b-b91428a45693',\n",
              "                        [{\"marker\": {\"color\": [16.8770008087158, 10.8280000686646, 7.11700010299683, 21.0130004882813, 9.94799995422363, 2.63700008392334, 2.64000010490417, 0.549000024795532, 1.58599996566772, 1.62999999523163], \"colorscale\": [[0.0, \"rgb(12,51,131)\"], [0.25, \"rgb(10,136,186)\"], [0.5, \"rgb(242,211,56)\"], [0.75, \"rgb(242,143,56)\"], [1.0, \"rgb(217,30,30)\"]], \"line\": {\"width\": 1}, \"opacity\": 0.7, \"showscale\": true, \"size\": [16.8770008087158, 10.8280000686646, 7.11700010299683, 21.0130004882813, 9.94799995422363, 2.63700008392334, 2.64000010490417, 0.549000024795532, 1.58599996566772, 1.62999999523163]}, \"mode\": \"markers\", \"name\": \"Youth Unemployment (%)\", \"text\": [\"Indonesia\", \"Malaysia\", \"Singapore\", \"Brunei Darussalam\", \"Philippines\", \"Thailand\", \"Vietnam\", \"Cambodia\", \"Myanmar\", \"Lao PDR\"], \"type\": \"scatter\", \"y\": [16.8770008087158, 10.8280000686646, 7.11700010299683, 21.0130004882813, 9.94799995422363, 2.63700008392334, 2.64000010490417, 0.549000024795532, 1.58599996566772, 1.62999999523163]}],\n",
              "                        {\"hovermode\": \"closest\", \"showlegend\": false, \"template\": {\"data\": {\"bar\": [{\"error_x\": {\"color\": \"#2a3f5f\"}, \"error_y\": {\"color\": \"#2a3f5f\"}, \"marker\": {\"line\": {\"color\": \"#E5ECF6\", \"width\": 0.5}}, \"type\": \"bar\"}], \"barpolar\": [{\"marker\": {\"line\": {\"color\": \"#E5ECF6\", \"width\": 0.5}}, \"type\": \"barpolar\"}], \"carpet\": [{\"aaxis\": {\"endlinecolor\": \"#2a3f5f\", \"gridcolor\": \"white\", \"linecolor\": \"white\", \"minorgridcolor\": \"white\", \"startlinecolor\": \"#2a3f5f\"}, \"baxis\": {\"endlinecolor\": \"#2a3f5f\", \"gridcolor\": \"white\", \"linecolor\": \"white\", \"minorgridcolor\": \"white\", \"startlinecolor\": \"#2a3f5f\"}, \"type\": \"carpet\"}], \"choropleth\": [{\"colorbar\": {\"outlinewidth\": 0, \"ticks\": \"\"}, \"type\": \"choropleth\"}], \"contour\": [{\"colorbar\": {\"outlinewidth\": 0, \"ticks\": \"\"}, \"colorscale\": [[0.0, \"#0d0887\"], [0.1111111111111111, \"#46039f\"], [0.2222222222222222, \"#7201a8\"], [0.3333333333333333, \"#9c179e\"], [0.4444444444444444, \"#bd3786\"], [0.5555555555555556, \"#d8576b\"], [0.6666666666666666, \"#ed7953\"], [0.7777777777777778, \"#fb9f3a\"], [0.8888888888888888, \"#fdca26\"], [1.0, \"#f0f921\"]], \"type\": \"contour\"}], \"contourcarpet\": [{\"colorbar\": {\"outlinewidth\": 0, \"ticks\": \"\"}, \"type\": \"contourcarpet\"}], \"heatmap\": [{\"colorbar\": {\"outlinewidth\": 0, \"ticks\": \"\"}, \"colorscale\": [[0.0, \"#0d0887\"], [0.1111111111111111, \"#46039f\"], [0.2222222222222222, \"#7201a8\"], [0.3333333333333333, \"#9c179e\"], [0.4444444444444444, \"#bd3786\"], [0.5555555555555556, \"#d8576b\"], [0.6666666666666666, \"#ed7953\"], [0.7777777777777778, \"#fb9f3a\"], [0.8888888888888888, \"#fdca26\"], [1.0, \"#f0f921\"]], \"type\": \"heatmap\"}], \"heatmapgl\": [{\"colorbar\": {\"outlinewidth\": 0, \"ticks\": \"\"}, \"colorscale\": [[0.0, \"#0d0887\"], [0.1111111111111111, \"#46039f\"], [0.2222222222222222, \"#7201a8\"], [0.3333333333333333, \"#9c179e\"], [0.4444444444444444, \"#bd3786\"], [0.5555555555555556, \"#d8576b\"], [0.6666666666666666, \"#ed7953\"], [0.7777777777777778, \"#fb9f3a\"], [0.8888888888888888, \"#fdca26\"], [1.0, \"#f0f921\"]], \"type\": \"heatmapgl\"}], \"histogram\": [{\"marker\": {\"colorbar\": {\"outlinewidth\": 0, \"ticks\": \"\"}}, \"type\": \"histogram\"}], \"histogram2d\": [{\"colorbar\": {\"outlinewidth\": 0, \"ticks\": \"\"}, \"colorscale\": [[0.0, \"#0d0887\"], [0.1111111111111111, \"#46039f\"], [0.2222222222222222, \"#7201a8\"], [0.3333333333333333, \"#9c179e\"], [0.4444444444444444, \"#bd3786\"], [0.5555555555555556, \"#d8576b\"], [0.6666666666666666, \"#ed7953\"], [0.7777777777777778, \"#fb9f3a\"], [0.8888888888888888, \"#fdca26\"], [1.0, \"#f0f921\"]], \"type\": \"histogram2d\"}], \"histogram2dcontour\": [{\"colorbar\": {\"outlinewidth\": 0, \"ticks\": \"\"}, \"colorscale\": [[0.0, \"#0d0887\"], [0.1111111111111111, \"#46039f\"], [0.2222222222222222, \"#7201a8\"], [0.3333333333333333, \"#9c179e\"], [0.4444444444444444, \"#bd3786\"], [0.5555555555555556, \"#d8576b\"], [0.6666666666666666, \"#ed7953\"], [0.7777777777777778, \"#fb9f3a\"], [0.8888888888888888, \"#fdca26\"], [1.0, \"#f0f921\"]], \"type\": \"histogram2dcontour\"}], \"mesh3d\": [{\"colorbar\": {\"outlinewidth\": 0, \"ticks\": \"\"}, \"type\": \"mesh3d\"}], \"parcoords\": [{\"line\": {\"colorbar\": {\"outlinewidth\": 0, \"ticks\": \"\"}}, \"type\": \"parcoords\"}], \"pie\": [{\"automargin\": true, \"type\": \"pie\"}], \"scatter\": [{\"marker\": {\"colorbar\": {\"outlinewidth\": 0, \"ticks\": \"\"}}, \"type\": \"scatter\"}], \"scatter3d\": [{\"line\": {\"colorbar\": {\"outlinewidth\": 0, \"ticks\": \"\"}}, \"marker\": {\"colorbar\": {\"outlinewidth\": 0, \"ticks\": \"\"}}, \"type\": \"scatter3d\"}], \"scattercarpet\": [{\"marker\": {\"colorbar\": {\"outlinewidth\": 0, \"ticks\": \"\"}}, \"type\": \"scattercarpet\"}], \"scattergeo\": [{\"marker\": {\"colorbar\": {\"outlinewidth\": 0, \"ticks\": \"\"}}, \"type\": \"scattergeo\"}], \"scattergl\": [{\"marker\": {\"colorbar\": {\"outlinewidth\": 0, \"ticks\": \"\"}}, \"type\": \"scattergl\"}], \"scattermapbox\": [{\"marker\": {\"colorbar\": {\"outlinewidth\": 0, \"ticks\": \"\"}}, \"type\": \"scattermapbox\"}], \"scatterpolar\": [{\"marker\": {\"colorbar\": {\"outlinewidth\": 0, \"ticks\": \"\"}}, \"type\": \"scatterpolar\"}], \"scatterpolargl\": [{\"marker\": {\"colorbar\": {\"outlinewidth\": 0, \"ticks\": \"\"}}, \"type\": \"scatterpolargl\"}], \"scatterternary\": [{\"marker\": {\"colorbar\": {\"outlinewidth\": 0, \"ticks\": \"\"}}, \"type\": \"scatterternary\"}], \"surface\": [{\"colorbar\": {\"outlinewidth\": 0, \"ticks\": \"\"}, \"colorscale\": [[0.0, \"#0d0887\"], [0.1111111111111111, \"#46039f\"], [0.2222222222222222, \"#7201a8\"], [0.3333333333333333, \"#9c179e\"], [0.4444444444444444, \"#bd3786\"], [0.5555555555555556, \"#d8576b\"], [0.6666666666666666, \"#ed7953\"], [0.7777777777777778, \"#fb9f3a\"], [0.8888888888888888, \"#fdca26\"], [1.0, \"#f0f921\"]], \"type\": \"surface\"}], \"table\": [{\"cells\": {\"fill\": {\"color\": \"#EBF0F8\"}, \"line\": {\"color\": \"white\"}}, \"header\": {\"fill\": {\"color\": \"#C8D4E3\"}, \"line\": {\"color\": \"white\"}}, \"type\": \"table\"}]}, \"layout\": {\"annotationdefaults\": {\"arrowcolor\": \"#2a3f5f\", \"arrowhead\": 0, \"arrowwidth\": 1}, \"coloraxis\": {\"colorbar\": {\"outlinewidth\": 0, \"ticks\": \"\"}}, \"colorscale\": {\"diverging\": [[0, \"#8e0152\"], [0.1, \"#c51b7d\"], [0.2, \"#de77ae\"], [0.3, \"#f1b6da\"], [0.4, \"#fde0ef\"], [0.5, \"#f7f7f7\"], [0.6, \"#e6f5d0\"], [0.7, \"#b8e186\"], [0.8, \"#7fbc41\"], [0.9, \"#4d9221\"], [1, \"#276419\"]], \"sequential\": [[0.0, \"#0d0887\"], [0.1111111111111111, \"#46039f\"], [0.2222222222222222, \"#7201a8\"], [0.3333333333333333, \"#9c179e\"], [0.4444444444444444, \"#bd3786\"], [0.5555555555555556, \"#d8576b\"], [0.6666666666666666, \"#ed7953\"], [0.7777777777777778, \"#fb9f3a\"], [0.8888888888888888, \"#fdca26\"], [1.0, \"#f0f921\"]], \"sequentialminus\": [[0.0, \"#0d0887\"], [0.1111111111111111, \"#46039f\"], [0.2222222222222222, \"#7201a8\"], [0.3333333333333333, \"#9c179e\"], [0.4444444444444444, \"#bd3786\"], [0.5555555555555556, \"#d8576b\"], [0.6666666666666666, \"#ed7953\"], [0.7777777777777778, \"#fb9f3a\"], [0.8888888888888888, \"#fdca26\"], [1.0, \"#f0f921\"]]}, \"colorway\": [\"#636efa\", \"#EF553B\", \"#00cc96\", \"#ab63fa\", \"#FFA15A\", \"#19d3f3\", \"#FF6692\", \"#B6E880\", \"#FF97FF\", \"#FECB52\"], \"font\": {\"color\": \"#2a3f5f\"}, \"geo\": {\"bgcolor\": \"white\", \"lakecolor\": \"white\", \"landcolor\": \"#E5ECF6\", \"showlakes\": true, \"showland\": true, \"subunitcolor\": \"white\"}, \"hoverlabel\": {\"align\": \"left\"}, \"hovermode\": \"closest\", \"mapbox\": {\"style\": \"light\"}, \"paper_bgcolor\": \"white\", \"plot_bgcolor\": \"#E5ECF6\", \"polar\": {\"angularaxis\": {\"gridcolor\": \"white\", \"linecolor\": \"white\", \"ticks\": \"\"}, \"bgcolor\": \"#E5ECF6\", \"radialaxis\": {\"gridcolor\": \"white\", \"linecolor\": \"white\", \"ticks\": \"\"}}, \"scene\": {\"xaxis\": {\"backgroundcolor\": \"#E5ECF6\", \"gridcolor\": \"white\", \"gridwidth\": 2, \"linecolor\": \"white\", \"showbackground\": true, \"ticks\": \"\", \"zerolinecolor\": \"white\"}, \"yaxis\": {\"backgroundcolor\": \"#E5ECF6\", \"gridcolor\": \"white\", \"gridwidth\": 2, \"linecolor\": \"white\", \"showbackground\": true, \"ticks\": \"\", \"zerolinecolor\": \"white\"}, \"zaxis\": {\"backgroundcolor\": \"#E5ECF6\", \"gridcolor\": \"white\", \"gridwidth\": 2, \"linecolor\": \"white\", \"showbackground\": true, \"ticks\": \"\", \"zerolinecolor\": \"white\"}}, \"shapedefaults\": {\"line\": {\"color\": \"#2a3f5f\"}}, \"ternary\": {\"aaxis\": {\"gridcolor\": \"white\", \"linecolor\": \"white\", \"ticks\": \"\"}, \"baxis\": {\"gridcolor\": \"white\", \"linecolor\": \"white\", \"ticks\": \"\"}, \"bgcolor\": \"#E5ECF6\", \"caxis\": {\"gridcolor\": \"white\", \"linecolor\": \"white\", \"ticks\": \"\"}}, \"title\": {\"x\": 0.05}, \"xaxis\": {\"automargin\": true, \"gridcolor\": \"white\", \"linecolor\": \"white\", \"ticks\": \"\", \"title\": {\"standoff\": 15}, \"zerolinecolor\": \"white\", \"zerolinewidth\": 2}, \"yaxis\": {\"automargin\": true, \"gridcolor\": \"white\", \"linecolor\": \"white\", \"ticks\": \"\", \"title\": {\"standoff\": 15}, \"zerolinecolor\": \"white\", \"zerolinewidth\": 2}}}, \"title\": {\"text\": \"Scatter plot of unemployment rates in 2010\"}, \"xaxis\": {\"gridwidth\": 2, \"ticklen\": 5, \"zeroline\": false}, \"yaxis\": {\"gridwidth\": 2, \"ticklen\": 5, \"title\": {\"text\": \"Youth Unemployment Rate (%)\"}}},\n",
              "                        {\"responsive\": true}\n",
              "                    ).then(function(){\n",
              "                            \n",
              "var gd = document.getElementById('767ebc84-083e-4f4b-8a2b-b91428a45693');\n",
              "var x = new MutationObserver(function (mutations, observer) {{\n",
              "        var display = window.getComputedStyle(gd).display;\n",
              "        if (!display || display === 'none') {{\n",
              "            console.log([gd, 'removed!']);\n",
              "            Plotly.purge(gd);\n",
              "            observer.disconnect();\n",
              "        }}\n",
              "}});\n",
              "\n",
              "// Listen for the removal of the full notebook cells\n",
              "var notebookContainer = gd.closest('#notebook-container');\n",
              "if (notebookContainer) {{\n",
              "    x.observe(notebookContainer, {childList: true});\n",
              "}}\n",
              "\n",
              "// Listen for the clearing of the current output cell\n",
              "var outputEl = gd.closest('.output');\n",
              "if (outputEl) {{\n",
              "    x.observe(outputEl, {childList: true});\n",
              "}}\n",
              "\n",
              "                        })\n",
              "                };\n",
              "                \n",
              "            </script>\n",
              "        </div>\n",
              "</body>\n",
              "</html>"
            ]
          },
          "metadata": {
            "tags": []
          }
        }
      ]
    },
    {
      "cell_type": "code",
      "metadata": {
        "colab": {
          "base_uri": "https://localhost:8080/",
          "height": 542
        },
        "id": "fuWl8Vsfh4v1",
        "outputId": "fb8463f2-b817-4c8c-acb5-65819c41e282"
      },
      "source": [
        "l=[]\n",
        "trace0= go.Scatter(\n",
        "        y= data2[2016],\n",
        "        mode= 'markers',\n",
        "        name='Youth Unemployment (%)',\n",
        "        marker= dict(size= data2[2016].values,\n",
        "                    line= dict(width=1),\n",
        "                    color= data2[2016].values,\n",
        "                    opacity= 0.7,\n",
        "                    colorscale='Portland',\n",
        "                    showscale=True),\n",
        "        text= data2['Country'].values) # The hover text goes here... \n",
        "l.append(trace0);\n",
        "\n",
        "layout= go.Layout(\n",
        "    title= 'Scatter plot of Youth unemployment rates in 2016',\n",
        "    hovermode= 'closest',\n",
        "    xaxis= dict(\n",
        "#        title= 'Pop',\n",
        "        ticklen= 5,\n",
        "        zeroline= False,\n",
        "        gridwidth= 2,\n",
        "    ),\n",
        "    yaxis=dict(\n",
        "        title= 'Youth Unemployment Rate (%)',\n",
        "        ticklen= 5,\n",
        "        gridwidth= 2,\n",
        "    ),\n",
        "    showlegend= False,\n",
        ")\n",
        "fig= go.Figure(data=l, layout=layout)\n",
        "fig.show()\n",
        "\n",
        "# Pre-defined color scales - 'pairs' | 'Greys' | 'Greens' | 'Bluered' | 'Hot' | 'Picnic' | 'Portland' | 'Jet' | \n",
        "# 'RdBu' | 'Blackbody' | 'Earth' | 'Electric' | 'YIOrRd' | 'YIGnBu'\n",
        "\n",
        "# Chose Portland because it seems to be the best colorscale"
      ],
      "execution_count": null,
      "outputs": [
        {
          "output_type": "display_data",
          "data": {
            "text/html": [
              "<html>\n",
              "<head><meta charset=\"utf-8\" /></head>\n",
              "<body>\n",
              "    <div>\n",
              "            <script src=\"https://cdnjs.cloudflare.com/ajax/libs/mathjax/2.7.5/MathJax.js?config=TeX-AMS-MML_SVG\"></script><script type=\"text/javascript\">if (window.MathJax) {MathJax.Hub.Config({SVG: {font: \"STIX-Web\"}});}</script>\n",
              "                <script type=\"text/javascript\">window.PlotlyConfig = {MathJaxConfig: 'local'};</script>\n",
              "        <script src=\"https://cdn.plot.ly/plotly-latest.min.js\"></script>    \n",
              "            <div id=\"441ce315-c90c-46ac-8337-5defcf6cef24\" class=\"plotly-graph-div\" style=\"height:525px; width:100%;\"></div>\n",
              "            <script type=\"text/javascript\">\n",
              "                \n",
              "                    window.PLOTLYENV=window.PLOTLYENV || {};\n",
              "                    \n",
              "                if (document.getElementById(\"441ce315-c90c-46ac-8337-5defcf6cef24\")) {\n",
              "                    Plotly.newPlot(\n",
              "                        '441ce315-c90c-46ac-8337-5defcf6cef24',\n",
              "                        [{\"marker\": {\"color\": [14.918999671936, 10.7250003814697, 4.0770001411438, 27.2999992370605, 7.6710000038147, 5.11399984359741, 2.09999990463257, 0.381999999284744, 1.62999999523163, 1.6599999666214], \"colorscale\": [[0.0, \"rgb(12,51,131)\"], [0.25, \"rgb(10,136,186)\"], [0.5, \"rgb(242,211,56)\"], [0.75, \"rgb(242,143,56)\"], [1.0, \"rgb(217,30,30)\"]], \"line\": {\"width\": 1}, \"opacity\": 0.7, \"showscale\": true, \"size\": [14.918999671936, 10.7250003814697, 4.0770001411438, 27.2999992370605, 7.6710000038147, 5.11399984359741, 2.09999990463257, 0.381999999284744, 1.62999999523163, 1.6599999666214]}, \"mode\": \"markers\", \"name\": \"Youth Unemployment (%)\", \"text\": [\"Indonesia\", \"Malaysia\", \"Singapore\", \"Brunei Darussalam\", \"Philippines\", \"Thailand\", \"Vietnam\", \"Cambodia\", \"Myanmar\", \"Lao PDR\"], \"type\": \"scatter\", \"y\": [14.918999671936, 10.7250003814697, 4.0770001411438, 27.2999992370605, 7.6710000038147, 5.11399984359741, 2.09999990463257, 0.381999999284744, 1.62999999523163, 1.6599999666214]}],\n",
              "                        {\"hovermode\": \"closest\", \"showlegend\": false, \"template\": {\"data\": {\"bar\": [{\"error_x\": {\"color\": \"#2a3f5f\"}, \"error_y\": {\"color\": \"#2a3f5f\"}, \"marker\": {\"line\": {\"color\": \"#E5ECF6\", \"width\": 0.5}}, \"type\": \"bar\"}], \"barpolar\": [{\"marker\": {\"line\": {\"color\": \"#E5ECF6\", \"width\": 0.5}}, \"type\": \"barpolar\"}], \"carpet\": [{\"aaxis\": {\"endlinecolor\": \"#2a3f5f\", \"gridcolor\": \"white\", \"linecolor\": \"white\", \"minorgridcolor\": \"white\", \"startlinecolor\": \"#2a3f5f\"}, \"baxis\": {\"endlinecolor\": \"#2a3f5f\", \"gridcolor\": \"white\", \"linecolor\": \"white\", \"minorgridcolor\": \"white\", \"startlinecolor\": \"#2a3f5f\"}, \"type\": \"carpet\"}], \"choropleth\": [{\"colorbar\": {\"outlinewidth\": 0, \"ticks\": \"\"}, \"type\": \"choropleth\"}], \"contour\": [{\"colorbar\": {\"outlinewidth\": 0, \"ticks\": \"\"}, \"colorscale\": [[0.0, \"#0d0887\"], [0.1111111111111111, \"#46039f\"], [0.2222222222222222, \"#7201a8\"], [0.3333333333333333, \"#9c179e\"], [0.4444444444444444, \"#bd3786\"], [0.5555555555555556, \"#d8576b\"], [0.6666666666666666, \"#ed7953\"], [0.7777777777777778, \"#fb9f3a\"], [0.8888888888888888, \"#fdca26\"], [1.0, \"#f0f921\"]], \"type\": \"contour\"}], \"contourcarpet\": [{\"colorbar\": {\"outlinewidth\": 0, \"ticks\": \"\"}, \"type\": \"contourcarpet\"}], \"heatmap\": [{\"colorbar\": {\"outlinewidth\": 0, \"ticks\": \"\"}, \"colorscale\": [[0.0, \"#0d0887\"], [0.1111111111111111, \"#46039f\"], [0.2222222222222222, \"#7201a8\"], [0.3333333333333333, \"#9c179e\"], [0.4444444444444444, \"#bd3786\"], [0.5555555555555556, \"#d8576b\"], [0.6666666666666666, \"#ed7953\"], [0.7777777777777778, \"#fb9f3a\"], [0.8888888888888888, \"#fdca26\"], [1.0, \"#f0f921\"]], \"type\": \"heatmap\"}], \"heatmapgl\": [{\"colorbar\": {\"outlinewidth\": 0, \"ticks\": \"\"}, \"colorscale\": [[0.0, \"#0d0887\"], [0.1111111111111111, \"#46039f\"], [0.2222222222222222, \"#7201a8\"], [0.3333333333333333, \"#9c179e\"], [0.4444444444444444, \"#bd3786\"], [0.5555555555555556, \"#d8576b\"], [0.6666666666666666, \"#ed7953\"], [0.7777777777777778, \"#fb9f3a\"], [0.8888888888888888, \"#fdca26\"], [1.0, \"#f0f921\"]], \"type\": \"heatmapgl\"}], \"histogram\": [{\"marker\": {\"colorbar\": {\"outlinewidth\": 0, \"ticks\": \"\"}}, \"type\": \"histogram\"}], \"histogram2d\": [{\"colorbar\": {\"outlinewidth\": 0, \"ticks\": \"\"}, \"colorscale\": [[0.0, \"#0d0887\"], [0.1111111111111111, \"#46039f\"], [0.2222222222222222, \"#7201a8\"], [0.3333333333333333, \"#9c179e\"], [0.4444444444444444, \"#bd3786\"], [0.5555555555555556, \"#d8576b\"], [0.6666666666666666, \"#ed7953\"], [0.7777777777777778, \"#fb9f3a\"], [0.8888888888888888, \"#fdca26\"], [1.0, \"#f0f921\"]], \"type\": \"histogram2d\"}], \"histogram2dcontour\": [{\"colorbar\": {\"outlinewidth\": 0, \"ticks\": \"\"}, \"colorscale\": [[0.0, \"#0d0887\"], [0.1111111111111111, \"#46039f\"], [0.2222222222222222, \"#7201a8\"], [0.3333333333333333, \"#9c179e\"], [0.4444444444444444, \"#bd3786\"], [0.5555555555555556, \"#d8576b\"], [0.6666666666666666, \"#ed7953\"], [0.7777777777777778, \"#fb9f3a\"], [0.8888888888888888, \"#fdca26\"], [1.0, \"#f0f921\"]], \"type\": \"histogram2dcontour\"}], \"mesh3d\": [{\"colorbar\": {\"outlinewidth\": 0, \"ticks\": \"\"}, \"type\": \"mesh3d\"}], \"parcoords\": [{\"line\": {\"colorbar\": {\"outlinewidth\": 0, \"ticks\": \"\"}}, \"type\": \"parcoords\"}], \"pie\": [{\"automargin\": true, \"type\": \"pie\"}], \"scatter\": [{\"marker\": {\"colorbar\": {\"outlinewidth\": 0, \"ticks\": \"\"}}, \"type\": \"scatter\"}], \"scatter3d\": [{\"line\": {\"colorbar\": {\"outlinewidth\": 0, \"ticks\": \"\"}}, \"marker\": {\"colorbar\": {\"outlinewidth\": 0, \"ticks\": \"\"}}, \"type\": \"scatter3d\"}], \"scattercarpet\": [{\"marker\": {\"colorbar\": {\"outlinewidth\": 0, \"ticks\": \"\"}}, \"type\": \"scattercarpet\"}], \"scattergeo\": [{\"marker\": {\"colorbar\": {\"outlinewidth\": 0, \"ticks\": \"\"}}, \"type\": \"scattergeo\"}], \"scattergl\": [{\"marker\": {\"colorbar\": {\"outlinewidth\": 0, \"ticks\": \"\"}}, \"type\": \"scattergl\"}], \"scattermapbox\": [{\"marker\": {\"colorbar\": {\"outlinewidth\": 0, \"ticks\": \"\"}}, \"type\": \"scattermapbox\"}], \"scatterpolar\": [{\"marker\": {\"colorbar\": {\"outlinewidth\": 0, \"ticks\": \"\"}}, \"type\": \"scatterpolar\"}], \"scatterpolargl\": [{\"marker\": {\"colorbar\": {\"outlinewidth\": 0, \"ticks\": \"\"}}, \"type\": \"scatterpolargl\"}], \"scatterternary\": [{\"marker\": {\"colorbar\": {\"outlinewidth\": 0, \"ticks\": \"\"}}, \"type\": \"scatterternary\"}], \"surface\": [{\"colorbar\": {\"outlinewidth\": 0, \"ticks\": \"\"}, \"colorscale\": [[0.0, \"#0d0887\"], [0.1111111111111111, \"#46039f\"], [0.2222222222222222, \"#7201a8\"], [0.3333333333333333, \"#9c179e\"], [0.4444444444444444, \"#bd3786\"], [0.5555555555555556, \"#d8576b\"], [0.6666666666666666, \"#ed7953\"], [0.7777777777777778, \"#fb9f3a\"], [0.8888888888888888, \"#fdca26\"], [1.0, \"#f0f921\"]], \"type\": \"surface\"}], \"table\": [{\"cells\": {\"fill\": {\"color\": \"#EBF0F8\"}, \"line\": {\"color\": \"white\"}}, \"header\": {\"fill\": {\"color\": \"#C8D4E3\"}, \"line\": {\"color\": \"white\"}}, \"type\": \"table\"}]}, \"layout\": {\"annotationdefaults\": {\"arrowcolor\": \"#2a3f5f\", \"arrowhead\": 0, \"arrowwidth\": 1}, \"coloraxis\": {\"colorbar\": {\"outlinewidth\": 0, \"ticks\": \"\"}}, \"colorscale\": {\"diverging\": [[0, \"#8e0152\"], [0.1, \"#c51b7d\"], [0.2, \"#de77ae\"], [0.3, \"#f1b6da\"], [0.4, \"#fde0ef\"], [0.5, \"#f7f7f7\"], [0.6, \"#e6f5d0\"], [0.7, \"#b8e186\"], [0.8, \"#7fbc41\"], [0.9, \"#4d9221\"], [1, \"#276419\"]], \"sequential\": [[0.0, \"#0d0887\"], [0.1111111111111111, \"#46039f\"], [0.2222222222222222, \"#7201a8\"], [0.3333333333333333, \"#9c179e\"], [0.4444444444444444, \"#bd3786\"], [0.5555555555555556, \"#d8576b\"], [0.6666666666666666, \"#ed7953\"], [0.7777777777777778, \"#fb9f3a\"], [0.8888888888888888, \"#fdca26\"], [1.0, \"#f0f921\"]], \"sequentialminus\": [[0.0, \"#0d0887\"], [0.1111111111111111, \"#46039f\"], [0.2222222222222222, \"#7201a8\"], [0.3333333333333333, \"#9c179e\"], [0.4444444444444444, \"#bd3786\"], [0.5555555555555556, \"#d8576b\"], [0.6666666666666666, \"#ed7953\"], [0.7777777777777778, \"#fb9f3a\"], [0.8888888888888888, \"#fdca26\"], [1.0, \"#f0f921\"]]}, \"colorway\": [\"#636efa\", \"#EF553B\", \"#00cc96\", \"#ab63fa\", \"#FFA15A\", \"#19d3f3\", \"#FF6692\", \"#B6E880\", \"#FF97FF\", \"#FECB52\"], \"font\": {\"color\": \"#2a3f5f\"}, \"geo\": {\"bgcolor\": \"white\", \"lakecolor\": \"white\", \"landcolor\": \"#E5ECF6\", \"showlakes\": true, \"showland\": true, \"subunitcolor\": \"white\"}, \"hoverlabel\": {\"align\": \"left\"}, \"hovermode\": \"closest\", \"mapbox\": {\"style\": \"light\"}, \"paper_bgcolor\": \"white\", \"plot_bgcolor\": \"#E5ECF6\", \"polar\": {\"angularaxis\": {\"gridcolor\": \"white\", \"linecolor\": \"white\", \"ticks\": \"\"}, \"bgcolor\": \"#E5ECF6\", \"radialaxis\": {\"gridcolor\": \"white\", \"linecolor\": \"white\", \"ticks\": \"\"}}, \"scene\": {\"xaxis\": {\"backgroundcolor\": \"#E5ECF6\", \"gridcolor\": \"white\", \"gridwidth\": 2, \"linecolor\": \"white\", \"showbackground\": true, \"ticks\": \"\", \"zerolinecolor\": \"white\"}, \"yaxis\": {\"backgroundcolor\": \"#E5ECF6\", \"gridcolor\": \"white\", \"gridwidth\": 2, \"linecolor\": \"white\", \"showbackground\": true, \"ticks\": \"\", \"zerolinecolor\": \"white\"}, \"zaxis\": {\"backgroundcolor\": \"#E5ECF6\", \"gridcolor\": \"white\", \"gridwidth\": 2, \"linecolor\": \"white\", \"showbackground\": true, \"ticks\": \"\", \"zerolinecolor\": \"white\"}}, \"shapedefaults\": {\"line\": {\"color\": \"#2a3f5f\"}}, \"ternary\": {\"aaxis\": {\"gridcolor\": \"white\", \"linecolor\": \"white\", \"ticks\": \"\"}, \"baxis\": {\"gridcolor\": \"white\", \"linecolor\": \"white\", \"ticks\": \"\"}, \"bgcolor\": \"#E5ECF6\", \"caxis\": {\"gridcolor\": \"white\", \"linecolor\": \"white\", \"ticks\": \"\"}}, \"title\": {\"x\": 0.05}, \"xaxis\": {\"automargin\": true, \"gridcolor\": \"white\", \"linecolor\": \"white\", \"ticks\": \"\", \"title\": {\"standoff\": 15}, \"zerolinecolor\": \"white\", \"zerolinewidth\": 2}, \"yaxis\": {\"automargin\": true, \"gridcolor\": \"white\", \"linecolor\": \"white\", \"ticks\": \"\", \"title\": {\"standoff\": 15}, \"zerolinecolor\": \"white\", \"zerolinewidth\": 2}}}, \"title\": {\"text\": \"Scatter plot of Youth unemployment rates in 2016\"}, \"xaxis\": {\"gridwidth\": 2, \"ticklen\": 5, \"zeroline\": false}, \"yaxis\": {\"gridwidth\": 2, \"ticklen\": 5, \"title\": {\"text\": \"Youth Unemployment Rate (%)\"}}},\n",
              "                        {\"responsive\": true}\n",
              "                    ).then(function(){\n",
              "                            \n",
              "var gd = document.getElementById('441ce315-c90c-46ac-8337-5defcf6cef24');\n",
              "var x = new MutationObserver(function (mutations, observer) {{\n",
              "        var display = window.getComputedStyle(gd).display;\n",
              "        if (!display || display === 'none') {{\n",
              "            console.log([gd, 'removed!']);\n",
              "            Plotly.purge(gd);\n",
              "            observer.disconnect();\n",
              "        }}\n",
              "}});\n",
              "\n",
              "// Listen for the removal of the full notebook cells\n",
              "var notebookContainer = gd.closest('#notebook-container');\n",
              "if (notebookContainer) {{\n",
              "    x.observe(notebookContainer, {childList: true});\n",
              "}}\n",
              "\n",
              "// Listen for the clearing of the current output cell\n",
              "var outputEl = gd.closest('.output');\n",
              "if (outputEl) {{\n",
              "    x.observe(outputEl, {childList: true});\n",
              "}}\n",
              "\n",
              "                        })\n",
              "                };\n",
              "                \n",
              "            </script>\n",
              "        </div>\n",
              "</body>\n",
              "</html>"
            ]
          },
          "metadata": {
            "tags": []
          }
        }
      ]
    },
    {
      "cell_type": "markdown",
      "metadata": {
        "id": "xstu6tdMj2Cy"
      },
      "source": [
        "* Terbukti dari tiga Scatter Plot sebelumnya (1991, 2010, dan 2016) bahwa Brunei Darussalam sudah menjadi negara dengan Tingkat Pengangguran Muda tertinggi diantara negara-negara ASEAN sejak 1991 (14,13%), yang meningkat menjadi 21,01% pada tahun 2010 dan 27,30% pada tahun 2016.\n",
        "* Sedangkan Indonesia, pernah menduduki peringkat empat pada tahun 1991 dengan 7,24%, lalu naik menjadi peringkat kedua tertinggi pada tahun 2010 dan 2016 meski mengalami penurunan yaitu dari 16,88% (2010) menjadi 14,92% (2016)."
      ]
    },
    {
      "cell_type": "markdown",
      "metadata": {
        "id": "sXazrRrBsYnG"
      },
      "source": [
        "# ***Check Government Performance***"
      ]
    },
    {
      "cell_type": "markdown",
      "metadata": {
        "id": "-n6dYzSikQOG"
      },
      "source": [
        "Hanya mengetahui Tingkat Pengangguran Muda dari setiap negara dirasa belum cukup untuk menggambarkan kondisi Tingkat Pengangguran Muda itu sendiri. Perlu juga analisis yang menjelaskan bagaimana pengangguran telah berubah selama bertahun-tahun dari negara-negara ASEAN. Hal ini dapat menunjukkan bagaimana otoritas dari setiap negara mengelola krisis pengangguran muda yang terus menghantui dari tahun ke tahun. Untuk mempermudah, data menjadi dua periode, yaitu dari 2006 ke 2011 dan dari 2011 ke 2016."
      ]
    },
    {
      "cell_type": "markdown",
      "metadata": {
        "id": "aqEfjgU2shhc"
      },
      "source": [
        "1. **Analysis performance per 5 years(last ten years)**"
      ]
    },
    {
      "cell_type": "code",
      "metadata": {
        "id": "lF_5LQOSsTQW"
      },
      "source": [
        "data2['2016-2011 change']=data2[2016]-data2[2011]"
      ],
      "execution_count": null,
      "outputs": []
    },
    {
      "cell_type": "code",
      "metadata": {
        "id": "KZK4-uCj71fL"
      },
      "source": [
        "data2['2011-2006 change']=data2[2011]-data2[2006]"
      ],
      "execution_count": null,
      "outputs": []
    },
    {
      "cell_type": "code",
      "metadata": {
        "colab": {
          "base_uri": "https://localhost:8080/"
        },
        "id": "SK03gQhA6TfX",
        "outputId": "3d5570bf-1861-4958-8fae-ce366c1ac8a6"
      },
      "source": [
        "data2.columns"
      ],
      "execution_count": null,
      "outputs": [
        {
          "output_type": "execute_result",
          "data": {
            "text/plain": [
              "Index([         'Country',             'Code',   'Indicator Name',\n",
              "                     1991,               1992,               1993,\n",
              "                     1994,               1995,               1996,\n",
              "                     1997,               1998,               1999,\n",
              "                     2000,               2001,               2002,\n",
              "                     2003,               2004,               2005,\n",
              "                     2006,               2007,               2008,\n",
              "                     2009,               2010,               2011,\n",
              "                     2012,               2013,               2014,\n",
              "                     2015,               2016, '2016-2011 change',\n",
              "       '2011-2006 change'],\n",
              "      dtype='object')"
            ]
          },
          "metadata": {
            "tags": []
          },
          "execution_count": 12
        }
      ]
    },
    {
      "cell_type": "code",
      "metadata": {
        "colab": {
          "base_uri": "https://localhost:8080/",
          "height": 530
        },
        "id": "ZOJWVYI26SNG",
        "outputId": "bbf955a9-8a78-4e3f-d2bf-e1720d15f3a0"
      },
      "source": [
        "# Tried with Plotly now going with seaborn\n",
        "fiveyearchange201611_bar, countries_bar1 = (list(x) for x in zip(*sorted(zip(data2['2016-2011 change'], data2['Country']), \n",
        "                                                             reverse = True)))\n",
        "\n",
        "fiveyearchange201106_bar, countries_bar2 = (list(x) for x in zip(*sorted(zip(data2['2011-2006 change'], data2['Country']), \n",
        "                                                             reverse = True)))\n",
        "\n",
        "# Another direct way of sorting according to values is creating distinct sorted dataframes as in below commented ways and then\n",
        "# passing their values directly as in below mentioned code to achieve the same effect as by above mentioned method.\n",
        "\n",
        "# data2_sorted=data2.sort(columns='2016-2011 change',ascending=False)\n",
        "# data2_sorted.head()\n",
        "\n",
        "\n",
        "sns.set(font_scale=1) \n",
        "fig, axes = plt.subplots(1,2,figsize=(36,15))\n",
        "colorspal = sns.color_palette('husl', len(data2[2016]))\n",
        "sns.barplot(fiveyearchange201611_bar, countries_bar1, palette = colorspal,ax=axes[0])\n",
        "sns.barplot(fiveyearchange201106_bar, countries_bar2, palette = colorspal,ax=axes[1])\n",
        "axes[0].set(xlabel='%age change in Youth Unemployment Rates', title='Net %age change in Youth Unemployment Rates between 2011-2016')\n",
        "axes[1].set(xlabel='%age change in Youth Unemployment Rates', title='Net %age change in Youth Unemployment Rates between 2011-2006')\n",
        "fig.show()"
      ],
      "execution_count": null,
      "outputs": [
        {
          "output_type": "display_data",
          "data": {
            "image/png": "[encoded data removed]",
            "text/plain": [
              "<Figure size 2592x1080 with 2 Axes>"
            ]
          },
          "metadata": {
            "tags": []
          }
        }
      ]
    },
    {
      "cell_type": "markdown",
      "metadata": {
        "id": "QO7Gn9cDkY0u"
      },
      "source": [
        "* Dapat dilihat bahwa Brunei Darussalam baik periode 2006-2011 maupun periode 2011-2016 menjadi negara yang Tingkat Pengangguran Muda-nya terus meningkat. \n",
        "* Pada periode 2006-2011, semua negara kecuali Brunei Darussalam mengalami penurunan tingkat pengangguran muda (grafik kanan).\n",
        "* Sedangkan pada periode 2011-2016, Thailand, Malaysia, Vietnam, Myanmar, dan Lao PDR mengalami kenaikan, Cambodia tidak mengalami perubahan yang signifikan, sedangkan Philippines, Indonesia dan Singapore mengalami penurunan (grafik kiri)."
      ]
    },
    {
      "cell_type": "markdown",
      "metadata": {
        "id": "dsmFepIyk1bX"
      },
      "source": [
        "Berikutnya, analisis akan berfokus pada perubahan gabungan dua periode tersebut (2006-2016) dan akan mengelompokkan negara-negara mana saja yang paling berhasil dan gagal total dalam menangani Tingkat Pengangguran Muda. Periode yang lama ini pada dasarnya merupakan gambaran dari kesediaan otoritas negara masing-masing dalam menangani Tingkat Pengangguran Muda."
      ]
    },
    {
      "cell_type": "code",
      "metadata": {
        "id": "X3_hLKkJ_NX5"
      },
      "source": [
        "data2['2016-2006 change']=data2[2016]-data2[2006]"
      ],
      "execution_count": null,
      "outputs": []
    },
    {
      "cell_type": "code",
      "metadata": {
        "id": "87Y-hPoFNI1o"
      },
      "source": [
        "top3 = data2.sort_values(by='2016-2006 change',ascending=True).head(3)"
      ],
      "execution_count": null,
      "outputs": []
    },
    {
      "cell_type": "code",
      "metadata": {
        "id": "9SK0QIjYKhi9"
      },
      "source": [
        "bottom3= data2.sort_values(by='2016-2006 change',ascending=False).head(3)"
      ],
      "execution_count": null,
      "outputs": []
    },
    {
      "cell_type": "code",
      "metadata": {
        "colab": {
          "base_uri": "https://localhost:8080/",
          "height": 540
        },
        "id": "63_FhgShKjvA",
        "outputId": "b1eb5a43-8231-4483-b7dc-dcc4ce3f339a"
      },
      "source": [
        "sns.set(font_scale=1.4) \n",
        "fig, axes = plt.subplots(1,2,figsize=(36,15))\n",
        "colorspal = sns.color_palette('husl', len(top3[2016]))\n",
        "sns.barplot(top3['2016-2006 change'], top3['Country'], palette = colorspal,ax=axes[0])\n",
        "sns.barplot(bottom3['2016-2006 change'], bottom3['Country'], palette = colorspal,ax=axes[1])\n",
        "axes[0].set(xlabel='%age change in Youth Unemployment Rates', title='Top 3 Performers in Controlling Unemployment between 2006-2016')\n",
        "axes[1].set(xlabel='%age change in Youth Unemployment Rates', title='Bottom 3 Performers in Controlling Unemployment between 2006-2016')\n",
        "fig.show()"
      ],
      "execution_count": null,
      "outputs": [
        {
          "output_type": "display_data",
          "data": {
            "image/png": "[encoded data removed]",
            "text/plain": [
              "<Figure size 2592x1080 with 2 Axes>"
            ]
          },
          "metadata": {
            "tags": []
          }
        }
      ]
    },
    {
      "cell_type": "markdown",
      "metadata": {
        "id": "aofWk_-Sk6TW"
      },
      "source": [
        "* Horizontal Bar Plot di sebelah kiri menunjukkan tiga negara teratas yang paling berhasil menangani pengangguran muda di negaranya selama periode 2006-2016. Dapat dilihat bahwa Indonesia adalah negara yang paling berhasil dalam menangani Tingkat Pengangguran Muda disusul oleh Singapore dan Cambodia. Namun perlu diingat juga bahwa pada tahun 2016 Indonesia masih menjadi negara yang memiliki Tingkat Pengangguran Muda tertinggi kedua di ASEAN dengan 14,91%. Sedangkan Cambodia berhak diberikan penghargaan karena selain menjadi peringkat tiga negara yang paling berhasil dalam menangani Tingkat Pengangguran Muda juga menjadi negara dengan Tingkat Pengangguran Muda terendah se-ASEAN dengan 0,38% di tahun 2016.\n",
        "* Untuk negara yang paling gagal dalam menangani Tingkat Pengangguran Muda dipimpin oleh Brunei Darussalam, disusul oleh Thailand dan Malaysia. Namun juga bisa dilihat bahwa tingkat kegagalan Brunei Darussalam jauh lebih tinggi dibandingkan dengan Thailand dan Malaysia. Selain itu juga perlu diingat bahwa Brunei Darussalam pada tahun 2016 juga menjadi negara dengan Tingkat Pengangguran Muda tertinggi se-ASEAN dengan 27,30%, sedangkan Malaysia dan Thailand hanya dengan masing-masing 10,73% dan 5,11% di tahun yang sama. \n",
        "* Perlu diingat bahwa peringkat-peringkat tersebut sama sekali tidak menunjukkan \"parah atau tidak”-nya Tingkat Pengangguran Muda di ASEAN. Sudah dijelaskan juga sebelumnya bahwa Indonesia memang menjadi negara yang paling sukses dalam menangani Tingkat Pengangguran Muda di periode 2006-2016 namun masih menjadi negara dengan Tingkat Pengangguran Muda tertinggi kedua se-ASEAN (14,92%) di tahun 2016. Thailand meski termasuk “bottom 3” dalam penanganan Tingkat Pengangguran Muda, nyatanya hanya memiliki 5,11% Tingkat Pengangguran Muda di tahun yang sama."
      ]
    }
  ]
}