{
  "nbformat": 4,
  "nbformat_minor": 0,
  "metadata": {
    "colab": {
      "name": "Datamining_kelompok1",
      "provenance": [],
      "collapsed_sections": [
        "5uTPrwLWkqyH"
      ],
      "include_colab_link": true
    },
    "kernelspec": {
      "name": "python3",
      "display_name": "Python 3"
    },
    "language_info": {
      "name": "python"
    }
  },
  "cells": [
    {
      "cell_type": "markdown",
      "metadata": {
        "id": "view-in-github",
        "colab_type": "text"
      },
      "source": [
        "<a href=\"https://colab.research.google.com/github/xrizer/Portfolio-Data-Analysis/blob/main/Datamining_kelompok1.ipynb\" target=\"_parent\"><img src=\"https://colab.research.google.com/assets/colab-badge.svg\" alt=\"Open In Colab\"/></a>"
      ]
    },
    {
      "cell_type": "markdown",
      "metadata": {
        "id": "5uTPrwLWkqyH"
      },
      "source": [
        "# **EDA by Kelompok 1 - Jakarta** \n",
        "1.   Aqshol Afifi (11190930000057)\n",
        "2.   Hana Rahmaniah  Sabila (11190930000058)\n",
        "3.   Muhammad Farid (11190930000070)\n",
        "4.   Yayi Puspita Sari (11190930000052)\n",
        "5.   Muthia Farah Hanifa (11190930000073)\n",
        "\n",
        "**Data berdasarkan rumah123.com yang di ambil melalui proses scraping manual web**\n",
        "\n",
        "\n"
      ]
    },
    {
      "cell_type": "markdown",
      "metadata": {
        "id": "BhRtd6rlkghs"
      },
      "source": [
        "# **Tahap Preprocessing**"
      ]
    },
    {
      "cell_type": "code",
      "metadata": {
        "id": "u7_4gP99dN4_"
      },
      "source": [
        "# Mengimport modul Python.\n",
        "import pandas as pd\n",
        "import matplotlib.pyplot as plt\n",
        "import numpy as np\n",
        "import plotly.express as px\n",
        "import seaborn as sns"
      ],
      "execution_count": null,
      "outputs": []
    },
    {
      "cell_type": "code",
      "metadata": {
        "id": "dmFQwS8vdhQp",
        "colab": {
          "base_uri": "https://localhost:8080/",
          "height": 425
        },
        "outputId": "a86b9b52-65a6-4f9b-8f51-97bc5b72f144"
      },
      "source": [
        "# Mengimport data csv dan menampilkan beberapa data teratas.\n",
        "df = pd.read_excel('https://github.com/xrizer/tugas-programming-class/blob/master/kelompok%201%20fix.xlsx?raw=true')\n",
        "df.head()"
      ],
      "execution_count": null,
      "outputs": [
        {
          "output_type": "execute_result",
          "data": {
            "text/html": [
              "<div>\n",
              "<style scoped>\n",
              "    .dataframe tbody tr th:only-of-type {\n",
              "        vertical-align: middle;\n",
              "    }\n",
              "\n",
              "    .dataframe tbody tr th {\n",
              "        vertical-align: top;\n",
              "    }\n",
              "\n",
              "    .dataframe thead th {\n",
              "        text-align: right;\n",
              "    }\n",
              "</style>\n",
              "<table border=\"1\" class=\"dataframe\">\n",
              "  <thead>\n",
              "    <tr style=\"text-align: right;\">\n",
              "      <th></th>\n",
              "      <th>no</th>\n",
              "      <th>tgl_iklan</th>\n",
              "      <th>url</th>\n",
              "      <th>harga</th>\n",
              "      <th>kota</th>\n",
              "      <th>LT</th>\n",
              "      <th>LB</th>\n",
              "      <th>KT</th>\n",
              "      <th>KM</th>\n",
              "      <th>KTP</th>\n",
              "      <th>KMP</th>\n",
              "      <th>carport</th>\n",
              "      <th>garasi</th>\n",
              "      <th>listrik</th>\n",
              "      <th>surat</th>\n",
              "      <th>judul</th>\n",
              "      <th>deskripsi</th>\n",
              "    </tr>\n",
              "  </thead>\n",
              "  <tbody>\n",
              "    <tr>\n",
              "      <th>0</th>\n",
              "      <td>1</td>\n",
              "      <td>2021-03-31</td>\n",
              "      <td>https://www.rumah.com/listing-properti/dijual-...</td>\n",
              "      <td>682200000</td>\n",
              "      <td>Jakarta</td>\n",
              "      <td>44</td>\n",
              "      <td>52</td>\n",
              "      <td>3</td>\n",
              "      <td>2</td>\n",
              "      <td>0</td>\n",
              "      <td>0</td>\n",
              "      <td>1</td>\n",
              "      <td>0</td>\n",
              "      <td>2200.0</td>\n",
              "      <td>SHM</td>\n",
              "      <td>Rumah murah strategis KPR All in, 2 lantai pre...</td>\n",
              "      <td>\\nRumah Murah Dan Asri Dekat Pintu Tol Anti Ba...</td>\n",
              "    </tr>\n",
              "    <tr>\n",
              "      <th>1</th>\n",
              "      <td>2</td>\n",
              "      <td>2021-04-01</td>\n",
              "      <td>https://www.rumah.com/listing-properti/dijual-...</td>\n",
              "      <td>2100000000</td>\n",
              "      <td>Jakarta</td>\n",
              "      <td>162</td>\n",
              "      <td>200</td>\n",
              "      <td>4</td>\n",
              "      <td>2</td>\n",
              "      <td>1</td>\n",
              "      <td>1</td>\n",
              "      <td>0</td>\n",
              "      <td>1</td>\n",
              "      <td>3500.0</td>\n",
              "      <td>SHM</td>\n",
              "      <td>Dijual rumah bagus di Taman Modern cakung</td>\n",
              "      <td>Dijual Rumah Bagus Di Taman Modern Cakung Jaka...</td>\n",
              "    </tr>\n",
              "    <tr>\n",
              "      <th>2</th>\n",
              "      <td>3</td>\n",
              "      <td>2021-04-01</td>\n",
              "      <td>https://www.rumah.com/listing-properti/dijual-...</td>\n",
              "      <td>2900000000</td>\n",
              "      <td>Jakarta</td>\n",
              "      <td>102</td>\n",
              "      <td>200</td>\n",
              "      <td>4</td>\n",
              "      <td>2</td>\n",
              "      <td>1</td>\n",
              "      <td>1</td>\n",
              "      <td>1</td>\n",
              "      <td>1</td>\n",
              "      <td>3500.0</td>\n",
              "      <td>SHM</td>\n",
              "      <td>Rumah di Janur Asri, Kelapa Gading</td>\n",
              "      <td>Rumah Di Janur Asri, Kelapa Gading\\nDijual rum...</td>\n",
              "    </tr>\n",
              "    <tr>\n",
              "      <th>3</th>\n",
              "      <td>4</td>\n",
              "      <td>2021-04-01</td>\n",
              "      <td>https://www.rumah.com/listing-properti/dijual-...</td>\n",
              "      <td>4900000000</td>\n",
              "      <td>Jakarta</td>\n",
              "      <td>149</td>\n",
              "      <td>225</td>\n",
              "      <td>4</td>\n",
              "      <td>3</td>\n",
              "      <td>1</td>\n",
              "      <td>0</td>\n",
              "      <td>2</td>\n",
              "      <td>1</td>\n",
              "      <td>2200.0</td>\n",
              "      <td>SHM</td>\n",
              "      <td>Harga Perdana Rumah 3 Lantai di The Heritage R...</td>\n",
              "      <td>Rumah Mewah 3 Lantai Harga Perdana\\nLaunch NOW...</td>\n",
              "    </tr>\n",
              "    <tr>\n",
              "      <th>4</th>\n",
              "      <td>5</td>\n",
              "      <td>2021-04-01</td>\n",
              "      <td>https://www.rumah.com/listing-properti/dijual-...</td>\n",
              "      <td>2800000000</td>\n",
              "      <td>Jakarta</td>\n",
              "      <td>120</td>\n",
              "      <td>180</td>\n",
              "      <td>4</td>\n",
              "      <td>3</td>\n",
              "      <td>1</td>\n",
              "      <td>1</td>\n",
              "      <td>2</td>\n",
              "      <td>0</td>\n",
              "      <td>2200.0</td>\n",
              "      <td>SHM</td>\n",
              "      <td>Rumah Mewah Siap Huni Strategis Dekat Toll Jag...</td>\n",
              "      <td>10 Menit Menuju Toll Andara\\nFDL 2187RJ\\nDijua...</td>\n",
              "    </tr>\n",
              "  </tbody>\n",
              "</table>\n",
              "</div>"
            ],
            "text/plain": [
              "   no  ...                                          deskripsi\n",
              "0   1  ...  \\nRumah Murah Dan Asri Dekat Pintu Tol Anti Ba...\n",
              "1   2  ...  Dijual Rumah Bagus Di Taman Modern Cakung Jaka...\n",
              "2   3  ...  Rumah Di Janur Asri, Kelapa Gading\\nDijual rum...\n",
              "3   4  ...  Rumah Mewah 3 Lantai Harga Perdana\\nLaunch NOW...\n",
              "4   5  ...  10 Menit Menuju Toll Andara\\nFDL 2187RJ\\nDijua...\n",
              "\n",
              "[5 rows x 17 columns]"
            ]
          },
          "metadata": {
            "tags": []
          },
          "execution_count": 2
        }
      ]
    },
    {
      "cell_type": "code",
      "metadata": {
        "colab": {
          "base_uri": "https://localhost:8080/"
        },
        "id": "sukltHQK9Gz7",
        "outputId": "b846840c-e44a-45f2-a431-83de0e73ef7c"
      },
      "source": [
        "# Memeriksa data yang terduplikasi.\n",
        "df.duplicated().any()"
      ],
      "execution_count": null,
      "outputs": [
        {
          "output_type": "execute_result",
          "data": {
            "text/plain": [
              "False"
            ]
          },
          "metadata": {
            "tags": []
          },
          "execution_count": 3
        }
      ]
    },
    {
      "cell_type": "code",
      "metadata": {
        "id": "8hmvd1_TdsD5"
      },
      "source": [
        "# Menghapus variabel no, tgl_iklan, url, judul, deskripsi, dan kota.\n",
        "hapus = ['no','tgl_iklan','url','judul','deskripsi','kota']\n",
        "df.drop(hapus,axis=1,inplace=True)"
      ],
      "execution_count": null,
      "outputs": []
    },
    {
      "cell_type": "markdown",
      "metadata": {
        "id": "EW9VKydPgkYd"
      },
      "source": [
        "# **Handle Missing Values**"
      ]
    },
    {
      "cell_type": "code",
      "metadata": {
        "colab": {
          "base_uri": "https://localhost:8080/"
        },
        "id": "n9loCNp2NsAB",
        "outputId": "c9633166-6bc0-469d-e02e-8a228eed7233"
      },
      "source": [
        "# Memeriksa missing values.\n",
        "df.isna().any()"
      ],
      "execution_count": null,
      "outputs": [
        {
          "output_type": "execute_result",
          "data": {
            "text/plain": [
              "harga      False\n",
              "LT         False\n",
              "LB         False\n",
              "KT         False\n",
              "KM         False\n",
              "KTP        False\n",
              "KMP        False\n",
              "carport    False\n",
              "garasi     False\n",
              "listrik     True\n",
              "surat      False\n",
              "dtype: bool"
            ]
          },
          "metadata": {
            "tags": []
          },
          "execution_count": 5
        }
      ]
    },
    {
      "cell_type": "markdown",
      "metadata": {
        "id": "CSSEZnmjPAFT"
      },
      "source": [
        "Terdapat missing values pada kolom listrik."
      ]
    },
    {
      "cell_type": "code",
      "metadata": {
        "id": "b9rr9IFNNEC2"
      },
      "source": [
        "# Mengimputasi missing values pada kolom listrik menggunakan sklearn simple imputer dengan metode median.\n",
        "from sklearn.impute import SimpleImputer\n",
        "imr = SimpleImputer(missing_values=np.nan, strategy='median')\n",
        "imr = imr.fit(df[['listrik']])\n",
        "df['listrik'] = imr.transform(df[['listrik']]).ravel()"
      ],
      "execution_count": null,
      "outputs": []
    },
    {
      "cell_type": "code",
      "metadata": {
        "colab": {
          "base_uri": "https://localhost:8080/"
        },
        "id": "B1kY3OKwN09O",
        "outputId": "336b5e6b-f9a6-4ad5-95a1-c525279897f0"
      },
      "source": [
        "# Memeriksa kolom listrik setelah diimputasi.\n",
        "df.isnull().any()"
      ],
      "execution_count": null,
      "outputs": [
        {
          "output_type": "execute_result",
          "data": {
            "text/plain": [
              "harga      False\n",
              "LT         False\n",
              "LB         False\n",
              "KT         False\n",
              "KM         False\n",
              "KTP        False\n",
              "KMP        False\n",
              "carport    False\n",
              "garasi     False\n",
              "listrik    False\n",
              "surat      False\n",
              "dtype: bool"
            ]
          },
          "metadata": {
            "tags": []
          },
          "execution_count": 7
        }
      ]
    },
    {
      "cell_type": "code",
      "metadata": {
        "colab": {
          "base_uri": "https://localhost:8080/",
          "height": 297
        },
        "id": "8s5ntPX0QddA",
        "outputId": "c9df0e7e-5255-48e4-a3fa-058c2d4cc6e5"
      },
      "source": [
        "# Statistik deskriptif data.\n",
        "df.describe()"
      ],
      "execution_count": null,
      "outputs": [
        {
          "output_type": "execute_result",
          "data": {
            "text/html": [
              "<div>\n",
              "<style scoped>\n",
              "    .dataframe tbody tr th:only-of-type {\n",
              "        vertical-align: middle;\n",
              "    }\n",
              "\n",
              "    .dataframe tbody tr th {\n",
              "        vertical-align: top;\n",
              "    }\n",
              "\n",
              "    .dataframe thead th {\n",
              "        text-align: right;\n",
              "    }\n",
              "</style>\n",
              "<table border=\"1\" class=\"dataframe\">\n",
              "  <thead>\n",
              "    <tr style=\"text-align: right;\">\n",
              "      <th></th>\n",
              "      <th>harga</th>\n",
              "      <th>LT</th>\n",
              "      <th>LB</th>\n",
              "      <th>KT</th>\n",
              "      <th>KM</th>\n",
              "      <th>KTP</th>\n",
              "      <th>KMP</th>\n",
              "      <th>carport</th>\n",
              "      <th>garasi</th>\n",
              "      <th>listrik</th>\n",
              "    </tr>\n",
              "  </thead>\n",
              "  <tbody>\n",
              "    <tr>\n",
              "      <th>count</th>\n",
              "      <td>1.000000e+02</td>\n",
              "      <td>100.000000</td>\n",
              "      <td>100.000000</td>\n",
              "      <td>100.000000</td>\n",
              "      <td>100.000000</td>\n",
              "      <td>100.000000</td>\n",
              "      <td>100.000000</td>\n",
              "      <td>100.000000</td>\n",
              "      <td>100.000000</td>\n",
              "      <td>100.000000</td>\n",
              "    </tr>\n",
              "    <tr>\n",
              "      <th>mean</th>\n",
              "      <td>5.417133e+09</td>\n",
              "      <td>212.210000</td>\n",
              "      <td>247.980000</td>\n",
              "      <td>3.840000</td>\n",
              "      <td>3.080000</td>\n",
              "      <td>0.350000</td>\n",
              "      <td>0.230000</td>\n",
              "      <td>1.700000</td>\n",
              "      <td>0.390000</td>\n",
              "      <td>4278.000000</td>\n",
              "    </tr>\n",
              "    <tr>\n",
              "      <th>std</th>\n",
              "      <td>1.169911e+10</td>\n",
              "      <td>235.522299</td>\n",
              "      <td>275.820392</td>\n",
              "      <td>1.405041</td>\n",
              "      <td>1.685829</td>\n",
              "      <td>0.592461</td>\n",
              "      <td>0.422953</td>\n",
              "      <td>1.666667</td>\n",
              "      <td>0.601261</td>\n",
              "      <td>6774.932703</td>\n",
              "    </tr>\n",
              "    <tr>\n",
              "      <th>min</th>\n",
              "      <td>1.400000e+08</td>\n",
              "      <td>20.000000</td>\n",
              "      <td>35.000000</td>\n",
              "      <td>1.000000</td>\n",
              "      <td>0.000000</td>\n",
              "      <td>0.000000</td>\n",
              "      <td>0.000000</td>\n",
              "      <td>0.000000</td>\n",
              "      <td>0.000000</td>\n",
              "      <td>1300.000000</td>\n",
              "    </tr>\n",
              "    <tr>\n",
              "      <th>25%</th>\n",
              "      <td>1.200000e+09</td>\n",
              "      <td>90.000000</td>\n",
              "      <td>90.000000</td>\n",
              "      <td>3.000000</td>\n",
              "      <td>2.000000</td>\n",
              "      <td>0.000000</td>\n",
              "      <td>0.000000</td>\n",
              "      <td>1.000000</td>\n",
              "      <td>0.000000</td>\n",
              "      <td>2200.000000</td>\n",
              "    </tr>\n",
              "    <tr>\n",
              "      <th>50%</th>\n",
              "      <td>2.275000e+09</td>\n",
              "      <td>135.000000</td>\n",
              "      <td>170.000000</td>\n",
              "      <td>4.000000</td>\n",
              "      <td>3.000000</td>\n",
              "      <td>0.000000</td>\n",
              "      <td>0.000000</td>\n",
              "      <td>1.000000</td>\n",
              "      <td>0.000000</td>\n",
              "      <td>2200.000000</td>\n",
              "    </tr>\n",
              "    <tr>\n",
              "      <th>75%</th>\n",
              "      <td>4.575000e+09</td>\n",
              "      <td>238.500000</td>\n",
              "      <td>283.500000</td>\n",
              "      <td>4.250000</td>\n",
              "      <td>4.000000</td>\n",
              "      <td>1.000000</td>\n",
              "      <td>0.000000</td>\n",
              "      <td>2.000000</td>\n",
              "      <td>1.000000</td>\n",
              "      <td>3725.000000</td>\n",
              "    </tr>\n",
              "    <tr>\n",
              "      <th>max</th>\n",
              "      <td>9.600000e+10</td>\n",
              "      <td>1500.000000</td>\n",
              "      <td>2000.000000</td>\n",
              "      <td>10.000000</td>\n",
              "      <td>10.000000</td>\n",
              "      <td>3.000000</td>\n",
              "      <td>1.000000</td>\n",
              "      <td>9.000000</td>\n",
              "      <td>3.000000</td>\n",
              "      <td>66000.000000</td>\n",
              "    </tr>\n",
              "  </tbody>\n",
              "</table>\n",
              "</div>"
            ],
            "text/plain": [
              "              harga           LT  ...      garasi       listrik\n",
              "count  1.000000e+02   100.000000  ...  100.000000    100.000000\n",
              "mean   5.417133e+09   212.210000  ...    0.390000   4278.000000\n",
              "std    1.169911e+10   235.522299  ...    0.601261   6774.932703\n",
              "min    1.400000e+08    20.000000  ...    0.000000   1300.000000\n",
              "25%    1.200000e+09    90.000000  ...    0.000000   2200.000000\n",
              "50%    2.275000e+09   135.000000  ...    0.000000   2200.000000\n",
              "75%    4.575000e+09   238.500000  ...    1.000000   3725.000000\n",
              "max    9.600000e+10  1500.000000  ...    3.000000  66000.000000\n",
              "\n",
              "[8 rows x 10 columns]"
            ]
          },
          "metadata": {
            "tags": []
          },
          "execution_count": 8
        }
      ]
    },
    {
      "cell_type": "code",
      "metadata": {
        "colab": {
          "base_uri": "https://localhost:8080/",
          "height": 204
        },
        "id": "Dp7Mz4KeA4gO",
        "outputId": "d3b37e28-0dc7-4558-bf7f-9e3c81b28afe"
      },
      "source": [
        "# Memisahkan data yang hanya bertipe numerik.\n",
        "df_num = df.select_dtypes(include = ['float64', 'int64'])\n",
        "df_num.head()"
      ],
      "execution_count": null,
      "outputs": [
        {
          "output_type": "execute_result",
          "data": {
            "text/html": [
              "<div>\n",
              "<style scoped>\n",
              "    .dataframe tbody tr th:only-of-type {\n",
              "        vertical-align: middle;\n",
              "    }\n",
              "\n",
              "    .dataframe tbody tr th {\n",
              "        vertical-align: top;\n",
              "    }\n",
              "\n",
              "    .dataframe thead th {\n",
              "        text-align: right;\n",
              "    }\n",
              "</style>\n",
              "<table border=\"1\" class=\"dataframe\">\n",
              "  <thead>\n",
              "    <tr style=\"text-align: right;\">\n",
              "      <th></th>\n",
              "      <th>harga</th>\n",
              "      <th>LT</th>\n",
              "      <th>LB</th>\n",
              "      <th>KT</th>\n",
              "      <th>KM</th>\n",
              "      <th>KTP</th>\n",
              "      <th>KMP</th>\n",
              "      <th>carport</th>\n",
              "      <th>garasi</th>\n",
              "      <th>listrik</th>\n",
              "    </tr>\n",
              "  </thead>\n",
              "  <tbody>\n",
              "    <tr>\n",
              "      <th>0</th>\n",
              "      <td>682200000</td>\n",
              "      <td>44</td>\n",
              "      <td>52</td>\n",
              "      <td>3</td>\n",
              "      <td>2</td>\n",
              "      <td>0</td>\n",
              "      <td>0</td>\n",
              "      <td>1</td>\n",
              "      <td>0</td>\n",
              "      <td>2200.0</td>\n",
              "    </tr>\n",
              "    <tr>\n",
              "      <th>1</th>\n",
              "      <td>2100000000</td>\n",
              "      <td>162</td>\n",
              "      <td>200</td>\n",
              "      <td>4</td>\n",
              "      <td>2</td>\n",
              "      <td>1</td>\n",
              "      <td>1</td>\n",
              "      <td>0</td>\n",
              "      <td>1</td>\n",
              "      <td>3500.0</td>\n",
              "    </tr>\n",
              "    <tr>\n",
              "      <th>2</th>\n",
              "      <td>2900000000</td>\n",
              "      <td>102</td>\n",
              "      <td>200</td>\n",
              "      <td>4</td>\n",
              "      <td>2</td>\n",
              "      <td>1</td>\n",
              "      <td>1</td>\n",
              "      <td>1</td>\n",
              "      <td>1</td>\n",
              "      <td>3500.0</td>\n",
              "    </tr>\n",
              "    <tr>\n",
              "      <th>3</th>\n",
              "      <td>4900000000</td>\n",
              "      <td>149</td>\n",
              "      <td>225</td>\n",
              "      <td>4</td>\n",
              "      <td>3</td>\n",
              "      <td>1</td>\n",
              "      <td>0</td>\n",
              "      <td>2</td>\n",
              "      <td>1</td>\n",
              "      <td>2200.0</td>\n",
              "    </tr>\n",
              "    <tr>\n",
              "      <th>4</th>\n",
              "      <td>2800000000</td>\n",
              "      <td>120</td>\n",
              "      <td>180</td>\n",
              "      <td>4</td>\n",
              "      <td>3</td>\n",
              "      <td>1</td>\n",
              "      <td>1</td>\n",
              "      <td>2</td>\n",
              "      <td>0</td>\n",
              "      <td>2200.0</td>\n",
              "    </tr>\n",
              "  </tbody>\n",
              "</table>\n",
              "</div>"
            ],
            "text/plain": [
              "        harga   LT   LB  KT  KM  KTP  KMP  carport  garasi  listrik\n",
              "0   682200000   44   52   3   2    0    0        1       0   2200.0\n",
              "1  2100000000  162  200   4   2    1    1        0       1   3500.0\n",
              "2  2900000000  102  200   4   2    1    1        1       1   3500.0\n",
              "3  4900000000  149  225   4   3    1    0        2       1   2200.0\n",
              "4  2800000000  120  180   4   3    1    1        2       0   2200.0"
            ]
          },
          "metadata": {
            "tags": []
          },
          "execution_count": 9
        }
      ]
    },
    {
      "cell_type": "code",
      "metadata": {
        "id": "P3KWUeF_P0O3",
        "colab": {
          "base_uri": "https://localhost:8080/"
        },
        "outputId": "750a4165-8646-4863-959c-a77c28b3652a"
      },
      "source": [
        "# Memastikan tipe data surat adalah kategorik.\n",
        "df['surat'] = df['surat'].astype('category')\n",
        "df.dtypes"
      ],
      "execution_count": null,
      "outputs": [
        {
          "output_type": "execute_result",
          "data": {
            "text/plain": [
              "harga         int64\n",
              "LT            int64\n",
              "LB            int64\n",
              "KT            int64\n",
              "KM            int64\n",
              "KTP           int64\n",
              "KMP           int64\n",
              "carport       int64\n",
              "garasi        int64\n",
              "listrik     float64\n",
              "surat      category\n",
              "dtype: object"
            ]
          },
          "metadata": {
            "tags": []
          },
          "execution_count": 10
        }
      ]
    },
    {
      "cell_type": "code",
      "metadata": {
        "colab": {
          "base_uri": "https://localhost:8080/"
        },
        "id": "s53BMTEcRW1b",
        "outputId": "e206c379-2350-4310-a4db-2cc66c37bb35"
      },
      "source": [
        "# Memisahkan variabel surat\n",
        "df_cat = df['surat']\n",
        "df_cat.head()"
      ],
      "execution_count": null,
      "outputs": [
        {
          "output_type": "execute_result",
          "data": {
            "text/plain": [
              "0    SHM\n",
              "1    SHM\n",
              "2    SHM\n",
              "3    SHM\n",
              "4    SHM\n",
              "Name: surat, dtype: category\n",
              "Categories (5, object): ['HGB', 'PPJB', 'SHGB', 'SHM', 'Strata']"
            ]
          },
          "metadata": {
            "tags": []
          },
          "execution_count": 11
        }
      ]
    },
    {
      "cell_type": "markdown",
      "metadata": {
        "id": "9pR4CJ-OgvuO"
      },
      "source": [
        "# **Mengecek korelasi antar variabel**"
      ]
    },
    {
      "cell_type": "code",
      "metadata": {
        "colab": {
          "base_uri": "https://localhost:8080/",
          "height": 592
        },
        "id": "znOBl_8NXKyL",
        "outputId": "134bd99e-baaf-4fdf-d4bf-8636398f8c37"
      },
      "source": [
        "# Mengimport library seaborn.\n",
        "# Data divisualisasikan menggunakan heatmap untuk menganalisa korelasi antar variabel.\n",
        "corr = df_num.corr()\n",
        "plt.figure(figsize=(12, 10))\n",
        "sns.heatmap(corr[(corr >= 0.5) | (corr <= -0.4)], \n",
        "            cmap='viridis', vmax=1.0, vmin=-1.0, linewidths=0.1,\n",
        "            annot=True, annot_kws={\"size\": 14}, square=True);\n"
      ],
      "execution_count": null,
      "outputs": [
        {
          "output_type": "display_data",
          "data": {
            "image/png": "[encoded data removed]",
            "text/plain": [
              "<Figure size 864x720 with 2 Axes>"
            ]
          },
          "metadata": {
            "tags": [],
            "needs_background": "light"
          }
        }
      ]
    },
    {
      "cell_type": "markdown",
      "metadata": {
        "id": "Ihylx5QG7XQj"
      },
      "source": [
        "Berdasarkan korelasi antar variabel yang divisualisasikan oleh heatmap, terlihat bahwa variabel harga memiliki korelasi yang cukup kuat dengan daya listrik (0.88), luas bangunan (0.89), luas tanah (0.68), dan carport (0.68). Selain itu, luas bangunan dan daya listik pun memiliki korelasi yang cukup kuat (0.79).\n",
        "\n",
        "\n"
      ]
    },
    {
      "cell_type": "code",
      "metadata": {
        "colab": {
          "base_uri": "https://localhost:8080/",
          "height": 419
        },
        "id": "jeWPMuFCWEgT",
        "outputId": "7081ffe8-bb96-4fd3-fd5e-9d95772d6718"
      },
      "source": [
        "# Memisahkan data yang berkorelasi dengan baik. \n",
        "korelasi = df_num[['harga','LB','LT','listrik','carport']] \n",
        "korelasi"
      ],
      "execution_count": null,
      "outputs": [
        {
          "output_type": "execute_result",
          "data": {
            "text/html": [
              "<div>\n",
              "<style scoped>\n",
              "    .dataframe tbody tr th:only-of-type {\n",
              "        vertical-align: middle;\n",
              "    }\n",
              "\n",
              "    .dataframe tbody tr th {\n",
              "        vertical-align: top;\n",
              "    }\n",
              "\n",
              "    .dataframe thead th {\n",
              "        text-align: right;\n",
              "    }\n",
              "</style>\n",
              "<table border=\"1\" class=\"dataframe\">\n",
              "  <thead>\n",
              "    <tr style=\"text-align: right;\">\n",
              "      <th></th>\n",
              "      <th>harga</th>\n",
              "      <th>LB</th>\n",
              "      <th>LT</th>\n",
              "      <th>listrik</th>\n",
              "      <th>carport</th>\n",
              "    </tr>\n",
              "  </thead>\n",
              "  <tbody>\n",
              "    <tr>\n",
              "      <th>0</th>\n",
              "      <td>682200000</td>\n",
              "      <td>52</td>\n",
              "      <td>44</td>\n",
              "      <td>2200.0</td>\n",
              "      <td>1</td>\n",
              "    </tr>\n",
              "    <tr>\n",
              "      <th>1</th>\n",
              "      <td>2100000000</td>\n",
              "      <td>200</td>\n",
              "      <td>162</td>\n",
              "      <td>3500.0</td>\n",
              "      <td>0</td>\n",
              "    </tr>\n",
              "    <tr>\n",
              "      <th>2</th>\n",
              "      <td>2900000000</td>\n",
              "      <td>200</td>\n",
              "      <td>102</td>\n",
              "      <td>3500.0</td>\n",
              "      <td>1</td>\n",
              "    </tr>\n",
              "    <tr>\n",
              "      <th>3</th>\n",
              "      <td>4900000000</td>\n",
              "      <td>225</td>\n",
              "      <td>149</td>\n",
              "      <td>2200.0</td>\n",
              "      <td>2</td>\n",
              "    </tr>\n",
              "    <tr>\n",
              "      <th>4</th>\n",
              "      <td>2800000000</td>\n",
              "      <td>180</td>\n",
              "      <td>120</td>\n",
              "      <td>2200.0</td>\n",
              "      <td>2</td>\n",
              "    </tr>\n",
              "    <tr>\n",
              "      <th>...</th>\n",
              "      <td>...</td>\n",
              "      <td>...</td>\n",
              "      <td>...</td>\n",
              "      <td>...</td>\n",
              "      <td>...</td>\n",
              "    </tr>\n",
              "    <tr>\n",
              "      <th>95</th>\n",
              "      <td>6500000000</td>\n",
              "      <td>468</td>\n",
              "      <td>417</td>\n",
              "      <td>5500.0</td>\n",
              "      <td>4</td>\n",
              "    </tr>\n",
              "    <tr>\n",
              "      <th>96</th>\n",
              "      <td>6600000000</td>\n",
              "      <td>600</td>\n",
              "      <td>1080</td>\n",
              "      <td>2200.0</td>\n",
              "      <td>4</td>\n",
              "    </tr>\n",
              "    <tr>\n",
              "      <th>97</th>\n",
              "      <td>28000000000</td>\n",
              "      <td>1000</td>\n",
              "      <td>500</td>\n",
              "      <td>16500.0</td>\n",
              "      <td>3</td>\n",
              "    </tr>\n",
              "    <tr>\n",
              "      <th>98</th>\n",
              "      <td>1700000000</td>\n",
              "      <td>165</td>\n",
              "      <td>100</td>\n",
              "      <td>2200.0</td>\n",
              "      <td>2</td>\n",
              "    </tr>\n",
              "    <tr>\n",
              "      <th>99</th>\n",
              "      <td>875000000</td>\n",
              "      <td>70</td>\n",
              "      <td>72</td>\n",
              "      <td>2200.0</td>\n",
              "      <td>1</td>\n",
              "    </tr>\n",
              "  </tbody>\n",
              "</table>\n",
              "<p>100 rows × 5 columns</p>\n",
              "</div>"
            ],
            "text/plain": [
              "          harga    LB    LT  listrik  carport\n",
              "0     682200000    52    44   2200.0        1\n",
              "1    2100000000   200   162   3500.0        0\n",
              "2    2900000000   200   102   3500.0        1\n",
              "3    4900000000   225   149   2200.0        2\n",
              "4    2800000000   180   120   2200.0        2\n",
              "..          ...   ...   ...      ...      ...\n",
              "95   6500000000   468   417   5500.0        4\n",
              "96   6600000000   600  1080   2200.0        4\n",
              "97  28000000000  1000   500  16500.0        3\n",
              "98   1700000000   165   100   2200.0        2\n",
              "99    875000000    70    72   2200.0        1\n",
              "\n",
              "[100 rows x 5 columns]"
            ]
          },
          "metadata": {
            "tags": []
          },
          "execution_count": 13
        }
      ]
    },
    {
      "cell_type": "markdown",
      "metadata": {
        "id": "2NxTPgDfg9gC"
      },
      "source": [
        "# **Memeriksa Outlier pada kolom harga**"
      ]
    },
    {
      "cell_type": "code",
      "metadata": {
        "id": "YZP6V8L9cEw0",
        "colab": {
          "base_uri": "https://localhost:8080/",
          "height": 542
        },
        "outputId": "b053b343-2448-4feb-9929-a1b3208a6dbb"
      },
      "source": [
        "# Memeriksa outlier harga based on/berdasarkan jenis surat (boxplot).\n",
        "fig = px.box(df, x=\"surat\", y=\"harga\",title='Tabel Outlier Harga Rumah (milyar) berdasarkan jenis Surat',labels={\n",
        "                     \"harga\": \"Harga Rumah(milyar)\",\n",
        "                     \"surat\": \"Jenis Sertifikat Rumah\",\n",
        "                 })\n",
        "fig.show()\n"
      ],
      "execution_count": null,
      "outputs": [
        {
          "output_type": "display_data",
          "data": {
            "text/html": [
              "<html>\n",
              "<head><meta charset=\"utf-8\" /></head>\n",
              "<body>\n",
              "    <div>\n",
              "            <script src=\"https://cdnjs.cloudflare.com/ajax/libs/mathjax/2.7.5/MathJax.js?config=TeX-AMS-MML_SVG\"></script><script type=\"text/javascript\">if (window.MathJax) {MathJax.Hub.Config({SVG: {font: \"STIX-Web\"}});}</script>\n",
              "                <script type=\"text/javascript\">window.PlotlyConfig = {MathJaxConfig: 'local'};</script>\n",
              "        <script src=\"https://cdn.plot.ly/plotly-latest.min.js\"></script>    \n",
              "            <div id=\"3d62a244-7a46-451d-bc10-51f89b35935a\" class=\"plotly-graph-div\" style=\"height:525px; width:100%;\"></div>\n",
              "            <script type=\"text/javascript\">\n",
              "                \n",
              "                    window.PLOTLYENV=window.PLOTLYENV || {};\n",
              "                    \n",
              "                if (document.getElementById(\"3d62a244-7a46-451d-bc10-51f89b35935a\")) {\n",
              "                    Plotly.newPlot(\n",
              "                        '3d62a244-7a46-451d-bc10-51f89b35935a',\n",
              "                        [{\"alignmentgroup\": \"True\", \"hoverlabel\": {\"namelength\": 0}, \"hovertemplate\": \"Jenis Sertifikat Rumah=%{x}<br>Harga Rumah(milyar)=%{y}\", \"legendgroup\": \"\", \"marker\": {\"color\": \"#636efa\"}, \"name\": \"\", \"notched\": false, \"offsetgroup\": \"\", \"orientation\": \"v\", \"showlegend\": false, \"type\": \"box\", \"x\": [\"SHM\", \"SHM\", \"SHM\", \"SHM\", \"SHM\", \"SHM\", \"SHM\", \"SHM\", \"SHM\", \"SHM\", \"SHM\", \"SHM\", \"SHM\", \"SHM\", \"SHM\", \"SHM\", \"SHM\", \"SHM\", \"SHM\", \"SHM\", \"SHM\", \"SHGB\", \"SHM\", \"HGB\", \"SHM\", \"SHM\", \"SHM\", \"SHM\", \"SHM\", \"SHM\", \"SHM\", \"SHM\", \"SHM\", \"SHM\", \"SHM\", \"SHM\", \"SHM\", \"Strata\", \"SHM\", \"SHGB\", \"SHM\", \"SHM\", \"SHM\", \"SHM\", \"SHM\", \"SHM\", \"SHM\", \"SHM\", \"SHM\", \"SHM\", \"SHM\", \"SHM\", \"SHM\", \"SHM\", \"SHM\", \"SHM\", \"SHM\", \"SHM\", \"SHM\", \"SHM\", \"SHM\", \"SHM\", \"SHM\", \"SHM\", \"SHM\", \"SHM\", \"SHM\", \"SHM\", \"SHM\", \"SHM\", \"SHM\", \"SHM\", \"SHM\", \"SHM\", \"SHM\", \"SHM\", \"SHM\", \"SHM\", \"SHM\", \"SHM\", \"SHM\", \"SHM\", \"SHM\", \"SHM\", \"SHM\", \"PPJB\", \"SHM\", \"SHM\", \"SHM\", \"SHM\", \"SHGB\", \"SHM\", \"SHM\", \"SHM\", \"SHM\", \"SHM\", \"SHM\", \"SHM\", \"SHM\", \"SHM\"], \"x0\": \" \", \"xaxis\": \"x\", \"y\": [682200000, 2100000000, 2900000000, 4900000000, 2800000000, 5900000000, 3700000000, 1200000000, 3200000000, 2500000000, 3400000000, 1900000000, 2200000000, 642000000, 5900000000, 1210000000, 1800000000, 3500000000, 900000000, 785000000, 6300000000, 3600000000, 4500000000, 20000000000, 96000000000, 15000000000, 2200000000, 495000000, 2250000000, 3500000000, 880000000, 3700000000, 8800000000, 6300000000, 3600000000, 19000000000, 1200000000, 1750000000, 2500000000, 2000000000, 900000000, 1600000000, 55000000000, 2750000000, 6783000000, 1495000000, 10000000000, 1400000000, 5700000000, 900000000, 795000000, 550000000, 2975000000, 1750000000, 1190000000, 3750000000, 1550000000, 1990000000, 3500000000, 5500000000, 1500000000, 1300000000, 200000000, 3000000000, 7000000000, 2300000000, 325000000, 3100000000, 1300000000, 1100000000, 245000000, 140000000, 3000000000, 550000000, 750000000, 4800000000, 5000000000, 450000000, 1500000000, 1200000000, 3551085000, 4100000000, 9500000000, 2250000000, 4500000000, 1580000000, 2500000000, 20000000000, 700000000, 30000000000, 1200000000, 8000000000, 2200000000, 1175000000, 2250000000, 6500000000, 6600000000, 28000000000, 1700000000, 875000000], \"y0\": \" \", \"yaxis\": \"y\"}],\n",
              "                        {\"boxmode\": \"group\", \"legend\": {\"tracegroupgap\": 0}, \"template\": {\"data\": {\"bar\": [{\"error_x\": {\"color\": \"#2a3f5f\"}, \"error_y\": {\"color\": \"#2a3f5f\"}, \"marker\": {\"line\": {\"color\": \"#E5ECF6\", \"width\": 0.5}}, \"type\": \"bar\"}], \"barpolar\": [{\"marker\": {\"line\": {\"color\": \"#E5ECF6\", \"width\": 0.5}}, \"type\": \"barpolar\"}], \"carpet\": [{\"aaxis\": {\"endlinecolor\": \"#2a3f5f\", \"gridcolor\": \"white\", \"linecolor\": \"white\", \"minorgridcolor\": \"white\", \"startlinecolor\": \"#2a3f5f\"}, \"baxis\": {\"endlinecolor\": \"#2a3f5f\", \"gridcolor\": \"white\", \"linecolor\": \"white\", \"minorgridcolor\": \"white\", \"startlinecolor\": \"#2a3f5f\"}, \"type\": \"carpet\"}], \"choropleth\": [{\"colorbar\": {\"outlinewidth\": 0, \"ticks\": \"\"}, \"type\": \"choropleth\"}], \"contour\": [{\"colorbar\": {\"outlinewidth\": 0, \"ticks\": \"\"}, \"colorscale\": [[0.0, \"#0d0887\"], [0.1111111111111111, \"#46039f\"], [0.2222222222222222, \"#7201a8\"], [0.3333333333333333, \"#9c179e\"], [0.4444444444444444, \"#bd3786\"], [0.5555555555555556, \"#d8576b\"], [0.6666666666666666, \"#ed7953\"], [0.7777777777777778, \"#fb9f3a\"], [0.8888888888888888, \"#fdca26\"], [1.0, \"#f0f921\"]], \"type\": \"contour\"}], \"contourcarpet\": [{\"colorbar\": {\"outlinewidth\": 0, \"ticks\": \"\"}, \"type\": \"contourcarpet\"}], \"heatmap\": [{\"colorbar\": {\"outlinewidth\": 0, \"ticks\": \"\"}, \"colorscale\": [[0.0, \"#0d0887\"], [0.1111111111111111, \"#46039f\"], [0.2222222222222222, \"#7201a8\"], [0.3333333333333333, \"#9c179e\"], [0.4444444444444444, \"#bd3786\"], [0.5555555555555556, \"#d8576b\"], [0.6666666666666666, \"#ed7953\"], [0.7777777777777778, \"#fb9f3a\"], [0.8888888888888888, \"#fdca26\"], [1.0, \"#f0f921\"]], \"type\": \"heatmap\"}], \"heatmapgl\": [{\"colorbar\": {\"outlinewidth\": 0, \"ticks\": \"\"}, \"colorscale\": [[0.0, \"#0d0887\"], [0.1111111111111111, \"#46039f\"], [0.2222222222222222, \"#7201a8\"], [0.3333333333333333, \"#9c179e\"], [0.4444444444444444, \"#bd3786\"], [0.5555555555555556, \"#d8576b\"], [0.6666666666666666, \"#ed7953\"], [0.7777777777777778, \"#fb9f3a\"], [0.8888888888888888, \"#fdca26\"], [1.0, \"#f0f921\"]], \"type\": \"heatmapgl\"}], \"histogram\": [{\"marker\": {\"colorbar\": {\"outlinewidth\": 0, \"ticks\": \"\"}}, \"type\": \"histogram\"}], \"histogram2d\": [{\"colorbar\": {\"outlinewidth\": 0, \"ticks\": \"\"}, \"colorscale\": [[0.0, \"#0d0887\"], [0.1111111111111111, \"#46039f\"], [0.2222222222222222, \"#7201a8\"], [0.3333333333333333, \"#9c179e\"], [0.4444444444444444, \"#bd3786\"], [0.5555555555555556, \"#d8576b\"], [0.6666666666666666, \"#ed7953\"], [0.7777777777777778, \"#fb9f3a\"], [0.8888888888888888, \"#fdca26\"], [1.0, \"#f0f921\"]], \"type\": \"histogram2d\"}], \"histogram2dcontour\": [{\"colorbar\": {\"outlinewidth\": 0, \"ticks\": \"\"}, \"colorscale\": [[0.0, \"#0d0887\"], [0.1111111111111111, \"#46039f\"], [0.2222222222222222, \"#7201a8\"], [0.3333333333333333, \"#9c179e\"], [0.4444444444444444, \"#bd3786\"], [0.5555555555555556, \"#d8576b\"], [0.6666666666666666, \"#ed7953\"], [0.7777777777777778, \"#fb9f3a\"], [0.8888888888888888, \"#fdca26\"], [1.0, \"#f0f921\"]], \"type\": \"histogram2dcontour\"}], \"mesh3d\": [{\"colorbar\": {\"outlinewidth\": 0, \"ticks\": \"\"}, \"type\": \"mesh3d\"}], \"parcoords\": [{\"line\": {\"colorbar\": {\"outlinewidth\": 0, \"ticks\": \"\"}}, \"type\": \"parcoords\"}], \"pie\": [{\"automargin\": true, \"type\": \"pie\"}], \"scatter\": [{\"marker\": {\"colorbar\": {\"outlinewidth\": 0, \"ticks\": \"\"}}, \"type\": \"scatter\"}], \"scatter3d\": [{\"line\": {\"colorbar\": {\"outlinewidth\": 0, \"ticks\": \"\"}}, \"marker\": {\"colorbar\": {\"outlinewidth\": 0, \"ticks\": \"\"}}, \"type\": \"scatter3d\"}], \"scattercarpet\": [{\"marker\": {\"colorbar\": {\"outlinewidth\": 0, \"ticks\": \"\"}}, \"type\": \"scattercarpet\"}], \"scattergeo\": [{\"marker\": {\"colorbar\": {\"outlinewidth\": 0, \"ticks\": \"\"}}, \"type\": \"scattergeo\"}], \"scattergl\": [{\"marker\": {\"colorbar\": {\"outlinewidth\": 0, \"ticks\": \"\"}}, \"type\": \"scattergl\"}], \"scattermapbox\": [{\"marker\": {\"colorbar\": {\"outlinewidth\": 0, \"ticks\": \"\"}}, \"type\": \"scattermapbox\"}], \"scatterpolar\": [{\"marker\": {\"colorbar\": {\"outlinewidth\": 0, \"ticks\": \"\"}}, \"type\": \"scatterpolar\"}], \"scatterpolargl\": [{\"marker\": {\"colorbar\": {\"outlinewidth\": 0, \"ticks\": \"\"}}, \"type\": \"scatterpolargl\"}], \"scatterternary\": [{\"marker\": {\"colorbar\": {\"outlinewidth\": 0, \"ticks\": \"\"}}, \"type\": \"scatterternary\"}], \"surface\": [{\"colorbar\": {\"outlinewidth\": 0, \"ticks\": \"\"}, \"colorscale\": [[0.0, \"#0d0887\"], [0.1111111111111111, \"#46039f\"], [0.2222222222222222, \"#7201a8\"], [0.3333333333333333, \"#9c179e\"], [0.4444444444444444, \"#bd3786\"], [0.5555555555555556, \"#d8576b\"], [0.6666666666666666, \"#ed7953\"], [0.7777777777777778, \"#fb9f3a\"], [0.8888888888888888, \"#fdca26\"], [1.0, \"#f0f921\"]], \"type\": \"surface\"}], \"table\": [{\"cells\": {\"fill\": {\"color\": \"#EBF0F8\"}, \"line\": {\"color\": \"white\"}}, \"header\": {\"fill\": {\"color\": \"#C8D4E3\"}, \"line\": {\"color\": \"white\"}}, \"type\": \"table\"}]}, \"layout\": {\"annotationdefaults\": {\"arrowcolor\": \"#2a3f5f\", \"arrowhead\": 0, \"arrowwidth\": 1}, \"coloraxis\": {\"colorbar\": {\"outlinewidth\": 0, \"ticks\": \"\"}}, \"colorscale\": {\"diverging\": [[0, \"#8e0152\"], [0.1, \"#c51b7d\"], [0.2, \"#de77ae\"], [0.3, \"#f1b6da\"], [0.4, \"#fde0ef\"], [0.5, \"#f7f7f7\"], [0.6, \"#e6f5d0\"], [0.7, \"#b8e186\"], [0.8, \"#7fbc41\"], [0.9, \"#4d9221\"], [1, \"#276419\"]], \"sequential\": [[0.0, \"#0d0887\"], [0.1111111111111111, \"#46039f\"], [0.2222222222222222, \"#7201a8\"], [0.3333333333333333, \"#9c179e\"], [0.4444444444444444, \"#bd3786\"], [0.5555555555555556, \"#d8576b\"], [0.6666666666666666, \"#ed7953\"], [0.7777777777777778, \"#fb9f3a\"], [0.8888888888888888, \"#fdca26\"], [1.0, \"#f0f921\"]], \"sequentialminus\": [[0.0, \"#0d0887\"], [0.1111111111111111, \"#46039f\"], [0.2222222222222222, \"#7201a8\"], [0.3333333333333333, \"#9c179e\"], [0.4444444444444444, \"#bd3786\"], [0.5555555555555556, \"#d8576b\"], [0.6666666666666666, \"#ed7953\"], [0.7777777777777778, \"#fb9f3a\"], [0.8888888888888888, \"#fdca26\"], [1.0, \"#f0f921\"]]}, \"colorway\": [\"#636efa\", \"#EF553B\", \"#00cc96\", \"#ab63fa\", \"#FFA15A\", \"#19d3f3\", \"#FF6692\", \"#B6E880\", \"#FF97FF\", \"#FECB52\"], \"font\": {\"color\": \"#2a3f5f\"}, \"geo\": {\"bgcolor\": \"white\", \"lakecolor\": \"white\", \"landcolor\": \"#E5ECF6\", \"showlakes\": true, \"showland\": true, \"subunitcolor\": \"white\"}, \"hoverlabel\": {\"align\": \"left\"}, \"hovermode\": \"closest\", \"mapbox\": {\"style\": \"light\"}, \"paper_bgcolor\": \"white\", \"plot_bgcolor\": \"#E5ECF6\", \"polar\": {\"angularaxis\": {\"gridcolor\": \"white\", \"linecolor\": \"white\", \"ticks\": \"\"}, \"bgcolor\": \"#E5ECF6\", \"radialaxis\": {\"gridcolor\": \"white\", \"linecolor\": \"white\", \"ticks\": \"\"}}, \"scene\": {\"xaxis\": {\"backgroundcolor\": \"#E5ECF6\", \"gridcolor\": \"white\", \"gridwidth\": 2, \"linecolor\": \"white\", \"showbackground\": true, \"ticks\": \"\", \"zerolinecolor\": \"white\"}, \"yaxis\": {\"backgroundcolor\": \"#E5ECF6\", \"gridcolor\": \"white\", \"gridwidth\": 2, \"linecolor\": \"white\", \"showbackground\": true, \"ticks\": \"\", \"zerolinecolor\": \"white\"}, \"zaxis\": {\"backgroundcolor\": \"#E5ECF6\", \"gridcolor\": \"white\", \"gridwidth\": 2, \"linecolor\": \"white\", \"showbackground\": true, \"ticks\": \"\", \"zerolinecolor\": \"white\"}}, \"shapedefaults\": {\"line\": {\"color\": \"#2a3f5f\"}}, \"ternary\": {\"aaxis\": {\"gridcolor\": \"white\", \"linecolor\": \"white\", \"ticks\": \"\"}, \"baxis\": {\"gridcolor\": \"white\", \"linecolor\": \"white\", \"ticks\": \"\"}, \"bgcolor\": \"#E5ECF6\", \"caxis\": {\"gridcolor\": \"white\", \"linecolor\": \"white\", \"ticks\": \"\"}}, \"title\": {\"x\": 0.05}, \"xaxis\": {\"automargin\": true, \"gridcolor\": \"white\", \"linecolor\": \"white\", \"ticks\": \"\", \"title\": {\"standoff\": 15}, \"zerolinecolor\": \"white\", \"zerolinewidth\": 2}, \"yaxis\": {\"automargin\": true, \"gridcolor\": \"white\", \"linecolor\": \"white\", \"ticks\": \"\", \"title\": {\"standoff\": 15}, \"zerolinecolor\": \"white\", \"zerolinewidth\": 2}}}, \"title\": {\"text\": \"Tabel Outlier Harga Rumah (milyar) berdasarkan jenis Surat\"}, \"xaxis\": {\"anchor\": \"y\", \"domain\": [0.0, 1.0], \"title\": {\"text\": \"Jenis Sertifikat Rumah\"}}, \"yaxis\": {\"anchor\": \"x\", \"domain\": [0.0, 1.0], \"title\": {\"text\": \"Harga Rumah(milyar)\"}}},\n",
              "                        {\"responsive\": true}\n",
              "                    ).then(function(){\n",
              "                            \n",
              "var gd = document.getElementById('3d62a244-7a46-451d-bc10-51f89b35935a');\n",
              "var x = new MutationObserver(function (mutations, observer) {{\n",
              "        var display = window.getComputedStyle(gd).display;\n",
              "        if (!display || display === 'none') {{\n",
              "            console.log([gd, 'removed!']);\n",
              "            Plotly.purge(gd);\n",
              "            observer.disconnect();\n",
              "        }}\n",
              "}});\n",
              "\n",
              "// Listen for the removal of the full notebook cells\n",
              "var notebookContainer = gd.closest('#notebook-container');\n",
              "if (notebookContainer) {{\n",
              "    x.observe(notebookContainer, {childList: true});\n",
              "}}\n",
              "\n",
              "// Listen for the clearing of the current output cell\n",
              "var outputEl = gd.closest('.output');\n",
              "if (outputEl) {{\n",
              "    x.observe(outputEl, {childList: true});\n",
              "}}\n",
              "\n",
              "                        })\n",
              "                };\n",
              "                \n",
              "            </script>\n",
              "        </div>\n",
              "</body>\n",
              "</html>"
            ]
          },
          "metadata": {
            "tags": []
          }
        }
      ]
    },
    {
      "cell_type": "markdown",
      "metadata": {
        "id": "UZWCY831hKLz"
      },
      "source": [
        "Boxplot digunakan untuk mengecek persebaran data, dapat dilihat bahwa pada rumah yang bersertifikat SHM memiliki outlier dengan harga rumah yang lebih dari 15 milyar hingga  mencapai 96 milyar rupiah."
      ]
    },
    {
      "cell_type": "code",
      "metadata": {
        "id": "LSDovoMCTk_h"
      },
      "source": [
        "# Memeriksa outliers pada data menggunakan IQR (Inter Quartile range) dan memisahkanya.\n",
        "from numpy import quantile\n",
        "Q1 = korelasi.quantile(0.25)\n",
        "Q3 = korelasi.quantile(0.75)\n",
        "IQR = Q3 - Q1\n",
        "\n",
        "no_outliers = korelasi[(Q1 - 1.5*IQR < korelasi) &  (korelasi < Q3 + 1.5*IQR)]\n",
        "outliers = korelasi[(Q1 - 1.5*IQR >= korelasi) |  (korelasi >= Q3 + 1.5*IQR)]"
      ],
      "execution_count": null,
      "outputs": []
    },
    {
      "cell_type": "code",
      "metadata": {
        "colab": {
          "base_uri": "https://localhost:8080/",
          "height": 419
        },
        "id": "40VVneZHwAzJ",
        "outputId": "9b52a4af-0fa3-46d6-d714-b0d44e269e59"
      },
      "source": [
        "outliers"
      ],
      "execution_count": null,
      "outputs": [
        {
          "output_type": "execute_result",
          "data": {
            "text/html": [
              "<div>\n",
              "<style scoped>\n",
              "    .dataframe tbody tr th:only-of-type {\n",
              "        vertical-align: middle;\n",
              "    }\n",
              "\n",
              "    .dataframe tbody tr th {\n",
              "        vertical-align: top;\n",
              "    }\n",
              "\n",
              "    .dataframe thead th {\n",
              "        text-align: right;\n",
              "    }\n",
              "</style>\n",
              "<table border=\"1\" class=\"dataframe\">\n",
              "  <thead>\n",
              "    <tr style=\"text-align: right;\">\n",
              "      <th></th>\n",
              "      <th>harga</th>\n",
              "      <th>LB</th>\n",
              "      <th>LT</th>\n",
              "      <th>listrik</th>\n",
              "      <th>carport</th>\n",
              "    </tr>\n",
              "  </thead>\n",
              "  <tbody>\n",
              "    <tr>\n",
              "      <th>0</th>\n",
              "      <td>NaN</td>\n",
              "      <td>NaN</td>\n",
              "      <td>NaN</td>\n",
              "      <td>NaN</td>\n",
              "      <td>NaN</td>\n",
              "    </tr>\n",
              "    <tr>\n",
              "      <th>1</th>\n",
              "      <td>NaN</td>\n",
              "      <td>NaN</td>\n",
              "      <td>NaN</td>\n",
              "      <td>NaN</td>\n",
              "      <td>NaN</td>\n",
              "    </tr>\n",
              "    <tr>\n",
              "      <th>2</th>\n",
              "      <td>NaN</td>\n",
              "      <td>NaN</td>\n",
              "      <td>NaN</td>\n",
              "      <td>NaN</td>\n",
              "      <td>NaN</td>\n",
              "    </tr>\n",
              "    <tr>\n",
              "      <th>3</th>\n",
              "      <td>NaN</td>\n",
              "      <td>NaN</td>\n",
              "      <td>NaN</td>\n",
              "      <td>NaN</td>\n",
              "      <td>NaN</td>\n",
              "    </tr>\n",
              "    <tr>\n",
              "      <th>4</th>\n",
              "      <td>NaN</td>\n",
              "      <td>NaN</td>\n",
              "      <td>NaN</td>\n",
              "      <td>NaN</td>\n",
              "      <td>NaN</td>\n",
              "    </tr>\n",
              "    <tr>\n",
              "      <th>...</th>\n",
              "      <td>...</td>\n",
              "      <td>...</td>\n",
              "      <td>...</td>\n",
              "      <td>...</td>\n",
              "      <td>...</td>\n",
              "    </tr>\n",
              "    <tr>\n",
              "      <th>95</th>\n",
              "      <td>NaN</td>\n",
              "      <td>NaN</td>\n",
              "      <td>NaN</td>\n",
              "      <td>NaN</td>\n",
              "      <td>4.0</td>\n",
              "    </tr>\n",
              "    <tr>\n",
              "      <th>96</th>\n",
              "      <td>NaN</td>\n",
              "      <td>600.0</td>\n",
              "      <td>1080.0</td>\n",
              "      <td>NaN</td>\n",
              "      <td>4.0</td>\n",
              "    </tr>\n",
              "    <tr>\n",
              "      <th>97</th>\n",
              "      <td>2.800000e+10</td>\n",
              "      <td>1000.0</td>\n",
              "      <td>500.0</td>\n",
              "      <td>16500.0</td>\n",
              "      <td>NaN</td>\n",
              "    </tr>\n",
              "    <tr>\n",
              "      <th>98</th>\n",
              "      <td>NaN</td>\n",
              "      <td>NaN</td>\n",
              "      <td>NaN</td>\n",
              "      <td>NaN</td>\n",
              "      <td>NaN</td>\n",
              "    </tr>\n",
              "    <tr>\n",
              "      <th>99</th>\n",
              "      <td>NaN</td>\n",
              "      <td>NaN</td>\n",
              "      <td>NaN</td>\n",
              "      <td>NaN</td>\n",
              "      <td>NaN</td>\n",
              "    </tr>\n",
              "  </tbody>\n",
              "</table>\n",
              "<p>100 rows × 5 columns</p>\n",
              "</div>"
            ],
            "text/plain": [
              "           harga      LB      LT  listrik  carport\n",
              "0            NaN     NaN     NaN      NaN      NaN\n",
              "1            NaN     NaN     NaN      NaN      NaN\n",
              "2            NaN     NaN     NaN      NaN      NaN\n",
              "3            NaN     NaN     NaN      NaN      NaN\n",
              "4            NaN     NaN     NaN      NaN      NaN\n",
              "..           ...     ...     ...      ...      ...\n",
              "95           NaN     NaN     NaN      NaN      4.0\n",
              "96           NaN   600.0  1080.0      NaN      4.0\n",
              "97  2.800000e+10  1000.0   500.0  16500.0      NaN\n",
              "98           NaN     NaN     NaN      NaN      NaN\n",
              "99           NaN     NaN     NaN      NaN      NaN\n",
              "\n",
              "[100 rows x 5 columns]"
            ]
          },
          "metadata": {
            "tags": []
          },
          "execution_count": 16
        }
      ]
    },
    {
      "cell_type": "code",
      "metadata": {
        "colab": {
          "base_uri": "https://localhost:8080/"
        },
        "id": "Nz2S5Phyg0ZH",
        "outputId": "5aba3bbb-b489-41ac-bc5d-288e53d362a6"
      },
      "source": [
        "#index data outlier\n",
        "x = outliers['harga'].dropna().index.ravel()\n",
        "x"
      ],
      "execution_count": null,
      "outputs": [
        {
          "output_type": "execute_result",
          "data": {
            "text/plain": [
              "array([23, 24, 25, 35, 42, 46, 87, 89, 97])"
            ]
          },
          "metadata": {
            "tags": []
          },
          "execution_count": 17
        }
      ]
    },
    {
      "cell_type": "code",
      "metadata": {
        "id": "o9qM7Rht2x_m"
      },
      "source": [
        "data = korelasi"
      ],
      "execution_count": null,
      "outputs": []
    },
    {
      "cell_type": "code",
      "metadata": {
        "colab": {
          "base_uri": "https://localhost:8080/",
          "height": 204
        },
        "id": "bvjuEPZe24oi",
        "outputId": "b5c36e67-6279-404c-a60f-fc851646b832"
      },
      "source": [
        "data = pd.concat([data, df_cat], axis = 1)\n",
        "data.tail()"
      ],
      "execution_count": null,
      "outputs": [
        {
          "output_type": "execute_result",
          "data": {
            "text/html": [
              "<div>\n",
              "<style scoped>\n",
              "    .dataframe tbody tr th:only-of-type {\n",
              "        vertical-align: middle;\n",
              "    }\n",
              "\n",
              "    .dataframe tbody tr th {\n",
              "        vertical-align: top;\n",
              "    }\n",
              "\n",
              "    .dataframe thead th {\n",
              "        text-align: right;\n",
              "    }\n",
              "</style>\n",
              "<table border=\"1\" class=\"dataframe\">\n",
              "  <thead>\n",
              "    <tr style=\"text-align: right;\">\n",
              "      <th></th>\n",
              "      <th>harga</th>\n",
              "      <th>LB</th>\n",
              "      <th>LT</th>\n",
              "      <th>listrik</th>\n",
              "      <th>carport</th>\n",
              "      <th>surat</th>\n",
              "    </tr>\n",
              "  </thead>\n",
              "  <tbody>\n",
              "    <tr>\n",
              "      <th>95</th>\n",
              "      <td>6500000000</td>\n",
              "      <td>468</td>\n",
              "      <td>417</td>\n",
              "      <td>5500.0</td>\n",
              "      <td>4</td>\n",
              "      <td>SHM</td>\n",
              "    </tr>\n",
              "    <tr>\n",
              "      <th>96</th>\n",
              "      <td>6600000000</td>\n",
              "      <td>600</td>\n",
              "      <td>1080</td>\n",
              "      <td>2200.0</td>\n",
              "      <td>4</td>\n",
              "      <td>SHM</td>\n",
              "    </tr>\n",
              "    <tr>\n",
              "      <th>97</th>\n",
              "      <td>28000000000</td>\n",
              "      <td>1000</td>\n",
              "      <td>500</td>\n",
              "      <td>16500.0</td>\n",
              "      <td>3</td>\n",
              "      <td>SHM</td>\n",
              "    </tr>\n",
              "    <tr>\n",
              "      <th>98</th>\n",
              "      <td>1700000000</td>\n",
              "      <td>165</td>\n",
              "      <td>100</td>\n",
              "      <td>2200.0</td>\n",
              "      <td>2</td>\n",
              "      <td>SHM</td>\n",
              "    </tr>\n",
              "    <tr>\n",
              "      <th>99</th>\n",
              "      <td>875000000</td>\n",
              "      <td>70</td>\n",
              "      <td>72</td>\n",
              "      <td>2200.0</td>\n",
              "      <td>1</td>\n",
              "      <td>SHM</td>\n",
              "    </tr>\n",
              "  </tbody>\n",
              "</table>\n",
              "</div>"
            ],
            "text/plain": [
              "          harga    LB    LT  listrik  carport surat\n",
              "95   6500000000   468   417   5500.0        4   SHM\n",
              "96   6600000000   600  1080   2200.0        4   SHM\n",
              "97  28000000000  1000   500  16500.0        3   SHM\n",
              "98   1700000000   165   100   2200.0        2   SHM\n",
              "99    875000000    70    72   2200.0        1   SHM"
            ]
          },
          "metadata": {
            "tags": []
          },
          "execution_count": 19
        }
      ]
    },
    {
      "cell_type": "code",
      "metadata": {
        "colab": {
          "base_uri": "https://localhost:8080/",
          "height": 419
        },
        "id": "eWyt3QVipiXG",
        "outputId": "052cca1e-4973-4479-e706-c204d8d5b1fc"
      },
      "source": [
        "# Data Normal\n",
        "data1 = data.drop(index=x)\n",
        "data1"
      ],
      "execution_count": null,
      "outputs": [
        {
          "output_type": "execute_result",
          "data": {
            "text/html": [
              "<div>\n",
              "<style scoped>\n",
              "    .dataframe tbody tr th:only-of-type {\n",
              "        vertical-align: middle;\n",
              "    }\n",
              "\n",
              "    .dataframe tbody tr th {\n",
              "        vertical-align: top;\n",
              "    }\n",
              "\n",
              "    .dataframe thead th {\n",
              "        text-align: right;\n",
              "    }\n",
              "</style>\n",
              "<table border=\"1\" class=\"dataframe\">\n",
              "  <thead>\n",
              "    <tr style=\"text-align: right;\">\n",
              "      <th></th>\n",
              "      <th>harga</th>\n",
              "      <th>LB</th>\n",
              "      <th>LT</th>\n",
              "      <th>listrik</th>\n",
              "      <th>carport</th>\n",
              "      <th>surat</th>\n",
              "    </tr>\n",
              "  </thead>\n",
              "  <tbody>\n",
              "    <tr>\n",
              "      <th>0</th>\n",
              "      <td>682200000</td>\n",
              "      <td>52</td>\n",
              "      <td>44</td>\n",
              "      <td>2200.0</td>\n",
              "      <td>1</td>\n",
              "      <td>SHM</td>\n",
              "    </tr>\n",
              "    <tr>\n",
              "      <th>1</th>\n",
              "      <td>2100000000</td>\n",
              "      <td>200</td>\n",
              "      <td>162</td>\n",
              "      <td>3500.0</td>\n",
              "      <td>0</td>\n",
              "      <td>SHM</td>\n",
              "    </tr>\n",
              "    <tr>\n",
              "      <th>2</th>\n",
              "      <td>2900000000</td>\n",
              "      <td>200</td>\n",
              "      <td>102</td>\n",
              "      <td>3500.0</td>\n",
              "      <td>1</td>\n",
              "      <td>SHM</td>\n",
              "    </tr>\n",
              "    <tr>\n",
              "      <th>3</th>\n",
              "      <td>4900000000</td>\n",
              "      <td>225</td>\n",
              "      <td>149</td>\n",
              "      <td>2200.0</td>\n",
              "      <td>2</td>\n",
              "      <td>SHM</td>\n",
              "    </tr>\n",
              "    <tr>\n",
              "      <th>4</th>\n",
              "      <td>2800000000</td>\n",
              "      <td>180</td>\n",
              "      <td>120</td>\n",
              "      <td>2200.0</td>\n",
              "      <td>2</td>\n",
              "      <td>SHM</td>\n",
              "    </tr>\n",
              "    <tr>\n",
              "      <th>...</th>\n",
              "      <td>...</td>\n",
              "      <td>...</td>\n",
              "      <td>...</td>\n",
              "      <td>...</td>\n",
              "      <td>...</td>\n",
              "      <td>...</td>\n",
              "    </tr>\n",
              "    <tr>\n",
              "      <th>94</th>\n",
              "      <td>2250000000</td>\n",
              "      <td>140</td>\n",
              "      <td>107</td>\n",
              "      <td>2200.0</td>\n",
              "      <td>2</td>\n",
              "      <td>SHM</td>\n",
              "    </tr>\n",
              "    <tr>\n",
              "      <th>95</th>\n",
              "      <td>6500000000</td>\n",
              "      <td>468</td>\n",
              "      <td>417</td>\n",
              "      <td>5500.0</td>\n",
              "      <td>4</td>\n",
              "      <td>SHM</td>\n",
              "    </tr>\n",
              "    <tr>\n",
              "      <th>96</th>\n",
              "      <td>6600000000</td>\n",
              "      <td>600</td>\n",
              "      <td>1080</td>\n",
              "      <td>2200.0</td>\n",
              "      <td>4</td>\n",
              "      <td>SHM</td>\n",
              "    </tr>\n",
              "    <tr>\n",
              "      <th>98</th>\n",
              "      <td>1700000000</td>\n",
              "      <td>165</td>\n",
              "      <td>100</td>\n",
              "      <td>2200.0</td>\n",
              "      <td>2</td>\n",
              "      <td>SHM</td>\n",
              "    </tr>\n",
              "    <tr>\n",
              "      <th>99</th>\n",
              "      <td>875000000</td>\n",
              "      <td>70</td>\n",
              "      <td>72</td>\n",
              "      <td>2200.0</td>\n",
              "      <td>1</td>\n",
              "      <td>SHM</td>\n",
              "    </tr>\n",
              "  </tbody>\n",
              "</table>\n",
              "<p>91 rows × 6 columns</p>\n",
              "</div>"
            ],
            "text/plain": [
              "         harga   LB    LT  listrik  carport surat\n",
              "0    682200000   52    44   2200.0        1   SHM\n",
              "1   2100000000  200   162   3500.0        0   SHM\n",
              "2   2900000000  200   102   3500.0        1   SHM\n",
              "3   4900000000  225   149   2200.0        2   SHM\n",
              "4   2800000000  180   120   2200.0        2   SHM\n",
              "..         ...  ...   ...      ...      ...   ...\n",
              "94  2250000000  140   107   2200.0        2   SHM\n",
              "95  6500000000  468   417   5500.0        4   SHM\n",
              "96  6600000000  600  1080   2200.0        4   SHM\n",
              "98  1700000000  165   100   2200.0        2   SHM\n",
              "99   875000000   70    72   2200.0        1   SHM\n",
              "\n",
              "[91 rows x 6 columns]"
            ]
          },
          "metadata": {
            "tags": []
          },
          "execution_count": 20
        }
      ]
    },
    {
      "cell_type": "markdown",
      "metadata": {
        "id": "vjdcZHFhhL0w"
      },
      "source": [
        "terdapat 9 outliers berdasarkan harga"
      ]
    },
    {
      "cell_type": "code",
      "metadata": {
        "colab": {
          "base_uri": "https://localhost:8080/",
          "height": 328
        },
        "id": "b0_YBjTW1Ym5",
        "outputId": "2a155729-d57c-40ec-de6c-67f40d936e51"
      },
      "source": [
        "# Data Outliers\n",
        "data2 = pd.concat([korelasi, df_cat], axis = 1)\n",
        "data2 = data2.iloc[x,:]\n",
        "\n",
        "data2"
      ],
      "execution_count": null,
      "outputs": [
        {
          "output_type": "execute_result",
          "data": {
            "text/html": [
              "<div>\n",
              "<style scoped>\n",
              "    .dataframe tbody tr th:only-of-type {\n",
              "        vertical-align: middle;\n",
              "    }\n",
              "\n",
              "    .dataframe tbody tr th {\n",
              "        vertical-align: top;\n",
              "    }\n",
              "\n",
              "    .dataframe thead th {\n",
              "        text-align: right;\n",
              "    }\n",
              "</style>\n",
              "<table border=\"1\" class=\"dataframe\">\n",
              "  <thead>\n",
              "    <tr style=\"text-align: right;\">\n",
              "      <th></th>\n",
              "      <th>harga</th>\n",
              "      <th>LB</th>\n",
              "      <th>LT</th>\n",
              "      <th>listrik</th>\n",
              "      <th>carport</th>\n",
              "      <th>surat</th>\n",
              "    </tr>\n",
              "  </thead>\n",
              "  <tbody>\n",
              "    <tr>\n",
              "      <th>23</th>\n",
              "      <td>20000000000</td>\n",
              "      <td>800</td>\n",
              "      <td>576</td>\n",
              "      <td>10600.0</td>\n",
              "      <td>0</td>\n",
              "      <td>HGB</td>\n",
              "    </tr>\n",
              "    <tr>\n",
              "      <th>24</th>\n",
              "      <td>96000000000</td>\n",
              "      <td>2000</td>\n",
              "      <td>700</td>\n",
              "      <td>66000.0</td>\n",
              "      <td>9</td>\n",
              "      <td>SHM</td>\n",
              "    </tr>\n",
              "    <tr>\n",
              "      <th>25</th>\n",
              "      <td>15000000000</td>\n",
              "      <td>260</td>\n",
              "      <td>276</td>\n",
              "      <td>8000.0</td>\n",
              "      <td>2</td>\n",
              "      <td>SHM</td>\n",
              "    </tr>\n",
              "    <tr>\n",
              "      <th>35</th>\n",
              "      <td>19000000000</td>\n",
              "      <td>428</td>\n",
              "      <td>883</td>\n",
              "      <td>3500.0</td>\n",
              "      <td>3</td>\n",
              "      <td>SHM</td>\n",
              "    </tr>\n",
              "    <tr>\n",
              "      <th>42</th>\n",
              "      <td>55000000000</td>\n",
              "      <td>1200</td>\n",
              "      <td>1500</td>\n",
              "      <td>7700.0</td>\n",
              "      <td>8</td>\n",
              "      <td>SHM</td>\n",
              "    </tr>\n",
              "    <tr>\n",
              "      <th>46</th>\n",
              "      <td>10000000000</td>\n",
              "      <td>157</td>\n",
              "      <td>238</td>\n",
              "      <td>13200.0</td>\n",
              "      <td>3</td>\n",
              "      <td>SHM</td>\n",
              "    </tr>\n",
              "    <tr>\n",
              "      <th>87</th>\n",
              "      <td>20000000000</td>\n",
              "      <td>1000</td>\n",
              "      <td>550</td>\n",
              "      <td>11000.0</td>\n",
              "      <td>7</td>\n",
              "      <td>SHM</td>\n",
              "    </tr>\n",
              "    <tr>\n",
              "      <th>89</th>\n",
              "      <td>30000000000</td>\n",
              "      <td>550</td>\n",
              "      <td>1198</td>\n",
              "      <td>10600.0</td>\n",
              "      <td>7</td>\n",
              "      <td>SHM</td>\n",
              "    </tr>\n",
              "    <tr>\n",
              "      <th>97</th>\n",
              "      <td>28000000000</td>\n",
              "      <td>1000</td>\n",
              "      <td>500</td>\n",
              "      <td>16500.0</td>\n",
              "      <td>3</td>\n",
              "      <td>SHM</td>\n",
              "    </tr>\n",
              "  </tbody>\n",
              "</table>\n",
              "</div>"
            ],
            "text/plain": [
              "          harga    LB    LT  listrik  carport surat\n",
              "23  20000000000   800   576  10600.0        0   HGB\n",
              "24  96000000000  2000   700  66000.0        9   SHM\n",
              "25  15000000000   260   276   8000.0        2   SHM\n",
              "35  19000000000   428   883   3500.0        3   SHM\n",
              "42  55000000000  1200  1500   7700.0        8   SHM\n",
              "46  10000000000   157   238  13200.0        3   SHM\n",
              "87  20000000000  1000   550  11000.0        7   SHM\n",
              "89  30000000000   550  1198  10600.0        7   SHM\n",
              "97  28000000000  1000   500  16500.0        3   SHM"
            ]
          },
          "metadata": {
            "tags": []
          },
          "execution_count": 21
        }
      ]
    },
    {
      "cell_type": "markdown",
      "metadata": {
        "id": "ETRhbGhLeeA9"
      },
      "source": [
        "# **Visualisasi Data normal**"
      ]
    },
    {
      "cell_type": "code",
      "metadata": {
        "colab": {
          "base_uri": "https://localhost:8080/"
        },
        "id": "EZfGQWP2iTeY",
        "outputId": "26024049-7758-4a3e-83d1-ff8078df5c56"
      },
      "source": [
        "sns.pairplot(data1, hue=\"surat\", diag_kind=\"hist\")"
      ],
      "execution_count": null,
      "outputs": [
        {
          "output_type": "execute_result",
          "data": {
            "text/plain": [
              "<seaborn.axisgrid.PairGrid at 0x7f461724fad0>"
            ]
          },
          "metadata": {
            "tags": []
          },
          "execution_count": 22
        },
        {
          "output_type": "display_data",
          "data": {
            "image/png": "[encoded data removed]",
            "text/plain": [
              "<Figure size 966.375x900 with 30 Axes>"
            ]
          },
          "metadata": {
            "tags": [],
            "needs_background": "light"
          }
        }
      ]
    },
    {
      "cell_type": "markdown",
      "metadata": {
        "id": "Zp_zgWF1jfLn"
      },
      "source": [
        "Pada grafik di atas dapat dilihat harga suatu rumah sangat dipengaruhi oleh luas bangunan, seberapa tinggi daya listrik yang digunakan, dan jumlah carport.\n"
      ]
    },
    {
      "cell_type": "markdown",
      "metadata": {
        "id": "sJmA2RxW3ld2"
      },
      "source": [
        "# **Visualisasi  Data Outliers**"
      ]
    },
    {
      "cell_type": "code",
      "metadata": {
        "colab": {
          "base_uri": "https://localhost:8080/",
          "height": 920
        },
        "id": "m8ph8KOq00dL",
        "outputId": "17125430-6769-4ead-9614-af2d57819e55"
      },
      "source": [
        "sns.pairplot(data2, hue=\"surat\", diag_kind=\"hist\")"
      ],
      "execution_count": null,
      "outputs": [
        {
          "output_type": "execute_result",
          "data": {
            "text/plain": [
              "<seaborn.axisgrid.PairGrid at 0x7f4616819310>"
            ]
          },
          "metadata": {
            "tags": []
          },
          "execution_count": 23
        },
        {
          "output_type": "display_data",
          "data": {
            "image/png": "[encoded data removed]",
            "text/plain": [
              "<Figure size 966.375x900 with 30 Axes>"
            ]
          },
          "metadata": {
            "tags": [],
            "needs_background": "light"
          }
        }
      ]
    },
    {
      "cell_type": "markdown",
      "metadata": {
        "id": "CBIN2dD8lxxQ"
      },
      "source": [
        "# **Clustering**"
      ]
    },
    {
      "cell_type": "code",
      "metadata": {
        "id": "tJdesFxrunum",
        "colab": {
          "base_uri": "https://localhost:8080/"
        },
        "outputId": "9695ab8b-7068-4b03-b409-916eba24a164"
      },
      "source": [
        "!pip install --upgrade umap-learn\n",
        "!wget https://raw.githubusercontent.com/taudata-indonesia/eLearning/master/tau_unsup.py"
      ],
      "execution_count": null,
      "outputs": [
        {
          "output_type": "stream",
          "text": [
            "Collecting umap-learn\n",
            "\u001b[?25l  Downloading https://files.pythonhosted.org/packages/75/69/85e7f950bb75792ad5d666d86c5f3e62eedbb942848e7e3126513af9999c/umap-learn-0.5.1.tar.gz (80kB)\n",
            "\u001b[K     |████████████████████████████████| 81kB 7.6MB/s \n",
            "\u001b[?25hRequirement already satisfied, skipping upgrade: numpy>=1.17 in /usr/local/lib/python3.7/dist-packages (from umap-learn) (1.19.5)\n",
            "Requirement already satisfied, skipping upgrade: scikit-learn>=0.22 in /usr/local/lib/python3.7/dist-packages (from umap-learn) (0.22.2.post1)\n",
            "Requirement already satisfied, skipping upgrade: scipy>=1.0 in /usr/local/lib/python3.7/dist-packages (from umap-learn) (1.4.1)\n",
            "Requirement already satisfied, skipping upgrade: numba>=0.49 in /usr/local/lib/python3.7/dist-packages (from umap-learn) (0.51.2)\n",
            "Collecting pynndescent>=0.5\n",
            "\u001b[?25l  Downloading https://files.pythonhosted.org/packages/af/65/8189298dd3a05bbad716ee8e249764ff8800e365d8dc652ad2192ca01b4a/pynndescent-0.5.2.tar.gz (1.1MB)\n",
            "\u001b[K     |████████████████████████████████| 1.2MB 31.2MB/s \n",
            "\u001b[?25hRequirement already satisfied, skipping upgrade: joblib>=0.11 in /usr/local/lib/python3.7/dist-packages (from scikit-learn>=0.22->umap-learn) (1.0.1)\n",
            "Requirement already satisfied, skipping upgrade: llvmlite<0.35,>=0.34.0.dev0 in /usr/local/lib/python3.7/dist-packages (from numba>=0.49->umap-learn) (0.34.0)\n",
            "Requirement already satisfied, skipping upgrade: setuptools in /usr/local/lib/python3.7/dist-packages (from numba>=0.49->umap-learn) (57.0.0)\n",
            "Building wheels for collected packages: umap-learn, pynndescent\n",
            "  Building wheel for umap-learn (setup.py) ... \u001b[?25l\u001b[?25hdone\n",
            "  Created wheel for umap-learn: filename=umap_learn-0.5.1-cp37-none-any.whl size=76569 sha256=d5deeec5e5c07130b0895965138dda23b028710503cfeb6c54afe743dfaf3641\n",
            "  Stored in directory: /root/.cache/pip/wheels/ad/df/d5/a3691296ff779f25cd1cf415a3af954b987fb53111e3392cf4\n",
            "  Building wheel for pynndescent (setup.py) ... \u001b[?25l\u001b[?25hdone\n",
            "  Created wheel for pynndescent: filename=pynndescent-0.5.2-cp37-none-any.whl size=51362 sha256=51cd6fba21b30c74f1c7e720e117a2daf69692565e6f5a6a81eaaa7d2d4df955\n",
            "  Stored in directory: /root/.cache/pip/wheels/ba/52/4e/4c28d04d144a28f89e2575fb63628df6e6d49b56c5ddd0c74e\n",
            "Successfully built umap-learn pynndescent\n",
            "Installing collected packages: pynndescent, umap-learn\n",
            "Successfully installed pynndescent-0.5.2 umap-learn-0.5.1\n",
            "--2021-06-28 11:53:04--  https://raw.githubusercontent.com/taudata-indonesia/eLearning/master/tau_unsup.py\n",
            "Resolving raw.githubusercontent.com (raw.githubusercontent.com)... 185.199.108.133, 185.199.109.133, 185.199.110.133, ...\n",
            "Connecting to raw.githubusercontent.com (raw.githubusercontent.com)|185.199.108.133|:443... connected.\n",
            "HTTP request sent, awaiting response... 200 OK\n",
            "Length: 17387 (17K) [text/plain]\n",
            "Saving to: ‘tau_unsup.py’\n",
            "\n",
            "tau_unsup.py        100%[===================>]  16.98K  --.-KB/s    in 0s      \n",
            "\n",
            "2021-06-28 11:53:04 (107 MB/s) - ‘tau_unsup.py’ saved [17387/17387]\n",
            "\n"
          ],
          "name": "stdout"
        }
      ]
    },
    {
      "cell_type": "code",
      "metadata": {
        "id": "_oHXePpwunz1"
      },
      "source": [
        "import umap, tau_unsup as tau\n",
        "import warnings; warnings.simplefilter('ignore')\n",
        "from sklearn.cluster import KMeans\n",
        "from sklearn.metrics import silhouette_score as siluet\n",
        "from sklearn.metrics.cluster import homogeneity_score as purity\n",
        "from sklearn.metrics import normalized_mutual_info_score as NMI\n",
        "\n",
        "sns.set(style=\"ticks\", color_codes=True)"
      ],
      "execution_count": null,
      "outputs": []
    },
    {
      "cell_type": "code",
      "metadata": {
        "id": "FyH-BMiYuvlr",
        "colab": {
          "base_uri": "https://localhost:8080/"
        },
        "outputId": "f35f1c12-e88d-40cc-e464-f6d3e778a66d"
      },
      "source": [
        "# Mengubah dataframe menjadi array\n",
        "num_data = data1.drop('surat',axis=1)\n",
        "num_data.values"
      ],
      "execution_count": null,
      "outputs": [
        {
          "output_type": "execute_result",
          "data": {
            "text/plain": [
              "array([[6.822000e+08, 5.200000e+01, 4.400000e+01, 2.200000e+03,\n",
              "        1.000000e+00],\n",
              "       [2.100000e+09, 2.000000e+02, 1.620000e+02, 3.500000e+03,\n",
              "        0.000000e+00],\n",
              "       [2.900000e+09, 2.000000e+02, 1.020000e+02, 3.500000e+03,\n",
              "        1.000000e+00],\n",
              "       [4.900000e+09, 2.250000e+02, 1.490000e+02, 2.200000e+03,\n",
              "        2.000000e+00],\n",
              "       [2.800000e+09, 1.800000e+02, 1.200000e+02, 2.200000e+03,\n",
              "        2.000000e+00],\n",
              "       [5.900000e+09, 3.600000e+02, 2.400000e+02, 6.600000e+03,\n",
              "        1.000000e+00],\n",
              "       [3.700000e+09, 2.250000e+02, 1.300000e+02, 2.200000e+03,\n",
              "        2.000000e+00],\n",
              "       [1.200000e+09, 1.350000e+02, 9.100000e+01, 2.200000e+03,\n",
              "        1.000000e+00],\n",
              "       [3.200000e+09, 2.150000e+02, 1.350000e+02, 3.500000e+03,\n",
              "        1.000000e+00],\n",
              "       [2.500000e+09, 9.000000e+01, 1.780000e+02, 2.200000e+03,\n",
              "        1.000000e+00],\n",
              "       [3.400000e+09, 1.600000e+02, 1.200000e+02, 2.200000e+03,\n",
              "        1.000000e+00],\n",
              "       [1.900000e+09, 1.500000e+02, 1.920000e+02, 1.000000e+04,\n",
              "        0.000000e+00],\n",
              "       [2.200000e+09, 1.050000e+02, 1.140000e+02, 4.400000e+03,\n",
              "        1.000000e+00],\n",
              "       [6.420000e+08, 3.600000e+01, 5.500000e+01, 1.300000e+03,\n",
              "        0.000000e+00],\n",
              "       [5.900000e+09, 2.780000e+02, 3.500000e+02, 2.200000e+03,\n",
              "        2.000000e+00],\n",
              "       [1.210000e+09, 9.000000e+01, 8.700000e+01, 2.200000e+03,\n",
              "        1.000000e+00],\n",
              "       [1.800000e+09, 7.000000e+01, 7.200000e+01, 2.200000e+03,\n",
              "        1.000000e+00],\n",
              "       [3.500000e+09, 3.000000e+02, 1.500000e+02, 3.500000e+03,\n",
              "        2.000000e+00],\n",
              "       [9.000000e+08, 5.300000e+01, 5.000000e+01, 2.200000e+03,\n",
              "        0.000000e+00],\n",
              "       [7.850000e+08, 4.500000e+01, 5.300000e+01, 1.300000e+03,\n",
              "        0.000000e+00],\n",
              "       [6.300000e+09, 3.000000e+02, 1.870000e+02, 7.700000e+03,\n",
              "        0.000000e+00],\n",
              "       [3.600000e+09, 2.000000e+02, 1.200000e+02, 4.400000e+03,\n",
              "        1.000000e+00],\n",
              "       [4.500000e+09, 2.500000e+02, 1.600000e+02, 3.500000e+03,\n",
              "        1.000000e+00],\n",
              "       [2.200000e+09, 1.700000e+02, 1.700000e+02, 3.500000e+03,\n",
              "        2.000000e+00],\n",
              "       [4.950000e+08, 3.500000e+01, 2.000000e+01, 2.200000e+03,\n",
              "        0.000000e+00],\n",
              "       [2.250000e+09, 2.000000e+02, 2.310000e+02, 4.400000e+03,\n",
              "        3.000000e+00],\n",
              "       [3.500000e+09, 2.500000e+02, 1.600000e+02, 3.500000e+03,\n",
              "        2.000000e+00],\n",
              "       [8.800000e+08, 5.700000e+01, 7.000000e+01, 2.200000e+03,\n",
              "        2.000000e+00],\n",
              "       [3.700000e+09, 2.500000e+02, 1.950000e+02, 4.400000e+03,\n",
              "        1.000000e+00],\n",
              "       [8.800000e+09, 6.500000e+02, 2.300000e+02, 7.700000e+03,\n",
              "        2.000000e+00],\n",
              "       [6.300000e+09, 3.300000e+02, 2.760000e+02, 3.500000e+03,\n",
              "        1.000000e+00],\n",
              "       [3.600000e+09, 1.840000e+02, 2.450000e+02, 2.200000e+03,\n",
              "        2.000000e+00],\n",
              "       [1.200000e+09, 9.500000e+01, 8.300000e+01, 2.200000e+03,\n",
              "        1.000000e+00],\n",
              "       [1.750000e+09, 1.320000e+02, 7.400000e+01, 2.200000e+03,\n",
              "        1.000000e+00],\n",
              "       [2.500000e+09, 1.700000e+02, 9.000000e+01, 3.500000e+03,\n",
              "        0.000000e+00],\n",
              "       [2.000000e+09, 1.450000e+02, 9.000000e+01, 2.200000e+03,\n",
              "        2.000000e+00],\n",
              "       [9.000000e+08, 8.000000e+01, 1.050000e+02, 2.200000e+03,\n",
              "        1.000000e+00],\n",
              "       [1.600000e+09, 1.000000e+02, 1.360000e+02, 2.200000e+03,\n",
              "        1.000000e+00],\n",
              "       [2.750000e+09, 1.400000e+02, 1.200000e+02, 2.200000e+03,\n",
              "        0.000000e+00],\n",
              "       [6.783000e+09, 2.220000e+02, 2.400000e+02, 6.600000e+03,\n",
              "        2.000000e+00],\n",
              "       [1.495000e+09, 1.600000e+02, 1.240000e+02, 2.200000e+03,\n",
              "        2.000000e+00],\n",
              "       [1.400000e+09, 8.600000e+01, 7.200000e+01, 2.200000e+03,\n",
              "        1.000000e+00],\n",
              "       [5.700000e+09, 3.000000e+02, 1.540000e+02, 7.700000e+03,\n",
              "        1.000000e+00],\n",
              "       [9.000000e+08, 4.900000e+01, 4.300000e+01, 1.300000e+03,\n",
              "        1.000000e+00],\n",
              "       [7.950000e+08, 5.000000e+01, 2.500000e+01, 2.200000e+03,\n",
              "        1.000000e+00],\n",
              "       [5.500000e+08, 4.500000e+01, 1.360000e+02, 1.300000e+03,\n",
              "        1.000000e+00],\n",
              "       [2.975000e+09, 2.120000e+02, 1.280000e+02, 3.500000e+03,\n",
              "        1.000000e+00],\n",
              "       [1.750000e+09, 8.800000e+01, 1.200000e+02, 2.200000e+03,\n",
              "        1.000000e+00],\n",
              "       [1.190000e+09, 6.400000e+01, 4.500000e+01, 2.200000e+03,\n",
              "        1.000000e+00],\n",
              "       [3.750000e+09, 1.750000e+02, 1.650000e+02, 2.200000e+03,\n",
              "        2.000000e+00],\n",
              "       [1.550000e+09, 6.000000e+01, 7.900000e+01, 2.200000e+03,\n",
              "        2.000000e+00],\n",
              "       [1.990000e+09, 1.500000e+02, 9.600000e+01, 4.400000e+03,\n",
              "        1.000000e+00],\n",
              "       [3.500000e+09, 5.000000e+02, 3.900000e+02, 3.500000e+03,\n",
              "        5.000000e+00],\n",
              "       [5.500000e+09, 2.320000e+02, 1.740000e+02, 5.500000e+03,\n",
              "        2.000000e+00],\n",
              "       [1.500000e+09, 1.000000e+02, 7.000000e+01, 2.200000e+03,\n",
              "        1.000000e+00],\n",
              "       [1.300000e+09, 7.000000e+01, 9.000000e+01, 2.200000e+03,\n",
              "        1.000000e+00],\n",
              "       [2.000000e+08, 1.010000e+02, 9.700000e+01, 2.200000e+03,\n",
              "        0.000000e+00],\n",
              "       [3.000000e+09, 7.000000e+01, 9.000000e+01, 2.200000e+03,\n",
              "        1.000000e+00],\n",
              "       [7.000000e+09, 6.000000e+02, 3.320000e+02, 3.500000e+03,\n",
              "        1.000000e+00],\n",
              "       [2.300000e+09, 1.500000e+02, 7.400000e+01, 4.400000e+03,\n",
              "        1.000000e+00],\n",
              "       [3.250000e+08, 2.500000e+02, 1.600000e+02, 3.500000e+03,\n",
              "        1.000000e+00],\n",
              "       [3.100000e+09, 2.100000e+02, 2.580000e+02, 3.500000e+03,\n",
              "        0.000000e+00],\n",
              "       [1.300000e+09, 8.800000e+01, 1.050000e+02, 2.200000e+03,\n",
              "        2.000000e+00],\n",
              "       [1.100000e+09, 6.900000e+01, 9.000000e+01, 2.200000e+03,\n",
              "        2.000000e+00],\n",
              "       [2.450000e+08, 1.800000e+02, 1.200000e+02, 2.200000e+03,\n",
              "        3.000000e+00],\n",
              "       [1.400000e+08, 9.000000e+01, 1.020000e+02, 2.200000e+03,\n",
              "        1.000000e+00],\n",
              "       [3.000000e+09, 4.000000e+02, 2.290000e+02, 2.200000e+03,\n",
              "        0.000000e+00],\n",
              "       [5.500000e+08, 3.300000e+02, 2.160000e+02, 3.500000e+03,\n",
              "        4.000000e+00],\n",
              "       [7.500000e+08, 5.000000e+02, 3.500000e+02, 3.500000e+03,\n",
              "        5.000000e+00],\n",
              "       [4.800000e+09, 3.000000e+02, 3.200000e+02, 4.500000e+03,\n",
              "        2.000000e+00],\n",
              "       [5.000000e+09, 4.200000e+02, 3.130000e+02, 4.400000e+03,\n",
              "        2.000000e+00],\n",
              "       [4.500000e+08, 2.000000e+02, 3.300000e+02, 3.500000e+03,\n",
              "        4.000000e+00],\n",
              "       [1.500000e+09, 1.000000e+02, 1.280000e+02, 2.200000e+03,\n",
              "        0.000000e+00],\n",
              "       [1.200000e+09, 1.400000e+02, 8.000000e+01, 2.200000e+03,\n",
              "        1.000000e+00],\n",
              "       [3.551085e+09, 1.250000e+02, 1.430000e+02, 2.200000e+03,\n",
              "        2.000000e+00],\n",
              "       [4.100000e+09, 1.760000e+02, 1.840000e+02, 3.500000e+03,\n",
              "        3.000000e+00],\n",
              "       [9.500000e+09, 3.600000e+02, 3.780000e+02, 2.200000e+03,\n",
              "        1.000000e+00],\n",
              "       [2.250000e+09, 2.500000e+02, 1.700000e+02, 2.200000e+03,\n",
              "        3.000000e+00],\n",
              "       [4.500000e+09, 3.000000e+02, 3.500000e+02, 2.200000e+03,\n",
              "        2.000000e+00],\n",
              "       [1.580000e+09, 8.900000e+01, 1.020000e+02, 2.200000e+03,\n",
              "        1.000000e+00],\n",
              "       [2.500000e+09, 1.200000e+02, 1.350000e+02, 2.200000e+03,\n",
              "        0.000000e+00],\n",
              "       [7.000000e+08, 8.200000e+01, 7.200000e+01, 2.200000e+03,\n",
              "        0.000000e+00],\n",
              "       [1.200000e+09, 1.100000e+02, 5.500000e+01, 2.200000e+03,\n",
              "        0.000000e+00],\n",
              "       [8.000000e+09, 5.000000e+02, 3.250000e+02, 5.500000e+03,\n",
              "        1.000000e+00],\n",
              "       [2.200000e+09, 8.000000e+01, 1.200000e+02, 2.200000e+03,\n",
              "        1.000000e+00],\n",
              "       [1.175000e+09, 1.000000e+02, 8.900000e+01, 2.200000e+03,\n",
              "        2.000000e+00],\n",
              "       [2.250000e+09, 1.400000e+02, 1.070000e+02, 2.200000e+03,\n",
              "        2.000000e+00],\n",
              "       [6.500000e+09, 4.680000e+02, 4.170000e+02, 5.500000e+03,\n",
              "        4.000000e+00],\n",
              "       [6.600000e+09, 6.000000e+02, 1.080000e+03, 2.200000e+03,\n",
              "        4.000000e+00],\n",
              "       [1.700000e+09, 1.650000e+02, 1.000000e+02, 2.200000e+03,\n",
              "        2.000000e+00],\n",
              "       [8.750000e+08, 7.000000e+01, 7.200000e+01, 2.200000e+03,\n",
              "        1.000000e+00]])"
            ]
          },
          "metadata": {
            "tags": []
          },
          "execution_count": 26
        }
      ]
    },
    {
      "cell_type": "code",
      "metadata": {
        "id": "SE9AmmQxuwjp",
        "colab": {
          "base_uri": "https://localhost:8080/"
        },
        "outputId": "ea4bd21f-22af-4454-ae79-1918b08f4159"
      },
      "source": [
        "# Scaling data menggunakan MinMaxScaler \n",
        "from sklearn.preprocessing import MinMaxScaler\n",
        "mm = MinMaxScaler()\n",
        "data_scaled = mm.fit_transform(num_data)\n",
        "data_scaled[:5]"
      ],
      "execution_count": null,
      "outputs": [
        {
          "output_type": "execute_result",
          "data": {
            "text/plain": [
              "array([[0.05792735, 0.02764228, 0.02264151, 0.10344828, 0.2       ],\n",
              "       [0.20940171, 0.26829268, 0.13396226, 0.25287356, 0.        ],\n",
              "       [0.29487179, 0.26829268, 0.07735849, 0.25287356, 0.2       ],\n",
              "       [0.50854701, 0.30894309, 0.12169811, 0.10344828, 0.4       ],\n",
              "       [0.28418803, 0.23577236, 0.09433962, 0.10344828, 0.4       ]])"
            ]
          },
          "metadata": {
            "tags": []
          },
          "execution_count": 27
        }
      ]
    },
    {
      "cell_type": "code",
      "metadata": {
        "id": "aw8nl8L-u2zm",
        "colab": {
          "base_uri": "https://localhost:8080/"
        },
        "outputId": "1534a395-9a78-486f-ab2a-0d91a5201891"
      },
      "source": [
        "# Mengubah array menjadi dataframe\n",
        "data_scaled = pd.DataFrame(data_scaled)\n",
        "data_scaled.head()"
      ],
      "execution_count": null,
      "outputs": [
        {
          "output_type": "execute_result",
          "data": {
            "text/html": [
              "<div>\n",
              "<style scoped>\n",
              "    .dataframe tbody tr th:only-of-type {\n",
              "        vertical-align: middle;\n",
              "    }\n",
              "\n",
              "    .dataframe tbody tr th {\n",
              "        vertical-align: top;\n",
              "    }\n",
              "\n",
              "    .dataframe thead th {\n",
              "        text-align: right;\n",
              "    }\n",
              "</style>\n",
              "<table border=\"1\" class=\"dataframe\">\n",
              "  <thead>\n",
              "    <tr style=\"text-align: right;\">\n",
              "      <th></th>\n",
              "      <th>0</th>\n",
              "      <th>1</th>\n",
              "      <th>2</th>\n",
              "      <th>3</th>\n",
              "      <th>4</th>\n",
              "    </tr>\n",
              "  </thead>\n",
              "  <tbody>\n",
              "    <tr>\n",
              "      <th>0</th>\n",
              "      <td>0.057927</td>\n",
              "      <td>0.027642</td>\n",
              "      <td>0.022642</td>\n",
              "      <td>0.103448</td>\n",
              "      <td>0.2</td>\n",
              "    </tr>\n",
              "    <tr>\n",
              "      <th>1</th>\n",
              "      <td>0.209402</td>\n",
              "      <td>0.268293</td>\n",
              "      <td>0.133962</td>\n",
              "      <td>0.252874</td>\n",
              "      <td>0.0</td>\n",
              "    </tr>\n",
              "    <tr>\n",
              "      <th>2</th>\n",
              "      <td>0.294872</td>\n",
              "      <td>0.268293</td>\n",
              "      <td>0.077358</td>\n",
              "      <td>0.252874</td>\n",
              "      <td>0.2</td>\n",
              "    </tr>\n",
              "    <tr>\n",
              "      <th>3</th>\n",
              "      <td>0.508547</td>\n",
              "      <td>0.308943</td>\n",
              "      <td>0.121698</td>\n",
              "      <td>0.103448</td>\n",
              "      <td>0.4</td>\n",
              "    </tr>\n",
              "    <tr>\n",
              "      <th>4</th>\n",
              "      <td>0.284188</td>\n",
              "      <td>0.235772</td>\n",
              "      <td>0.094340</td>\n",
              "      <td>0.103448</td>\n",
              "      <td>0.4</td>\n",
              "    </tr>\n",
              "  </tbody>\n",
              "</table>\n",
              "</div>"
            ],
            "text/plain": [
              "          0         1         2         3    4\n",
              "0  0.057927  0.027642  0.022642  0.103448  0.2\n",
              "1  0.209402  0.268293  0.133962  0.252874  0.0\n",
              "2  0.294872  0.268293  0.077358  0.252874  0.2\n",
              "3  0.508547  0.308943  0.121698  0.103448  0.4\n",
              "4  0.284188  0.235772  0.094340  0.103448  0.4"
            ]
          },
          "metadata": {
            "tags": []
          },
          "execution_count": 28
        }
      ]
    },
    {
      "cell_type": "code",
      "metadata": {
        "id": "8ZfWR_Ygu224",
        "colab": {
          "base_uri": "https://localhost:8080/",
          "height": 393
        },
        "outputId": "e0a57de1-1f83-4c45-ed52-87c5650bd507"
      },
      "source": [
        "# Menggunakan Elbow Method untuk menentukan banyaknya cluster\n",
        "distorsions, k1, kN = [], 1, 10\n",
        "for k in range(k1, kN):\n",
        "    kmeans = KMeans(n_clusters=k).fit(data_scaled)\n",
        "    distorsions.append(kmeans.inertia_)\n",
        "plt.figure(figsize=(8, 6))\n",
        "plt.plot(range(k1, kN), distorsions); plt.grid(True)\n",
        "plt.title('Elbow curve');"
      ],
      "execution_count": null,
      "outputs": [
        {
          "output_type": "display_data",
          "data": {
            "image/png": "[encoded data removed]",
            "text/plain": [
              "<Figure size 576x432 with 1 Axes>"
            ]
          },
          "metadata": {
            "tags": []
          }
        }
      ]
    },
    {
      "cell_type": "code",
      "metadata": {
        "id": "BWJlwPH0u8om",
        "colab": {
          "base_uri": "https://localhost:8080/",
          "height": 233
        },
        "outputId": "3ff8cfc8-8e1d-439a-978e-0010baad0e61"
      },
      "source": [
        "# Apabila jumlah cluster = 2\n",
        "k=2\n",
        "kmPP2 = KMeans(n_clusters=k, init='k-means++', max_iter=300, tol=0.0001, n_jobs=-1, random_state = 99)\n",
        "kmPP2.fit(c_scaled)\n",
        "C_kmpp2 = kmPP2.predict(data_scaled)\n",
        " \n",
        "sns.countplot(C_kmpp2)\n",
        "C_kmpp2[:10]"
      ],
      "execution_count": null,
      "outputs": [
        {
          "output_type": "error",
          "ename": "NameError",
          "evalue": "ignored",
          "traceback": [
            "\u001b[0;31m---------------------------------------------------------------------------\u001b[0m",
            "\u001b[0;31mNameError\u001b[0m                                 Traceback (most recent call last)",
            "\u001b[0;32m<ipython-input-30-bea877c4192a>\u001b[0m in \u001b[0;36m<module>\u001b[0;34m()\u001b[0m\n\u001b[1;32m      2\u001b[0m \u001b[0mk\u001b[0m\u001b[0;34m=\u001b[0m\u001b[0;36m2\u001b[0m\u001b[0;34m\u001b[0m\u001b[0;34m\u001b[0m\u001b[0m\n\u001b[1;32m      3\u001b[0m \u001b[0mkmPP2\u001b[0m \u001b[0;34m=\u001b[0m \u001b[0mKMeans\u001b[0m\u001b[0;34m(\u001b[0m\u001b[0mn_clusters\u001b[0m\u001b[0;34m=\u001b[0m\u001b[0mk\u001b[0m\u001b[0;34m,\u001b[0m \u001b[0minit\u001b[0m\u001b[0;34m=\u001b[0m\u001b[0;34m'k-means++'\u001b[0m\u001b[0;34m,\u001b[0m \u001b[0mmax_iter\u001b[0m\u001b[0;34m=\u001b[0m\u001b[0;36m300\u001b[0m\u001b[0;34m,\u001b[0m \u001b[0mtol\u001b[0m\u001b[0;34m=\u001b[0m\u001b[0;36m0.0001\u001b[0m\u001b[0;34m,\u001b[0m \u001b[0mn_jobs\u001b[0m\u001b[0;34m=\u001b[0m\u001b[0;34m-\u001b[0m\u001b[0;36m1\u001b[0m\u001b[0;34m,\u001b[0m \u001b[0mrandom_state\u001b[0m \u001b[0;34m=\u001b[0m \u001b[0;36m99\u001b[0m\u001b[0;34m)\u001b[0m\u001b[0;34m\u001b[0m\u001b[0;34m\u001b[0m\u001b[0m\n\u001b[0;32m----> 4\u001b[0;31m \u001b[0mkmPP2\u001b[0m\u001b[0;34m.\u001b[0m\u001b[0mfit\u001b[0m\u001b[0;34m(\u001b[0m\u001b[0mc_scaled\u001b[0m\u001b[0;34m)\u001b[0m\u001b[0;34m\u001b[0m\u001b[0;34m\u001b[0m\u001b[0m\n\u001b[0m\u001b[1;32m      5\u001b[0m \u001b[0mC_kmpp2\u001b[0m \u001b[0;34m=\u001b[0m \u001b[0mkmPP2\u001b[0m\u001b[0;34m.\u001b[0m\u001b[0mpredict\u001b[0m\u001b[0;34m(\u001b[0m\u001b[0mdata_scaled\u001b[0m\u001b[0;34m)\u001b[0m\u001b[0;34m\u001b[0m\u001b[0;34m\u001b[0m\u001b[0m\n\u001b[1;32m      6\u001b[0m \u001b[0;34m\u001b[0m\u001b[0m\n",
            "\u001b[0;31mNameError\u001b[0m: name 'c_scaled' is not defined"
          ]
        }
      ]
    },
    {
      "cell_type": "code",
      "metadata": {
        "id": "lRMiVfhIu_8b"
      },
      "source": [
        "# Apabila jumlah cluster = 3\n",
        "k=3\n",
        "kmPP3 = KMeans(n_clusters=k, init='k-means++', max_iter=300, tol=0.0001, n_jobs=-1, random_state = 99)\n",
        "kmPP3.fit(c_scaled)\n",
        "C_kmpp3 = kmPP3.predict(data_scaled)\n",
        " \n",
        "sns.countplot(C_kmpp3)\n",
        "C_kmpp3[:10]"
      ],
      "execution_count": null,
      "outputs": []
    },
    {
      "cell_type": "code",
      "metadata": {
        "id": "gPtv-U7PvCYI"
      },
      "source": [
        "# Apabila jumlah cluster = 4\n",
        "k=4\n",
        "kmPP4 = KMeans(n_clusters=k, init='k-means++', max_iter=300, tol=0.0001, n_jobs=-1, random_state = 99)\n",
        "kmPP4.fit(c_scaled)\n",
        "C_kmpp4 = kmPP4.predict(data_scaled)\n",
        " \n",
        "sns.countplot(C_kmpp4)\n",
        "C_kmpp4[:10]"
      ],
      "execution_count": null,
      "outputs": []
    },
    {
      "cell_type": "code",
      "metadata": {
        "id": "BOfqd4zzvGc_"
      },
      "source": [
        "# Spherical menggunakan k=2\n",
        "X2D = umap.UMAP(random_state=99).fit_transform(data_scaled)\n",
        "fig, ax = plt.subplots()\n",
        "ax.scatter(X2D[:,0], X2D[:,1], c=C_kmpp2, cmap='Spectral');"
      ],
      "execution_count": null,
      "outputs": []
    },
    {
      "cell_type": "code",
      "metadata": {
        "id": "xKjUzg81vJbf"
      },
      "source": [
        "# Spherical menggunakan k=3\n",
        "fig, ax = plt.subplots()\n",
        "ax.scatter(X2D[:,0], X2D[:,1], c=C_kmpp3, cmap='Spectral');"
      ],
      "execution_count": null,
      "outputs": []
    },
    {
      "cell_type": "code",
      "metadata": {
        "id": "fLkmuoKQvMT6"
      },
      "source": [
        "# Spherical menggunakan k=4\n",
        "fig, ax = plt.subplots()\n",
        "ax.scatter(X2D[:,0], X2D[:,1], c=C_kmpp4, cmap='Spectral');"
      ],
      "execution_count": null,
      "outputs": []
    },
    {
      "cell_type": "code",
      "metadata": {
        "id": "lVOrUrKqvPDR"
      },
      "source": [
        "tau.sil_based_optimal_km()"
      ],
      "execution_count": null,
      "outputs": []
    },
    {
      "cell_type": "code",
      "metadata": {
        "id": "PEXiEDVQvTWc"
      },
      "source": [
        "Hasil_Clustering = [C_kmpp2, C_kmpp3, C_kmpp4]\n",
        "for res in Hasil_Clustering:\n",
        "    print(siluet(c_scaled,res), end=', ')"
      ],
      "execution_count": null,
      "outputs": []
    },
    {
      "cell_type": "code",
      "metadata": {
        "id": "tylD_152vVDH"
      },
      "source": [
        "kmPP4.cluster_centers_"
      ],
      "execution_count": null,
      "outputs": []
    },
    {
      "cell_type": "code",
      "metadata": {
        "id": "XJQQgKqgvYTm"
      },
      "source": [
        "# kami memilih cluster = 3 karena memiliki interpretability yang lebih baik dalam segi grafik \n",
        "cols = ['harga','LT','LB','carport','listrik']\n",
        "dfC = pd.DataFrame(kmPP3.cluster_centers_, columns=cols)\n",
        "dfC['cluster'] = dfC.index\n",
        " \n",
        "pd.plotting.parallel_coordinates(dfC, 'cluster', color=('r', 'g', 'b'))\n",
        "plt.show()"
      ],
      "execution_count": null,
      "outputs": []
    },
    {
      "cell_type": "markdown",
      "metadata": {
        "id": "iAhmxld76ryW"
      },
      "source": [
        "karakteristik cluster :\n",
        "\n",
        "1.   Cluster 0\n",
        "\n",
        "2.   Cluster 1\n",
        "\n",
        "3.   Cluster 2\n",
        "\n",
        "\n"
      ]
    },
    {
      "cell_type": "markdown",
      "metadata": {
        "id": "4QQLr3-NenI0"
      },
      "source": [
        "# **Kesimpulan**\n",
        "1.  Pada 100 data rumah kota jakarta di rumah.com didapat rata2 harga rumah yang telah kami analisis berkisar di 5,4 milyar,nah dari sekian rumah tersebut terdapat rumah yang paling mahal yaitu senilai 96 milyar dan yang paling murah 140 juta\n",
        "2.  Harga rumah tersebut sangat dipengaruhi oleh berapa luas bangunanya dan jumlah voltase listrik yang digunakan oleh karena itu penting untuk mempertimbangkan luas bangunan dan voltase listrik saat akan membeli rumah di daerah jakarta \n",
        "3.  Dari hasil clustering yang kami lakukan dapat dilihat bahwa terdapat 3 kluster yang dapat dibagi berdasarkan variabel harga \n",
        "cluster : \n",
        "Cluster 1(merah)  \n",
        "dari segi harga dan fasilitas yang didapatkan sudah mengikuti standar harga rumah,cocok bagi para pasangan yang baru menikah atau yang ingin memiliki rumah sederhana\n",
        "\n",
        "cluster 2(hijau)\n",
        "dari segi harga cukup mahal sedangkan luas tanah dan bangunanya serta fasilitasny masih dibilang kurang dibanding cluster 3(hipotesis : lokasi strategis)\n",
        "\n",
        "cluster 3(biru)\n",
        "harga cukup competitiv didukung dengan luas tanah dan bangunanya serta fasilitasnya yg lebih memadai\n",
        "\n",
        "**Saran pengambilan keputusan :**\n",
        "\n",
        "untuk para calon pembeli rumah sebaiknya mempertimbangkan untuk membeli rumah pada cluster 3 dikarenakan memiliki harga yang cukup kompetitif dan fasilitas yang cukup memadai \n",
        "\n"
      ]
    }
  ]
}